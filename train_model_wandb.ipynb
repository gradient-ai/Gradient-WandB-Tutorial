{
 "cells": [
  {
   "cell_type": "markdown",
   "id": "e9728fae-bfa6-42b6-80a3-038bb55fc7af",
   "metadata": {
    "gradient": {
     "editing": false,
     "id": "e9728fae-bfa6-42b6-80a3-038bb55fc7af",
     "kernelId": "0bebe956-eed4-4f15-b312-6f7872ce9933"
    }
   },
   "source": [
    "# Weights & Biases Walkthrough"
   ]
  },
  {
   "cell_type": "markdown",
   "id": "883566ec-a8d4-4275-8ade-8e6d5400475f",
   "metadata": {
    "gradient": {
     "editing": false,
     "id": "883566ec-a8d4-4275-8ade-8e6d5400475f",
     "kernelId": "0bebe956-eed4-4f15-b312-6f7872ce9933"
    }
   },
   "source": [
    "# Preface\n",
    "\n",
    "The goal of this tutorial is to show steps in Gradient to use the Weights & Biases Python library to track model runs and model parameters, create artifacts, and compare models to determine best performing model. \n",
    "\n",
    "The context of this tutorial will be to try test and track multiple values for learning rate and epochs for a ResNet model built in PyTorch."
   ]
  },
  {
   "cell_type": "markdown",
   "id": "eb3ee5bc-0b15-49bd-afaf-c7332018886c",
   "metadata": {
    "gradient": {
     "editing": false,
     "id": "eb3ee5bc-0b15-49bd-afaf-c7332018886c",
     "kernelId": "0bebe956-eed4-4f15-b312-6f7872ce9933"
    }
   },
   "source": [
    "\n",
    "# Installation and Setup"
   ]
  },
  {
   "cell_type": "code",
   "execution_count": null,
   "id": "2ec09825-b8c8-4e3b-b094-686b93c964e2",
   "metadata": {
    "collapsed": true,
    "gradient": {
     "editing": false,
     "id": "2ec09825-b8c8-4e3b-b094-686b93c964e2",
     "kernelId": "0bebe956-eed4-4f15-b312-6f7872ce9933",
     "source_hidden": false
    }
   },
   "outputs": [
    {
     "name": "stdout",
     "output_type": "stream",
     "text": [
      "\u001b[33mWARNING: Running pip as the 'root' user can result in broken permissions and conflicting behaviour with the system package manager. It is recommended to use a virtual environment instead: https://pip.pypa.io/warnings/venv\u001b[0m\r\n"
     ]
    }
   ],
   "source": [
    "!pip install wandb -q"
   ]
  },
  {
   "cell_type": "code",
   "execution_count": null,
   "id": "9a48fc36-dbab-4d2b-a579-61fc8122dd20",
   "metadata": {
    "collapsed": false,
    "gradient": {
     "editing": false,
     "id": "9a48fc36-dbab-4d2b-a579-61fc8122dd20",
     "kernelId": "0bebe956-eed4-4f15-b312-6f7872ce9933",
     "source_hidden": false
    }
   },
   "outputs": [],
   "source": [
    "import wandb\n",
    "import os\n",
    "\n",
    "os.environ[\"WANDB_NOTEBOOK_NAME\"] = \"./train_model_wandb.ipynb\""
   ]
  },
  {
   "cell_type": "markdown",
   "id": "c585a73f-8953-47d2-94f7-731f1a28204d",
   "metadata": {
    "gradient": {
     "editing": false,
     "id": "c585a73f-8953-47d2-94f7-731f1a28204d",
     "kernelId": "0bebe956-eed4-4f15-b312-6f7872ce9933"
    }
   },
   "source": [
    "# Login"
   ]
  },
  {
   "cell_type": "code",
   "execution_count": null,
   "id": "1dc53eb5-dc13-496d-a604-ee67aa94f839",
   "metadata": {
    "collapsed": false,
    "gradient": {
     "editing": false,
     "id": "1dc53eb5-dc13-496d-a604-ee67aa94f839",
     "kernelId": "0bebe956-eed4-4f15-b312-6f7872ce9933",
     "source_hidden": false
    }
   },
   "outputs": [
    {
     "name": "stderr",
     "output_type": "stream",
     "text": [
      "\u001b[34m\u001b[1mwandb\u001b[0m: W&B API key is configured (use `wandb login --relogin` to force relogin)\n"
     ]
    },
    {
     "name": "stderr",
     "output_type": "stream",
     "text": [
      "\u001b[34m\u001b[1mwandb\u001b[0m: \u001b[33mWARNING\u001b[0m If you're specifying your api key in code, ensure this code is not shared publicly.\n",
      "\u001b[34m\u001b[1mwandb\u001b[0m: \u001b[33mWARNING\u001b[0m Consider setting the WANDB_API_KEY environment variable, or running `wandb login` from the command line.\n"
     ]
    },
    {
     "name": "stderr",
     "output_type": "stream",
     "text": [
      "\u001b[34m\u001b[1mwandb\u001b[0m: Appending key for api.wandb.ai to your netrc file: /root/.netrc\n"
     ]
    },
    {
     "data": {
      "text/plain": [
       "True"
      ]
     },
     "execution_count": 3,
     "metadata": {},
     "output_type": "execute_result"
    }
   ],
   "source": [
    "wandb.login(key='1305ff3ca47ed8cd6735ba50a3b2f6697ff94916')"
   ]
  },
  {
   "cell_type": "code",
   "execution_count": null,
   "id": "1f154991-d6c5-4544-b949-9ce02a36137d",
   "metadata": {
    "collapsed": false,
    "gradient": {
     "editing": false,
     "id": "1f154991-d6c5-4544-b949-9ce02a36137d",
     "kernelId": "0bebe956-eed4-4f15-b312-6f7872ce9933",
     "source_hidden": false
    }
   },
   "outputs": [],
   "source": [
    "wandb.login(key='<your-wandb-api-key>')"
   ]
  },
  {
   "cell_type": "markdown",
   "id": "8e32c911-123d-40a2-a45c-473200b97a13",
   "metadata": {
    "gradient": {
     "editing": false,
     "id": "8e32c911-123d-40a2-a45c-473200b97a13",
     "kernelId": "0bebe956-eed4-4f15-b312-6f7872ce9933"
    }
   },
   "source": [
    "# Initalizing a Model Run and Logging"
   ]
  },
  {
   "cell_type": "code",
   "execution_count": null,
   "id": "aea40ccc-0eb1-4638-8983-1e7fce90a891",
   "metadata": {
    "collapsed": false,
    "gradient": {
     "editing": false,
     "id": "aea40ccc-0eb1-4638-8983-1e7fce90a891",
     "kernelId": "0bebe956-eed4-4f15-b312-6f7872ce9933",
     "source_hidden": false
    }
   },
   "outputs": [],
   "source": [
    "config={\n",
    "         \"epochs\": 5,\n",
    "         \"batch_size\": 128,\n",
    "         \"lr\": 1e-3,\n",
    "        }"
   ]
  },
  {
   "cell_type": "markdown",
   "id": "c198093b-8d60-40ce-b1c3-7c40007906d1",
   "metadata": {
    "gradient": {
     "editing": false,
     "id": "c198093b-8d60-40ce-b1c3-7c40007906d1",
     "kernelId": "0bebe956-eed4-4f15-b312-6f7872ce9933"
    }
   },
   "source": [
    "### Train ResNet 18"
   ]
  },
  {
   "cell_type": "code",
   "execution_count": null,
   "id": "9329f15f-6b9f-439f-858f-0f978620df47",
   "metadata": {
    "collapsed": false,
    "gradient": {
     "editing": false,
     "id": "9329f15f-6b9f-439f-858f-0f978620df47",
     "kernelId": "0bebe956-eed4-4f15-b312-6f7872ce9933",
     "source_hidden": false
    }
   },
   "outputs": [
    {
     "name": "stdout",
     "output_type": "stream",
     "text": [
      "Files already downloaded and verified\n"
     ]
    },
    {
     "name": "stdout",
     "output_type": "stream",
     "text": [
      "Files already downloaded and verified\n"
     ]
    }
   ],
   "source": [
    "import time\n",
    "import torch.nn as nn\n",
    "import torch.optim as optim\n",
    "import torch\n",
    "\n",
    "from resnet import resnet18, resnet34\n",
    "from load_data import trainloader, valloader"
   ]
  },
  {
   "cell_type": "code",
   "execution_count": null,
   "id": "54f772b1-3f33-4daa-ab3d-ef52b054b0ff",
   "metadata": {
    "collapsed": false,
    "gradient": {
     "editing": false,
     "id": "54f772b1-3f33-4daa-ab3d-ef52b054b0ff",
     "kernelId": "0bebe956-eed4-4f15-b312-6f7872ce9933",
     "source_hidden": false
    }
   },
   "outputs": [],
   "source": [
    "def validate_model(model, valid_dl, loss_func, device):\n",
    "    \n",
    "    # Compute performance of the model on the validation dataset\n",
    "    model.eval()\n",
    "    val_loss = 0.\n",
    "    with torch.inference_mode():\n",
    "        correct = 0\n",
    "        for i, (images, labels) in enumerate(valid_dl, 0):\n",
    "            images, labels = images.to(device), labels.to(device)\n",
    "\n",
    "            # Forward pass\n",
    "            outputs = model(images)\n",
    "            val_loss += loss_func(outputs, labels)*labels.size(0)\n",
    "\n",
    "            # Compute accuracy and accumulate\n",
    "            _, predicted = torch.max(outputs.data, 1)\n",
    "            correct += (predicted == labels).sum().item()\n",
    "\n",
    "    return val_loss / len(valid_dl.dataset), correct / len(valid_dl.dataset)"
   ]
  },
  {
   "cell_type": "code",
   "execution_count": null,
   "id": "6df04398-e565-4b08-812b-d85c79046e90",
   "metadata": {
    "collapsed": false,
    "gradient": {
     "editing": false,
     "id": "6df04398-e565-4b08-812b-d85c79046e90",
     "kernelId": "0bebe956-eed4-4f15-b312-6f7872ce9933",
     "source_hidden": false
    }
   },
   "outputs": [
    {
     "data": {
      "text/html": [
       "\n",
       "                    Syncing run <strong><a href=\"https://wandb.ai/joshuapaperspace/test-project/runs/3u6wl841\" target=\"_blank\">ResNet18</a></strong> to <a href=\"https://wandb.ai/joshuapaperspace/test-project\" target=\"_blank\">Weights & Biases</a> (<a href=\"https://docs.wandb.com/integrations/jupyter.html\" target=\"_blank\">docs</a>).<br/>\n",
       "\n",
       "                "
      ],
      "text/plain": [
       "<IPython.core.display.HTML object>"
      ]
     },
     "metadata": {},
     "output_type": "display_data",
     "transient": {}
    },
    {
     "name": "stdout",
     "output_type": "stream",
     "text": [
      "epoch: 0.125\n",
      "[1,    50] loss: 1.855\n"
     ]
    },
    {
     "name": "stdout",
     "output_type": "stream",
     "text": [
      "epoch: 0.25\n",
      "[1,   100] loss: 1.515\n"
     ]
    },
    {
     "name": "stdout",
     "output_type": "stream",
     "text": [
      "epoch: 0.375\n",
      "[1,   150] loss: 1.428\n"
     ]
    },
    {
     "name": "stdout",
     "output_type": "stream",
     "text": [
      "epoch: 0.5\n",
      "[1,   200] loss: 1.317\n"
     ]
    },
    {
     "name": "stdout",
     "output_type": "stream",
     "text": [
      "epoch: 0.625\n",
      "[1,   250] loss: 1.249\n"
     ]
    },
    {
     "name": "stdout",
     "output_type": "stream",
     "text": [
      "epoch: 0.75\n",
      "[1,   300] loss: 1.222\n"
     ]
    },
    {
     "name": "stdout",
     "output_type": "stream",
     "text": [
      "epoch: 0.875\n",
      "[1,   350] loss: 1.181\n"
     ]
    },
    {
     "name": "stdout",
     "output_type": "stream",
     "text": [
      "epoch: 1.0\n",
      "[1,   400] loss: 1.129\n"
     ]
    },
    {
     "name": "stdout",
     "output_type": "stream",
     "text": [
      "Valid Loss: 1.187888, accuracy: 0.59\n"
     ]
    },
    {
     "name": "stdout",
     "output_type": "stream",
     "text": [
      "epoch: 1.125\n",
      "[2,    50] loss: 0.991\n"
     ]
    },
    {
     "name": "stdout",
     "output_type": "stream",
     "text": [
      "epoch: 1.25\n",
      "[2,   100] loss: 0.960\n"
     ]
    },
    {
     "name": "stdout",
     "output_type": "stream",
     "text": [
      "epoch: 1.375\n",
      "[2,   150] loss: 0.944\n"
     ]
    },
    {
     "name": "stdout",
     "output_type": "stream",
     "text": [
      "epoch: 1.5\n",
      "[2,   200] loss: 0.984\n"
     ]
    },
    {
     "name": "stdout",
     "output_type": "stream",
     "text": [
      "epoch: 1.625\n",
      "[2,   250] loss: 0.938\n"
     ]
    },
    {
     "name": "stdout",
     "output_type": "stream",
     "text": [
      "epoch: 1.75\n",
      "[2,   300] loss: 0.932\n"
     ]
    },
    {
     "name": "stdout",
     "output_type": "stream",
     "text": [
      "epoch: 1.875\n",
      "[2,   350] loss: 0.920\n"
     ]
    },
    {
     "name": "stdout",
     "output_type": "stream",
     "text": [
      "epoch: 2.0\n",
      "[2,   400] loss: 0.918\n"
     ]
    },
    {
     "name": "stdout",
     "output_type": "stream",
     "text": [
      "Valid Loss: 1.026815, accuracy: 0.65\n"
     ]
    },
    {
     "name": "stdout",
     "output_type": "stream",
     "text": [
      "epoch: 2.125\n",
      "[3,    50] loss: 0.729\n"
     ]
    },
    {
     "name": "stdout",
     "output_type": "stream",
     "text": [
      "epoch: 2.25\n",
      "[3,   100] loss: 0.719\n"
     ]
    },
    {
     "name": "stdout",
     "output_type": "stream",
     "text": [
      "epoch: 2.375\n",
      "[3,   150] loss: 0.746\n"
     ]
    },
    {
     "name": "stdout",
     "output_type": "stream",
     "text": [
      "epoch: 2.5\n",
      "[3,   200] loss: 0.741\n"
     ]
    },
    {
     "name": "stdout",
     "output_type": "stream",
     "text": [
      "epoch: 2.625\n",
      "[3,   250] loss: 0.772\n"
     ]
    },
    {
     "name": "stdout",
     "output_type": "stream",
     "text": [
      "epoch: 2.75\n",
      "[3,   300] loss: 0.782\n"
     ]
    },
    {
     "name": "stdout",
     "output_type": "stream",
     "text": [
      "epoch: 2.875\n",
      "[3,   350] loss: 0.750\n"
     ]
    },
    {
     "name": "stdout",
     "output_type": "stream",
     "text": [
      "epoch: 3.0\n",
      "[3,   400] loss: 0.794\n"
     ]
    },
    {
     "name": "stdout",
     "output_type": "stream",
     "text": [
      "Valid Loss: 1.016920, accuracy: 0.65\n"
     ]
    },
    {
     "name": "stdout",
     "output_type": "stream",
     "text": [
      "epoch: 3.125\n",
      "[4,    50] loss: 0.530\n"
     ]
    },
    {
     "name": "stdout",
     "output_type": "stream",
     "text": [
      "epoch: 3.25\n",
      "[4,   100] loss: 0.563\n"
     ]
    },
    {
     "name": "stdout",
     "output_type": "stream",
     "text": [
      "epoch: 3.375\n",
      "[4,   150] loss: 0.602\n"
     ]
    },
    {
     "name": "stdout",
     "output_type": "stream",
     "text": [
      "epoch: 3.5\n",
      "[4,   200] loss: 0.628\n"
     ]
    },
    {
     "name": "stdout",
     "output_type": "stream",
     "text": [
      "epoch: 3.625\n",
      "[4,   250] loss: 0.640\n"
     ]
    },
    {
     "name": "stdout",
     "output_type": "stream",
     "text": [
      "epoch: 3.75\n",
      "[4,   300] loss: 0.638\n"
     ]
    },
    {
     "name": "stdout",
     "output_type": "stream",
     "text": [
      "epoch: 3.875\n",
      "[4,   350] loss: 0.634\n"
     ]
    },
    {
     "name": "stdout",
     "output_type": "stream",
     "text": [
      "epoch: 4.0\n",
      "[4,   400] loss: 0.643\n"
     ]
    },
    {
     "name": "stdout",
     "output_type": "stream",
     "text": [
      "Valid Loss: 0.990716, accuracy: 0.67\n"
     ]
    },
    {
     "name": "stdout",
     "output_type": "stream",
     "text": [
      "epoch: 4.125\n",
      "[5,    50] loss: 0.413\n"
     ]
    },
    {
     "name": "stdout",
     "output_type": "stream",
     "text": [
      "epoch: 4.25\n",
      "[5,   100] loss: 0.403\n"
     ]
    },
    {
     "name": "stdout",
     "output_type": "stream",
     "text": [
      "epoch: 4.375\n",
      "[5,   150] loss: 0.434\n"
     ]
    },
    {
     "name": "stdout",
     "output_type": "stream",
     "text": [
      "epoch: 4.5\n",
      "[5,   200] loss: 0.446\n"
     ]
    },
    {
     "name": "stdout",
     "output_type": "stream",
     "text": [
      "epoch: 4.625\n",
      "[5,   250] loss: 0.489\n"
     ]
    },
    {
     "name": "stdout",
     "output_type": "stream",
     "text": [
      "epoch: 4.75\n",
      "[5,   300] loss: 0.517\n"
     ]
    },
    {
     "name": "stdout",
     "output_type": "stream",
     "text": [
      "epoch: 4.875\n",
      "[5,   350] loss: 0.541\n"
     ]
    },
    {
     "name": "stdout",
     "output_type": "stream",
     "text": [
      "epoch: 5.0\n",
      "[5,   400] loss: 0.547\n"
     ]
    },
    {
     "name": "stdout",
     "output_type": "stream",
     "text": [
      "Valid Loss: 1.019831, accuracy: 0.68\n"
     ]
    },
    {
     "data": {
      "text/html": [
       "<br/>Waiting for W&B process to finish, PID 44893... <strong style=\"color:green\">(success).</strong>"
      ],
      "text/plain": [
       "<IPython.core.display.HTML object>"
      ]
     },
     "metadata": {},
     "output_type": "display_data",
     "transient": {}
    },
    {
     "data": {
      "text/html": [
       "<style>\n",
       "    table.wandb td:nth-child(1) { padding: 0 10px; text-align: right }\n",
       "    .wandb-row { display: flex; flex-direction: row; flex-wrap: wrap; width: 100% }\n",
       "    .wandb-col { display: flex; flex-direction: column; flex-basis: 100%; flex: 1; padding: 10px; }\n",
       "    </style>\n",
       "<div class=\"wandb-row\"><div class=\"wandb-col\">\n",
       "<h3>Run history:</h3><br/><table class=\"wandb\"><tr><td>avg epoch runtime (seconds)</td><td>▁</td></tr><tr><td>epoch</td><td>▁▁▁▂▂▂▂▂▂▃▃▃▃▃▄▄▄▄▄▄▅▅▅▅▅▅▆▆▆▆▆▇▇▇▇▇▇███</td></tr><tr><td>epoch_runtime (seconds)</td><td>▁█▃▁▄</td></tr><tr><td>train_loss</td><td>█▆▆▅▅▅▅▅▄▄▄▄▄▄▃▃▃▃▃▃▃▃▃▃▂▂▂▂▂▂▂▂▁▁▁▁▁▂▂▂</td></tr><tr><td>val_accuracy</td><td>▁▆▆██</td></tr><tr><td>val_loss</td><td>█▂▂▁▂</td></tr></table><br/></div><div class=\"wandb-col\">\n",
       "<h3>Run summary:</h3><br/><table class=\"wandb\"><tr><td>avg epoch runtime (seconds)</td><td>4.95499</td></tr><tr><td>epoch</td><td>5.0</td></tr><tr><td>epoch_runtime (seconds)</td><td>4.98119</td></tr><tr><td>train_loss</td><td>0.54706</td></tr><tr><td>val_accuracy</td><td>0.6765</td></tr><tr><td>val_loss</td><td>1.01983</td></tr></table>\n",
       "</div></div>\n",
       "Synced 5 W&B file(s), 0 media file(s), 0 artifact file(s) and 0 other file(s)\n",
       "<br/>Synced <strong style=\"color:#cdcd00\">ResNet18</strong>: <a href=\"https://wandb.ai/joshuapaperspace/test-project/runs/3u6wl841\" target=\"_blank\">https://wandb.ai/joshuapaperspace/test-project/runs/3u6wl841</a><br/>\n",
       "Find logs at: <code>./wandb/run-20220217_161803-3u6wl841/logs</code><br/>\n"
      ],
      "text/plain": [
       "<IPython.core.display.HTML object>"
      ]
     },
     "metadata": {},
     "output_type": "display_data",
     "transient": {}
    },
    {
     "name": "stdout",
     "output_type": "stream",
     "text": [
      "Training Finished\n"
     ]
    }
   ],
   "source": [
    "model_name = 'ResNet18'\n",
    "\n",
    "with wandb.init(project=\"test-project\", config=config, name=model_name):\n",
    "\n",
    "    model = resnet18(3, 10)\n",
    "    criterion = nn.CrossEntropyLoss()\n",
    "    optimizer = optim.SGD(model.parameters(), lr=config['lr'], momentum=0.9)\n",
    "\n",
    "    device = torch.device(\"cuda:0\" if torch.cuda.is_available() else \"cpu\")\n",
    "    model.to(device)\n",
    "\n",
    "    step = 0\n",
    "    epoch_durations = []\n",
    "    for epoch in range(config['epochs']):\n",
    "        \n",
    "        epoch_start_time = time.time()\n",
    "        batch_checkpoint=50\n",
    "        running_loss = 0.0\n",
    "        model.train()\n",
    "\n",
    "        for i, data in enumerate(trainloader, 0):\n",
    "        \n",
    "            inputs, labels = data[0].to(device), data[1].to(device)\n",
    "            \n",
    "            # Zero the parameter gradients\n",
    "            optimizer.zero_grad()\n",
    "            \n",
    "            # Forward + Backward + Optimize\n",
    "            outputs = model(inputs)\n",
    "            loss = criterion(outputs, labels)\n",
    "            loss.backward()\n",
    "            optimizer.step()\n",
    "        \n",
    "            running_loss += loss.item()\n",
    "            \n",
    "            # log every 50 mini-batches\n",
    "            if i % batch_checkpoint == batch_checkpoint-1:    # log every 50 mini-batches\n",
    "                step +=1\n",
    "                print('epoch:', epoch + ((i+1)/len(trainloader)))\n",
    "                wandb.log({\"train_loss\": running_loss/batch_checkpoint, \"epoch\": epoch + ((i+1)/len(trainloader))}, step=step)\n",
    "            \n",
    "                print('[%d, %5d] loss: %.3f' %\n",
    "                    (epoch + 1, i + 1, running_loss / batch_checkpoint))\n",
    "                    \n",
    "                running_loss = 0.0\n",
    "\n",
    "        # Log validation metrics\n",
    "        val_loss, accuracy = validate_model(model, valloader, criterion, device)\n",
    "        wandb.log({\"val_loss\": val_loss, \"val_accuracy\": accuracy}, step=step)\n",
    "        print(f\"Valid Loss: {val_loss:3f}, accuracy: {accuracy:.2f}\")\n",
    "        \n",
    "        epoch_duration = time.time() - epoch_start_time\n",
    "        wandb.log({\"epoch_runtime (seconds)\": epoch_duration}, step=step)\n",
    "\n",
    "        epoch_durations.append(epoch_duration)\n",
    "\n",
    "    avg_epoch_runtime = sum(epoch_durations) / len(epoch_durations)\n",
    "    wandb.log({\"avg epoch runtime (seconds)\": avg_epoch_runtime})\n",
    "\n",
    "print('Training Finished')"
   ]
  },
  {
   "cell_type": "markdown",
   "id": "ba5ab816-312d-4aa6-b4b5-36c0b6482c58",
   "metadata": {
    "gradient": {
     "editing": false,
     "id": "ba5ab816-312d-4aa6-b4b5-36c0b6482c58",
     "kernelId": "0bebe956-eed4-4f15-b312-6f7872ce9933"
    }
   },
   "source": [
    "### Train ResNet34"
   ]
  },
  {
   "cell_type": "code",
   "execution_count": null,
   "id": "120b9fc6-e027-4443-9197-42fe8fe109bf",
   "metadata": {
    "collapsed": false,
    "gradient": {
     "editing": false,
     "id": "120b9fc6-e027-4443-9197-42fe8fe109bf",
     "kernelId": "0bebe956-eed4-4f15-b312-6f7872ce9933",
     "source_hidden": false
    }
   },
   "outputs": [
    {
     "data": {
      "text/html": [
       "\n",
       "                    Syncing run <strong><a href=\"https://wandb.ai/joshuapaperspace/test-project/runs/37xj1e3n\" target=\"_blank\">ResNet34</a></strong> to <a href=\"https://wandb.ai/joshuapaperspace/test-project\" target=\"_blank\">Weights & Biases</a> (<a href=\"https://docs.wandb.com/integrations/jupyter.html\" target=\"_blank\">docs</a>).<br/>\n",
       "\n",
       "                "
      ],
      "text/plain": [
       "<IPython.core.display.HTML object>"
      ]
     },
     "metadata": {},
     "output_type": "display_data",
     "transient": {}
    },
    {
     "name": "stdout",
     "output_type": "stream",
     "text": [
      "epoch: 0.125\n",
      "[1,    50] loss: 1.997\n"
     ]
    },
    {
     "name": "stdout",
     "output_type": "stream",
     "text": [
      "epoch: 0.25\n",
      "[1,   100] loss: 1.594\n"
     ]
    },
    {
     "name": "stdout",
     "output_type": "stream",
     "text": [
      "epoch: 0.375\n",
      "[1,   150] loss: 1.452\n"
     ]
    },
    {
     "name": "stdout",
     "output_type": "stream",
     "text": [
      "epoch: 0.5\n",
      "[1,   200] loss: 1.342\n"
     ]
    },
    {
     "name": "stdout",
     "output_type": "stream",
     "text": [
      "epoch: 0.625\n",
      "[1,   250] loss: 1.284\n"
     ]
    },
    {
     "name": "stdout",
     "output_type": "stream",
     "text": [
      "epoch: 0.75\n",
      "[1,   300] loss: 1.223\n"
     ]
    },
    {
     "name": "stdout",
     "output_type": "stream",
     "text": [
      "epoch: 0.875\n",
      "[1,   350] loss: 1.198\n"
     ]
    },
    {
     "name": "stdout",
     "output_type": "stream",
     "text": [
      "epoch: 1.0\n",
      "[1,   400] loss: 1.109\n"
     ]
    },
    {
     "name": "stdout",
     "output_type": "stream",
     "text": [
      "epoch: 1.125\n",
      "[2,    50] loss: 0.964\n"
     ]
    },
    {
     "name": "stdout",
     "output_type": "stream",
     "text": [
      "epoch: 1.25\n",
      "[2,   100] loss: 1.000\n"
     ]
    },
    {
     "name": "stdout",
     "output_type": "stream",
     "text": [
      "epoch: 1.375\n",
      "[2,   150] loss: 0.952\n"
     ]
    },
    {
     "name": "stdout",
     "output_type": "stream",
     "text": [
      "epoch: 1.5\n",
      "[2,   200] loss: 0.967\n"
     ]
    },
    {
     "name": "stdout",
     "output_type": "stream",
     "text": [
      "epoch: 1.625\n",
      "[2,   250] loss: 0.953\n"
     ]
    },
    {
     "name": "stdout",
     "output_type": "stream",
     "text": [
      "epoch: 1.75\n",
      "[2,   300] loss: 0.942\n"
     ]
    },
    {
     "name": "stdout",
     "output_type": "stream",
     "text": [
      "epoch: 1.875\n",
      "[2,   350] loss: 0.926\n"
     ]
    },
    {
     "name": "stdout",
     "output_type": "stream",
     "text": [
      "epoch: 2.0\n",
      "[2,   400] loss: 0.927\n"
     ]
    },
    {
     "name": "stdout",
     "output_type": "stream",
     "text": [
      "epoch: 2.125\n",
      "[3,    50] loss: 0.731\n"
     ]
    },
    {
     "name": "stdout",
     "output_type": "stream",
     "text": [
      "epoch: 2.25\n",
      "[3,   100] loss: 0.741\n"
     ]
    },
    {
     "name": "stdout",
     "output_type": "stream",
     "text": [
      "epoch: 2.375\n",
      "[3,   150] loss: 0.760\n"
     ]
    },
    {
     "name": "stdout",
     "output_type": "stream",
     "text": [
      "epoch: 2.5\n",
      "[3,   200] loss: 0.752\n"
     ]
    },
    {
     "name": "stdout",
     "output_type": "stream",
     "text": [
      "epoch: 2.625\n",
      "[3,   250] loss: 0.745\n"
     ]
    },
    {
     "name": "stdout",
     "output_type": "stream",
     "text": [
      "epoch: 2.75\n",
      "[3,   300] loss: 0.746\n"
     ]
    },
    {
     "name": "stdout",
     "output_type": "stream",
     "text": [
      "epoch: 2.875\n",
      "[3,   350] loss: 0.743\n"
     ]
    },
    {
     "name": "stdout",
     "output_type": "stream",
     "text": [
      "epoch: 3.0\n",
      "[3,   400] loss: 0.742\n"
     ]
    },
    {
     "data": {
      "text/html": [
       "<br/>Waiting for W&B process to finish, PID 1343... <strong style=\"color:green\">(success).</strong>"
      ],
      "text/plain": [
       "<IPython.core.display.HTML object>"
      ]
     },
     "metadata": {},
     "output_type": "display_data",
     "transient": {}
    },
    {
     "data": {
      "text/html": [
       "<style>\n",
       "    table.wandb td:nth-child(1) { padding: 0 10px; text-align: right }\n",
       "    .wandb-row { display: flex; flex-direction: row; flex-wrap: wrap; width: 100% }\n",
       "    .wandb-col { display: flex; flex-direction: column; flex-basis: 100%; flex: 1; padding: 10px; }\n",
       "    </style>\n",
       "<div class=\"wandb-row\"><div class=\"wandb-col\">\n",
       "<h3>Run history:</h3><br/><table class=\"wandb\"><tr><td>epoch</td><td>▁▁▂▂▂▃▃▃▃▄▄▄▅▅▅▆▆▆▆▇▇▇██</td></tr><tr><td>epoch_runtime (seconds)</td><td>▁▃█</td></tr><tr><td>train_loss</td><td>█▆▅▄▄▄▄▃▂▂▂▂▂▂▂▂▁▁▁▁▁▁▁▁</td></tr></table><br/></div><div class=\"wandb-col\">\n",
       "<h3>Run summary:</h3><br/><table class=\"wandb\"><tr><td>epoch</td><td>3.0</td></tr><tr><td>epoch_runtime (seconds)</td><td>23.74247</td></tr><tr><td>train_loss</td><td>0.74153</td></tr></table>\n",
       "</div></div>\n",
       "Synced 5 W&B file(s), 0 media file(s), 0 artifact file(s) and 0 other file(s)\n",
       "<br/>Synced <strong style=\"color:#cdcd00\">ResNet34</strong>: <a href=\"https://wandb.ai/joshuapaperspace/test-project/runs/37xj1e3n\" target=\"_blank\">https://wandb.ai/joshuapaperspace/test-project/runs/37xj1e3n</a><br/>\n",
       "Find logs at: <code>./wandb/run-20220216_230145-37xj1e3n/logs</code><br/>\n"
      ],
      "text/plain": [
       "<IPython.core.display.HTML object>"
      ]
     },
     "metadata": {},
     "output_type": "display_data",
     "transient": {}
    },
    {
     "name": "stdout",
     "output_type": "stream",
     "text": [
      "Training Finished\n"
     ]
    }
   ],
   "source": [
    "model_name = 'ResNet34'\n",
    "\n",
    "with wandb.init(project=\"test-project\", config=config, name=model_name):\n",
    "\n",
    "    model = resnet34(3, 10)\n",
    "    criterion = nn.CrossEntropyLoss()\n",
    "    optimizer = optim.SGD(model.parameters(), lr=config['lr'], momentum=0.9)\n",
    "\n",
    "    device = torch.device(\"cuda:0\" if torch.cuda.is_available() else \"cpu\")\n",
    "    model.to(device)\n",
    "\n",
    "    step = 0\n",
    "    epoch_durations = []\n",
    "    for epoch in range(config['epochs']):\n",
    "        \n",
    "        epoch_start_time = time.time()\n",
    "        batch_checkpoint=50\n",
    "        running_loss = 0.0\n",
    "        model.train()\n",
    "\n",
    "        for i, data in enumerate(trainloader, 0):\n",
    "        \n",
    "            inputs, labels = data[0].to(device), data[1].to(device)\n",
    "            \n",
    "            # Zero the parameter gradients\n",
    "            optimizer.zero_grad()\n",
    "            \n",
    "            # Forward + Backward + Optimize\n",
    "            outputs = model(inputs)\n",
    "            loss = criterion(outputs, labels)\n",
    "            loss.backward()\n",
    "            optimizer.step()\n",
    "        \n",
    "            running_loss += loss.item()\n",
    "            \n",
    "            # log every 50 mini-batches\n",
    "            if i % batch_checkpoint == batch_checkpoint-1:    # log every 50 mini-batches\n",
    "                step +=1\n",
    "                print('epoch:', epoch + ((i+1)/len(trainloader)))\n",
    "                wandb.log({\"train_loss\": running_loss/batch_checkpoint, \"epoch\": epoch + ((i+1)/len(trainloader))}, step=step)\n",
    "            \n",
    "                print('[%d, %5d] loss: %.3f' %\n",
    "                    (epoch + 1, i + 1, running_loss / batch_checkpoint))\n",
    "                    \n",
    "                running_loss = 0.0\n",
    "\n",
    "        # Log validation metrics\n",
    "        val_loss, accuracy = validate_model(model, valloader, criterion, device)\n",
    "        wandb.log({\"val_loss\": val_loss, \"val_accuracy\": accuracy}, step=step)\n",
    "        print(f\"Valid Loss: {val_loss:3f}, accuracy: {accuracy:.2f}\")\n",
    "        \n",
    "        epoch_duration = time.time() - epoch_start_time\n",
    "        wandb.log({\"epoch_runtime (seconds)\": epoch_duration}, step=step)\n",
    "\n",
    "        epoch_durations.append(epoch_duration)\n",
    "\n",
    "    avg_epoch_runtime = sum(epoch_durations) / len(epoch_durations)\n",
    "    wandb.log({\"avg epoch runtime (seconds)\": avg_epoch_runtime})\n",
    "\n",
    "print('Training Finished')"
   ]
  },
  {
   "cell_type": "markdown",
   "id": "b635c65c-702a-42e6-bdd6-24f2e742d897",
   "metadata": {
    "gradient": {
     "editing": false,
     "id": "b635c65c-702a-42e6-bdd6-24f2e742d897",
     "kernelId": "0bebe956-eed4-4f15-b312-6f7872ce9933"
    }
   },
   "source": [
    "# Artifacts"
   ]
  },
  {
   "cell_type": "code",
   "execution_count": null,
   "id": "42c1d34a-d8dc-4eac-8b95-6c11417c6c9d",
   "metadata": {
    "collapsed": false,
    "gradient": {
     "editing": false,
     "id": "42c1d34a-d8dc-4eac-8b95-6c11417c6c9d",
     "kernelId": "0bebe956-eed4-4f15-b312-6f7872ce9933",
     "source_hidden": false
    }
   },
   "outputs": [
    {
     "data": {
      "text/html": [
       "\n",
       "                    Syncing run <strong><a href=\"https://wandb.ai/joshuapaperspace/test-project/runs/1eniqou3\" target=\"_blank\">valiant-gorge-11</a></strong> to <a href=\"https://wandb.ai/joshuapaperspace/test-project\" target=\"_blank\">Weights & Biases</a> (<a href=\"https://docs.wandb.com/integrations/jupyter.html\" target=\"_blank\">docs</a>).<br/>\n",
       "\n",
       "                "
      ],
      "text/plain": [
       "<IPython.core.display.HTML object>"
      ]
     },
     "metadata": {},
     "output_type": "display_data",
     "transient": {}
    },
    {
     "data": {
      "text/html": [
       "<br/>Waiting for W&B process to finish, PID 1478... <strong style=\"color:green\">(success).</strong>"
      ],
      "text/plain": [
       "<IPython.core.display.HTML object>"
      ]
     },
     "metadata": {},
     "output_type": "display_data",
     "transient": {}
    },
    {
     "data": {
      "text/html": [
       "<style>\n",
       "    table.wandb td:nth-child(1) { padding: 0 10px; text-align: right }\n",
       "    .wandb-row { display: flex; flex-direction: row; flex-wrap: wrap; width: 100% }\n",
       "    .wandb-col { display: flex; flex-direction: column; flex-basis: 100%; flex: 1; padding: 10px; }\n",
       "    </style>\n",
       "<div class=\"wandb-row\"><div class=\"wandb-col\">\n",
       "</div><div class=\"wandb-col\">\n",
       "</div></div>\n",
       "Synced 4 W&B file(s), 0 media file(s), 65 artifact file(s) and 0 other file(s)\n",
       "<br/>Synced <strong style=\"color:#cdcd00\">valiant-gorge-11</strong>: <a href=\"https://wandb.ai/joshuapaperspace/test-project/runs/1eniqou3\" target=\"_blank\">https://wandb.ai/joshuapaperspace/test-project/runs/1eniqou3</a><br/>\n",
       "Find logs at: <code>./wandb/run-20220216_230810-1eniqou3/logs</code><br/>\n"
      ],
      "text/plain": [
       "<IPython.core.display.HTML object>"
      ]
     },
     "metadata": {},
     "output_type": "display_data",
     "transient": {}
    }
   ],
   "source": [
    "from load_data import testloader\n",
    "\n",
    "classes = ('plane', 'car', 'bird', 'cat',\n",
    "           'deer', 'dog', 'frog', 'horse', 'ship', 'truck')\n",
    "\n",
    "with wandb.init(project='test-project'):\n",
    "    artifact = wandb.Artifact('cifar10_image_predictions', type='predictions')\n",
    "\n",
    "    columns=['image', 'label', 'prediction']\n",
    "    for digit in range(10):\n",
    "        columns.append(\"score_\" + classes[digit])\n",
    "\n",
    "    pred_table = wandb.Table(columns=columns)   \n",
    "\n",
    "    with torch.no_grad():\n",
    "        for i, data in enumerate(testloader, 0):\n",
    "            inputs, labels = data[0].to(device), data[1].to(device)\n",
    "            outputs = model(inputs)\n",
    "            _, predicted = torch.max(outputs.data, 1)\n",
    "            for j, image in enumerate(inputs,0):\n",
    "                pred_table.add_data(wandb.Image(image), classes[labels[j].item()], classes[predicted[j]], *outputs[j])\n",
    "                break\n",
    "\n",
    "    artifact.add(pred_table, \"cifar10_predictions\")\n",
    "    wandb.log_artifact(artifact)"
   ]
  },
  {
   "cell_type": "markdown",
   "id": "3b0ff48f-8fe4-4eb1-a683-c74d9e8dc4d6",
   "metadata": {
    "gradient": {
     "editing": false,
     "id": "3b0ff48f-8fe4-4eb1-a683-c74d9e8dc4d6",
     "kernelId": "0bebe956-eed4-4f15-b312-6f7872ce9933"
    }
   },
   "source": [
    "# Sweeps"
   ]
  },
  {
   "cell_type": "code",
   "execution_count": null,
   "id": "9a84ac48-b38f-444d-b1ce-9bc630d0dc45",
   "metadata": {
    "collapsed": false,
    "gradient": {
     "editing": false,
     "id": "9a84ac48-b38f-444d-b1ce-9bc630d0dc45",
     "kernelId": "0bebe956-eed4-4f15-b312-6f7872ce9933",
     "source_hidden": false
    }
   },
   "outputs": [],
   "source": [
    "sweep_config = {\n",
    "                'method': 'grid',\n",
    "                'metric': {'goal': 'minimize', 'name': 'val_loss'},\n",
    "                'parameters': {\n",
    "                    'batch_size': {'values': [16, 128]},\n",
    "                    'epochs': {'values': [6]},\n",
    "                    'lr': {'values': [1e-3, 1e-4]},\n",
    "                    'model': {'values': ['ResNet18', 'ResNet34']}\n",
    "                    }\n",
    "}"
   ]
  },
  {
   "cell_type": "code",
   "execution_count": null,
   "id": "3b27ef13-210b-407e-a6f1-2020429d1522",
   "metadata": {
    "collapsed": false,
    "gradient": {
     "editing": false,
     "id": "3b27ef13-210b-407e-a6f1-2020429d1522",
     "kernelId": "0bebe956-eed4-4f15-b312-6f7872ce9933",
     "source_hidden": false
    }
   },
   "outputs": [],
   "source": [
    "\n",
    "def train(config = None):\n",
    "    with wandb.init(project='test-project', config=config):\n",
    "        config = wandb.config\n",
    "\n",
    "        if config['model']=='ResNet18':\n",
    "            model = resnet18(3,10)\n",
    "        else:\n",
    "            model = resnet34(3,10)\n",
    "\n",
    "        criterion = nn.CrossEntropyLoss()\n",
    "        optimizer = optim.SGD(model.parameters(), lr=config['lr'], momentum=0.9)\n",
    "\n",
    "        device = torch.device(\"cuda:0\" if torch.cuda.is_available() else \"cpu\")\n",
    "        model.to(device)\n",
    "\n",
    "        step = 0\n",
    "        epoch_durations = []\n",
    "        for epoch in range(config['epochs']):\n",
    "            \n",
    "            epoch_start_time = time.time()\n",
    "            batch_checkpoint=50\n",
    "            running_loss = 0.0\n",
    "            model.train()\n",
    "\n",
    "            for i, data in enumerate(trainloader, 0):\n",
    "            \n",
    "                inputs, labels = data[0].to(device), data[1].to(device)\n",
    "                \n",
    "                # Zero the parameter gradients\n",
    "                optimizer.zero_grad()\n",
    "                \n",
    "                # Forward + Backward + Optimize\n",
    "                outputs = model(inputs)\n",
    "                loss = criterion(outputs, labels)\n",
    "                loss.backward()\n",
    "                optimizer.step()\n",
    "            \n",
    "                running_loss += loss.item()\n",
    "                \n",
    "                # log every 50 mini-batches\n",
    "                if i % batch_checkpoint == batch_checkpoint-1:    # log every 50 mini-batches\n",
    "                    step +=1\n",
    "                    print('epoch:', epoch + ((i+1)/len(trainloader)))\n",
    "                    wandb.log({\"train_loss\": running_loss/batch_checkpoint, \"epoch\": epoch + ((i+1)/len(trainloader))}, step=step)\n",
    "                \n",
    "                    print('[%d, %5d] loss: %.3f' %\n",
    "                        (epoch + 1, i + 1, running_loss / batch_checkpoint))\n",
    "                        \n",
    "                    running_loss = 0.0\n",
    "\n",
    "            # Log validation metrics\n",
    "            val_loss, accuracy = validate_model(model, valloader, criterion, device)\n",
    "            wandb.log({\"val_loss\": val_loss, \"val_accuracy\": accuracy}, step=step)\n",
    "            print(f\"Valid Loss: {val_loss:3f}, accuracy: {accuracy:.2f}\")\n",
    "            \n",
    "            epoch_duration = time.time() - epoch_start_time\n",
    "            wandb.log({\"epoch_runtime (seconds)\": epoch_duration}, step=step)\n",
    "\n",
    "            epoch_durations.append(epoch_duration)\n",
    "\n",
    "        avg_epoch_runtime = sum(epoch_durations) / len(epoch_durations)\n",
    "        wandb.log({\"avg epoch runtime (seconds)\": avg_epoch_runtime})\n",
    "\n",
    "    print('Training Finished')"
   ]
  },
  {
   "cell_type": "code",
   "execution_count": null,
   "id": "fc38bc28-6519-4bb5-9ef4-82cc7b1ec7dc",
   "metadata": {
    "collapsed": false,
    "gradient": {
     "editing": false,
     "id": "fc38bc28-6519-4bb5-9ef4-82cc7b1ec7dc",
     "kernelId": "0bebe956-eed4-4f15-b312-6f7872ce9933",
     "source_hidden": false
    }
   },
   "outputs": [
    {
     "name": "stdout",
     "output_type": "stream",
     "text": [
      "Create sweep with ID: wuz0x8de\n",
      "Sweep URL: https://wandb.ai/joshuapaperspace/test-project/sweeps/wuz0x8de\n"
     ]
    },
    {
     "name": "stderr",
     "output_type": "stream",
     "text": [
      "\u001b[34m\u001b[1mwandb\u001b[0m: Agent Starting Run: mryjmedd with config:\n"
     ]
    },
    {
     "name": "stderr",
     "output_type": "stream",
     "text": [
      "\u001b[34m\u001b[1mwandb\u001b[0m: \tbatch_size: 16\n"
     ]
    },
    {
     "name": "stderr",
     "output_type": "stream",
     "text": [
      "\u001b[34m\u001b[1mwandb\u001b[0m: \tepochs: 6\n"
     ]
    },
    {
     "name": "stderr",
     "output_type": "stream",
     "text": [
      "\u001b[34m\u001b[1mwandb\u001b[0m: \tlr: 0.001\n"
     ]
    },
    {
     "name": "stderr",
     "output_type": "stream",
     "text": [
      "\u001b[34m\u001b[1mwandb\u001b[0m: \tmodel: ResNet18\n"
     ]
    },
    {
     "name": "stderr",
     "output_type": "stream",
     "text": [
      "\u001b[34m\u001b[1mwandb\u001b[0m: Currently logged in as: \u001b[33mjoshuapaperspace\u001b[0m (use `wandb login --relogin` to force relogin)\n"
     ]
    },
    {
     "name": "stderr",
     "output_type": "stream",
     "text": [
      "\u001b[34m\u001b[1mwandb\u001b[0m: \u001b[33mWARNING\u001b[0m Ignored wandb.init() arg project when running a sweep.\n"
     ]
    },
    {
     "data": {
      "text/html": [
       "\n",
       "                    Syncing run <strong><a href=\"https://wandb.ai/joshuapaperspace/test-project/runs/mryjmedd\" target=\"_blank\">copper-sweep-1</a></strong> to <a href=\"https://wandb.ai/joshuapaperspace/test-project\" target=\"_blank\">Weights & Biases</a> (<a href=\"https://docs.wandb.com/integrations/jupyter.html\" target=\"_blank\">docs</a>).<br/>\n",
       "Sweep page: <a href=\"https://wandb.ai/joshuapaperspace/test-project/sweeps/wuz0x8de\" target=\"_blank\">https://wandb.ai/joshuapaperspace/test-project/sweeps/wuz0x8de</a><br/>\n",
       "\n",
       "                "
      ],
      "text/plain": [
       "<IPython.core.display.HTML object>"
      ]
     },
     "metadata": {},
     "output_type": "display_data",
     "transient": {}
    },
    {
     "name": "stdout",
     "output_type": "stream",
     "text": [
      "epoch: 0.125\n",
      "[1,    50] loss: 1.835\n"
     ]
    },
    {
     "name": "stdout",
     "output_type": "stream",
     "text": [
      "epoch: 0.25\n",
      "[1,   100] loss: 1.514\n"
     ]
    },
    {
     "name": "stdout",
     "output_type": "stream",
     "text": [
      "epoch: 0.375\n",
      "[1,   150] loss: 1.381\n"
     ]
    },
    {
     "name": "stdout",
     "output_type": "stream",
     "text": [
      "epoch: 0.5\n",
      "[1,   200] loss: 1.309\n"
     ]
    },
    {
     "name": "stdout",
     "output_type": "stream",
     "text": [
      "epoch: 0.625\n",
      "[1,   250] loss: 1.220\n"
     ]
    },
    {
     "name": "stdout",
     "output_type": "stream",
     "text": [
      "epoch: 0.75\n",
      "[1,   300] loss: 1.162\n"
     ]
    },
    {
     "name": "stdout",
     "output_type": "stream",
     "text": [
      "epoch: 0.875\n",
      "[1,   350] loss: 1.147\n"
     ]
    },
    {
     "name": "stdout",
     "output_type": "stream",
     "text": [
      "epoch: 1.0\n",
      "[1,   400] loss: 1.136\n"
     ]
    },
    {
     "name": "stdout",
     "output_type": "stream",
     "text": [
      "Valid Loss: 1.095199, accuracy: 0.61\n"
     ]
    },
    {
     "name": "stdout",
     "output_type": "stream",
     "text": [
      "epoch: 1.125\n",
      "[2,    50] loss: 0.926\n"
     ]
    },
    {
     "name": "stdout",
     "output_type": "stream",
     "text": [
      "epoch: 1.25\n",
      "[2,   100] loss: 0.962\n"
     ]
    },
    {
     "name": "stdout",
     "output_type": "stream",
     "text": [
      "epoch: 1.375\n",
      "[2,   150] loss: 0.920\n"
     ]
    },
    {
     "name": "stdout",
     "output_type": "stream",
     "text": [
      "epoch: 1.5\n",
      "[2,   200] loss: 0.935\n"
     ]
    },
    {
     "name": "stdout",
     "output_type": "stream",
     "text": [
      "epoch: 1.625\n",
      "[2,   250] loss: 0.936\n"
     ]
    },
    {
     "name": "stdout",
     "output_type": "stream",
     "text": [
      "epoch: 1.75\n",
      "[2,   300] loss: 0.936\n"
     ]
    },
    {
     "name": "stdout",
     "output_type": "stream",
     "text": [
      "epoch: 1.875\n",
      "[2,   350] loss: 0.906\n"
     ]
    },
    {
     "name": "stdout",
     "output_type": "stream",
     "text": [
      "epoch: 2.0\n",
      "[2,   400] loss: 0.912\n"
     ]
    },
    {
     "name": "stdout",
     "output_type": "stream",
     "text": [
      "Valid Loss: 0.976894, accuracy: 0.65\n"
     ]
    },
    {
     "name": "stdout",
     "output_type": "stream",
     "text": [
      "epoch: 2.125\n",
      "[3,    50] loss: 0.702\n"
     ]
    },
    {
     "name": "stdout",
     "output_type": "stream",
     "text": [
      "epoch: 2.25\n",
      "[3,   100] loss: 0.715\n"
     ]
    },
    {
     "name": "stdout",
     "output_type": "stream",
     "text": [
      "epoch: 2.375\n",
      "[3,   150] loss: 0.751\n"
     ]
    },
    {
     "name": "stdout",
     "output_type": "stream",
     "text": [
      "epoch: 2.5\n",
      "[3,   200] loss: 0.745\n"
     ]
    },
    {
     "name": "stdout",
     "output_type": "stream",
     "text": [
      "epoch: 2.625\n",
      "[3,   250] loss: 0.729\n"
     ]
    },
    {
     "name": "stdout",
     "output_type": "stream",
     "text": [
      "epoch: 2.75\n",
      "[3,   300] loss: 0.756\n"
     ]
    },
    {
     "name": "stdout",
     "output_type": "stream",
     "text": [
      "epoch: 2.875\n",
      "[3,   350] loss: 0.768\n"
     ]
    },
    {
     "name": "stdout",
     "output_type": "stream",
     "text": [
      "epoch: 3.0\n",
      "[3,   400] loss: 0.733\n"
     ]
    },
    {
     "name": "stdout",
     "output_type": "stream",
     "text": [
      "Valid Loss: 0.936270, accuracy: 0.68\n"
     ]
    },
    {
     "name": "stdout",
     "output_type": "stream",
     "text": [
      "epoch: 3.125\n",
      "[4,    50] loss: 0.547\n"
     ]
    },
    {
     "name": "stdout",
     "output_type": "stream",
     "text": [
      "epoch: 3.25\n",
      "[4,   100] loss: 0.542\n"
     ]
    },
    {
     "name": "stdout",
     "output_type": "stream",
     "text": [
      "epoch: 3.375\n",
      "[4,   150] loss: 0.590\n"
     ]
    },
    {
     "name": "stdout",
     "output_type": "stream",
     "text": [
      "epoch: 3.5\n",
      "[4,   200] loss: 0.574\n"
     ]
    },
    {
     "name": "stdout",
     "output_type": "stream",
     "text": [
      "epoch: 3.625\n",
      "[4,   250] loss: 0.603\n"
     ]
    },
    {
     "name": "stdout",
     "output_type": "stream",
     "text": [
      "epoch: 3.75\n",
      "[4,   300] loss: 0.656\n"
     ]
    },
    {
     "name": "stdout",
     "output_type": "stream",
     "text": [
      "epoch: 3.875\n",
      "[4,   350] loss: 0.615\n"
     ]
    },
    {
     "name": "stdout",
     "output_type": "stream",
     "text": [
      "epoch: 4.0\n",
      "[4,   400] loss: 0.611\n"
     ]
    },
    {
     "name": "stdout",
     "output_type": "stream",
     "text": [
      "Valid Loss: 0.961565, accuracy: 0.68\n"
     ]
    },
    {
     "name": "stdout",
     "output_type": "stream",
     "text": [
      "epoch: 4.125\n",
      "[5,    50] loss: 0.400\n"
     ]
    },
    {
     "name": "stdout",
     "output_type": "stream",
     "text": [
      "epoch: 4.25\n",
      "[5,   100] loss: 0.396\n"
     ]
    },
    {
     "name": "stdout",
     "output_type": "stream",
     "text": [
      "epoch: 4.375\n",
      "[5,   150] loss: 0.435\n"
     ]
    },
    {
     "name": "stdout",
     "output_type": "stream",
     "text": [
      "epoch: 4.5\n",
      "[5,   200] loss: 0.442\n"
     ]
    },
    {
     "name": "stdout",
     "output_type": "stream",
     "text": [
      "epoch: 4.625\n",
      "[5,   250] loss: 0.485\n"
     ]
    },
    {
     "name": "stdout",
     "output_type": "stream",
     "text": [
      "epoch: 4.75\n",
      "[5,   300] loss: 0.508\n"
     ]
    },
    {
     "name": "stdout",
     "output_type": "stream",
     "text": [
      "epoch: 4.875\n",
      "[5,   350] loss: 0.509\n"
     ]
    },
    {
     "name": "stdout",
     "output_type": "stream",
     "text": [
      "epoch: 5.0\n",
      "[5,   400] loss: 0.519\n"
     ]
    },
    {
     "name": "stdout",
     "output_type": "stream",
     "text": [
      "Valid Loss: 1.036508, accuracy: 0.68\n"
     ]
    },
    {
     "name": "stdout",
     "output_type": "stream",
     "text": [
      "epoch: 5.125\n",
      "[6,    50] loss: 0.311\n"
     ]
    },
    {
     "name": "stdout",
     "output_type": "stream",
     "text": [
      "epoch: 5.25\n",
      "[6,   100] loss: 0.284\n"
     ]
    },
    {
     "name": "stdout",
     "output_type": "stream",
     "text": [
      "epoch: 5.375\n",
      "[6,   150] loss: 0.338\n"
     ]
    },
    {
     "name": "stdout",
     "output_type": "stream",
     "text": [
      "epoch: 5.5\n",
      "[6,   200] loss: 0.364\n"
     ]
    },
    {
     "name": "stdout",
     "output_type": "stream",
     "text": [
      "epoch: 5.625\n",
      "[6,   250] loss: 0.386\n"
     ]
    },
    {
     "name": "stdout",
     "output_type": "stream",
     "text": [
      "epoch: 5.75\n",
      "[6,   300] loss: 0.398\n"
     ]
    },
    {
     "name": "stdout",
     "output_type": "stream",
     "text": [
      "epoch: 5.875\n",
      "[6,   350] loss: 0.390\n"
     ]
    },
    {
     "name": "stdout",
     "output_type": "stream",
     "text": [
      "epoch: 6.0\n",
      "[6,   400] loss: 0.423\n"
     ]
    },
    {
     "name": "stdout",
     "output_type": "stream",
     "text": [
      "Valid Loss: 1.068615, accuracy: 0.69\n"
     ]
    },
    {
     "data": {
      "text/html": [
       "<br/>Waiting for W&B process to finish, PID 143... <strong style=\"color:green\">(success).</strong>"
      ],
      "text/plain": [
       "<IPython.core.display.HTML object>"
      ]
     },
     "metadata": {},
     "output_type": "display_data",
     "transient": {}
    },
    {
     "data": {
      "text/html": [
       "<style>\n",
       "    table.wandb td:nth-child(1) { padding: 0 10px; text-align: right }\n",
       "    .wandb-row { display: flex; flex-direction: row; flex-wrap: wrap; width: 100% }\n",
       "    .wandb-col { display: flex; flex-direction: column; flex-basis: 100%; flex: 1; padding: 10px; }\n",
       "    </style>\n",
       "<div class=\"wandb-row\"><div class=\"wandb-col\">\n",
       "<h3>Run history:</h3><br/><table class=\"wandb\"><tr><td>avg epoch runtime (seconds)</td><td>▁</td></tr><tr><td>epoch</td><td>▁▁▁▁▂▂▂▂▂▂▃▃▃▃▃▄▄▄▄▄▅▅▅▅▅▅▆▆▆▆▆▇▇▇▇▇▇███</td></tr><tr><td>epoch_runtime (seconds)</td><td>█▁▁▁▁▁</td></tr><tr><td>train_loss</td><td>█▇▆▆▅▅▅▄▄▄▄▄▄▄▃▃▃▃▃▃▂▂▂▂▂▂▂▁▁▂▂▂▂▂▁▁▁▁▁▂</td></tr><tr><td>val_accuracy</td><td>▁▅▇▇▇█</td></tr><tr><td>val_loss</td><td>█▃▁▂▅▇</td></tr></table><br/></div><div class=\"wandb-col\">\n",
       "<h3>Run summary:</h3><br/><table class=\"wandb\"><tr><td>avg epoch runtime (seconds)</td><td>6.03867</td></tr><tr><td>epoch</td><td>6.0</td></tr><tr><td>epoch_runtime (seconds)</td><td>5.48477</td></tr><tr><td>train_loss</td><td>0.42285</td></tr><tr><td>val_accuracy</td><td>0.692</td></tr><tr><td>val_loss</td><td>1.06861</td></tr></table>\n",
       "</div></div>\n",
       "Synced 5 W&B file(s), 0 media file(s), 0 artifact file(s) and 0 other file(s)\n",
       "<br/>Synced <strong style=\"color:#cdcd00\">copper-sweep-1</strong>: <a href=\"https://wandb.ai/joshuapaperspace/test-project/runs/mryjmedd\" target=\"_blank\">https://wandb.ai/joshuapaperspace/test-project/runs/mryjmedd</a><br/>\n",
       "Find logs at: <code>./wandb/run-20220217_171021-mryjmedd/logs</code><br/>\n"
      ],
      "text/plain": [
       "<IPython.core.display.HTML object>"
      ]
     },
     "metadata": {},
     "output_type": "display_data",
     "transient": {}
    },
    {
     "name": "stdout",
     "output_type": "stream",
     "text": [
      "Training Finished\n"
     ]
    },
    {
     "name": "stderr",
     "output_type": "stream",
     "text": [
      "\u001b[34m\u001b[1mwandb\u001b[0m: Agent Starting Run: 0axkilal with config:\n"
     ]
    },
    {
     "name": "stderr",
     "output_type": "stream",
     "text": [
      "\u001b[34m\u001b[1mwandb\u001b[0m: \tbatch_size: 16\n"
     ]
    },
    {
     "name": "stderr",
     "output_type": "stream",
     "text": [
      "\u001b[34m\u001b[1mwandb\u001b[0m: \tepochs: 6\n"
     ]
    },
    {
     "name": "stderr",
     "output_type": "stream",
     "text": [
      "\u001b[34m\u001b[1mwandb\u001b[0m: \tlr: 0.001\n"
     ]
    },
    {
     "name": "stderr",
     "output_type": "stream",
     "text": [
      "\u001b[34m\u001b[1mwandb\u001b[0m: \tmodel: ResNet34\n"
     ]
    },
    {
     "name": "stderr",
     "output_type": "stream",
     "text": [
      "\u001b[34m\u001b[1mwandb\u001b[0m: \u001b[33mWARNING\u001b[0m Ignored wandb.init() arg project when running a sweep.\n"
     ]
    },
    {
     "data": {
      "text/html": [
       "\n",
       "                    Syncing run <strong><a href=\"https://wandb.ai/joshuapaperspace/test-project/runs/0axkilal\" target=\"_blank\">balmy-sweep-2</a></strong> to <a href=\"https://wandb.ai/joshuapaperspace/test-project\" target=\"_blank\">Weights & Biases</a> (<a href=\"https://docs.wandb.com/integrations/jupyter.html\" target=\"_blank\">docs</a>).<br/>\n",
       "Sweep page: <a href=\"https://wandb.ai/joshuapaperspace/test-project/sweeps/wuz0x8de\" target=\"_blank\">https://wandb.ai/joshuapaperspace/test-project/sweeps/wuz0x8de</a><br/>\n",
       "\n",
       "                "
      ],
      "text/plain": [
       "<IPython.core.display.HTML object>"
      ]
     },
     "metadata": {},
     "output_type": "display_data",
     "transient": {}
    },
    {
     "name": "stdout",
     "output_type": "stream",
     "text": [
      "epoch: 0.125\n",
      "[1,    50] loss: 1.987\n"
     ]
    },
    {
     "name": "stdout",
     "output_type": "stream",
     "text": [
      "epoch: 0.25\n",
      "[1,   100] loss: 1.552\n"
     ]
    },
    {
     "name": "stdout",
     "output_type": "stream",
     "text": [
      "epoch: 0.375\n",
      "[1,   150] loss: 1.431\n"
     ]
    },
    {
     "name": "stdout",
     "output_type": "stream",
     "text": [
      "epoch: 0.5\n",
      "[1,   200] loss: 1.314\n"
     ]
    },
    {
     "name": "stdout",
     "output_type": "stream",
     "text": [
      "epoch: 0.625\n",
      "[1,   250] loss: 1.246\n"
     ]
    },
    {
     "name": "stdout",
     "output_type": "stream",
     "text": [
      "epoch: 0.75\n",
      "[1,   300] loss: 1.205\n"
     ]
    },
    {
     "name": "stdout",
     "output_type": "stream",
     "text": [
      "epoch: 0.875\n",
      "[1,   350] loss: 1.191\n"
     ]
    },
    {
     "name": "stdout",
     "output_type": "stream",
     "text": [
      "epoch: 1.0\n",
      "[1,   400] loss: 1.136\n"
     ]
    },
    {
     "name": "stdout",
     "output_type": "stream",
     "text": [
      "Valid Loss: 1.096109, accuracy: 0.62\n"
     ]
    },
    {
     "name": "stdout",
     "output_type": "stream",
     "text": [
      "epoch: 1.125\n",
      "[2,    50] loss: 0.952\n"
     ]
    },
    {
     "name": "stdout",
     "output_type": "stream",
     "text": [
      "epoch: 1.25\n",
      "[2,   100] loss: 0.964\n"
     ]
    },
    {
     "name": "stdout",
     "output_type": "stream",
     "text": [
      "epoch: 1.375\n",
      "[2,   150] loss: 0.977\n"
     ]
    },
    {
     "name": "stdout",
     "output_type": "stream",
     "text": [
      "epoch: 1.5\n",
      "[2,   200] loss: 0.941\n"
     ]
    },
    {
     "name": "stdout",
     "output_type": "stream",
     "text": [
      "epoch: 1.625\n",
      "[2,   250] loss: 0.937\n"
     ]
    },
    {
     "name": "stdout",
     "output_type": "stream",
     "text": [
      "epoch: 1.75\n",
      "[2,   300] loss: 0.933\n"
     ]
    },
    {
     "name": "stdout",
     "output_type": "stream",
     "text": [
      "epoch: 1.875\n",
      "[2,   350] loss: 0.912\n"
     ]
    },
    {
     "name": "stdout",
     "output_type": "stream",
     "text": [
      "epoch: 2.0\n",
      "[2,   400] loss: 0.927\n"
     ]
    },
    {
     "name": "stdout",
     "output_type": "stream",
     "text": [
      "Valid Loss: 0.988397, accuracy: 0.65\n"
     ]
    },
    {
     "name": "stdout",
     "output_type": "stream",
     "text": [
      "epoch: 2.125\n",
      "[3,    50] loss: 0.721\n"
     ]
    },
    {
     "name": "stdout",
     "output_type": "stream",
     "text": [
      "epoch: 2.25\n",
      "[3,   100] loss: 0.720\n"
     ]
    },
    {
     "name": "stdout",
     "output_type": "stream",
     "text": [
      "epoch: 2.375\n",
      "[3,   150] loss: 0.751\n"
     ]
    },
    {
     "name": "stdout",
     "output_type": "stream",
     "text": [
      "epoch: 2.5\n",
      "[3,   200] loss: 0.743\n"
     ]
    },
    {
     "name": "stdout",
     "output_type": "stream",
     "text": [
      "epoch: 2.625\n",
      "[3,   250] loss: 0.760\n"
     ]
    },
    {
     "name": "stdout",
     "output_type": "stream",
     "text": [
      "epoch: 2.75\n",
      "[3,   300] loss: 0.757\n"
     ]
    },
    {
     "name": "stdout",
     "output_type": "stream",
     "text": [
      "epoch: 2.875\n",
      "[3,   350] loss: 0.743\n"
     ]
    },
    {
     "name": "stdout",
     "output_type": "stream",
     "text": [
      "epoch: 3.0\n",
      "[3,   400] loss: 0.739\n"
     ]
    },
    {
     "name": "stdout",
     "output_type": "stream",
     "text": [
      "Valid Loss: 1.030522, accuracy: 0.65\n"
     ]
    },
    {
     "name": "stdout",
     "output_type": "stream",
     "text": [
      "epoch: 3.125\n",
      "[4,    50] loss: 0.533\n"
     ]
    },
    {
     "name": "stdout",
     "output_type": "stream",
     "text": [
      "epoch: 3.25\n",
      "[4,   100] loss: 0.553\n"
     ]
    },
    {
     "name": "stdout",
     "output_type": "stream",
     "text": [
      "epoch: 3.375\n",
      "[4,   150] loss: 0.574\n"
     ]
    },
    {
     "name": "stdout",
     "output_type": "stream",
     "text": [
      "epoch: 3.5\n",
      "[4,   200] loss: 0.591\n"
     ]
    },
    {
     "name": "stdout",
     "output_type": "stream",
     "text": [
      "epoch: 3.625\n",
      "[4,   250] loss: 0.609\n"
     ]
    },
    {
     "name": "stdout",
     "output_type": "stream",
     "text": [
      "epoch: 3.75\n",
      "[4,   300] loss: 0.592\n"
     ]
    },
    {
     "name": "stdout",
     "output_type": "stream",
     "text": [
      "epoch: 3.875\n",
      "[4,   350] loss: 0.639\n"
     ]
    },
    {
     "name": "stdout",
     "output_type": "stream",
     "text": [
      "epoch: 4.0\n",
      "[4,   400] loss: 0.604\n"
     ]
    },
    {
     "name": "stdout",
     "output_type": "stream",
     "text": [
      "Valid Loss: 0.914169, accuracy: 0.69\n"
     ]
    },
    {
     "name": "stdout",
     "output_type": "stream",
     "text": [
      "epoch: 4.125\n",
      "[5,    50] loss: 0.398\n"
     ]
    },
    {
     "name": "stdout",
     "output_type": "stream",
     "text": [
      "epoch: 4.25\n",
      "[5,   100] loss: 0.396\n"
     ]
    },
    {
     "name": "stdout",
     "output_type": "stream",
     "text": [
      "epoch: 4.375\n",
      "[5,   150] loss: 0.420\n"
     ]
    },
    {
     "name": "stdout",
     "output_type": "stream",
     "text": [
      "epoch: 4.5\n",
      "[5,   200] loss: 0.449\n"
     ]
    },
    {
     "name": "stdout",
     "output_type": "stream",
     "text": [
      "epoch: 4.625\n",
      "[5,   250] loss: 0.473\n"
     ]
    },
    {
     "name": "stdout",
     "output_type": "stream",
     "text": [
      "epoch: 4.75\n",
      "[5,   300] loss: 0.497\n"
     ]
    },
    {
     "name": "stdout",
     "output_type": "stream",
     "text": [
      "epoch: 4.875\n",
      "[5,   350] loss: 0.506\n"
     ]
    },
    {
     "name": "stdout",
     "output_type": "stream",
     "text": [
      "epoch: 5.0\n",
      "[5,   400] loss: 0.511\n"
     ]
    },
    {
     "name": "stdout",
     "output_type": "stream",
     "text": [
      "Valid Loss: 0.960225, accuracy: 0.71\n"
     ]
    },
    {
     "name": "stdout",
     "output_type": "stream",
     "text": [
      "epoch: 5.125\n",
      "[6,    50] loss: 0.268\n"
     ]
    },
    {
     "name": "stdout",
     "output_type": "stream",
     "text": [
      "epoch: 5.25\n",
      "[6,   100] loss: 0.275\n"
     ]
    },
    {
     "name": "stdout",
     "output_type": "stream",
     "text": [
      "epoch: 5.375\n",
      "[6,   150] loss: 0.326\n"
     ]
    },
    {
     "name": "stdout",
     "output_type": "stream",
     "text": [
      "epoch: 5.5\n",
      "[6,   200] loss: 0.347\n"
     ]
    },
    {
     "name": "stdout",
     "output_type": "stream",
     "text": [
      "epoch: 5.625\n",
      "[6,   250] loss: 0.385\n"
     ]
    },
    {
     "name": "stdout",
     "output_type": "stream",
     "text": [
      "epoch: 5.75\n",
      "[6,   300] loss: 0.382\n"
     ]
    },
    {
     "name": "stdout",
     "output_type": "stream",
     "text": [
      "epoch: 5.875\n",
      "[6,   350] loss: 0.403\n"
     ]
    },
    {
     "name": "stdout",
     "output_type": "stream",
     "text": [
      "epoch: 6.0\n",
      "[6,   400] loss: 0.392\n"
     ]
    },
    {
     "name": "stdout",
     "output_type": "stream",
     "text": [
      "Valid Loss: 1.013630, accuracy: 0.70\n"
     ]
    },
    {
     "data": {
      "text/html": [
       "<br/>Waiting for W&B process to finish, PID 656... <strong style=\"color:green\">(success).</strong>"
      ],
      "text/plain": [
       "<IPython.core.display.HTML object>"
      ]
     },
     "metadata": {},
     "output_type": "display_data",
     "transient": {}
    },
    {
     "data": {
      "text/html": [
       "<style>\n",
       "    table.wandb td:nth-child(1) { padding: 0 10px; text-align: right }\n",
       "    .wandb-row { display: flex; flex-direction: row; flex-wrap: wrap; width: 100% }\n",
       "    .wandb-col { display: flex; flex-direction: column; flex-basis: 100%; flex: 1; padding: 10px; }\n",
       "    </style>\n",
       "<div class=\"wandb-row\"><div class=\"wandb-col\">\n",
       "<h3>Run history:</h3><br/><table class=\"wandb\"><tr><td>avg epoch runtime (seconds)</td><td>▁</td></tr><tr><td>epoch</td><td>▁▁▁▁▂▂▂▂▂▂▃▃▃▃▃▄▄▄▄▄▅▅▅▅▅▅▆▆▆▆▆▇▇▇▇▇▇███</td></tr><tr><td>epoch_runtime (seconds)</td><td>▅▃▃▅▁█</td></tr><tr><td>train_loss</td><td>█▆▆▅▅▅▅▄▄▄▄▄▄▄▃▃▃▃▃▃▂▂▂▂▂▃▂▂▂▂▂▂▂▂▁▁▁▁▁▂</td></tr><tr><td>val_accuracy</td><td>▁▃▄▇█▇</td></tr><tr><td>val_loss</td><td>█▄▅▁▃▅</td></tr></table><br/></div><div class=\"wandb-col\">\n",
       "<h3>Run summary:</h3><br/><table class=\"wandb\"><tr><td>avg epoch runtime (seconds)</td><td>8.15016</td></tr><tr><td>epoch</td><td>6.0</td></tr><tr><td>epoch_runtime (seconds)</td><td>8.26396</td></tr><tr><td>train_loss</td><td>0.39234</td></tr><tr><td>val_accuracy</td><td>0.697</td></tr><tr><td>val_loss</td><td>1.01363</td></tr></table>\n",
       "</div></div>\n",
       "Synced 5 W&B file(s), 0 media file(s), 0 artifact file(s) and 0 other file(s)\n",
       "<br/>Synced <strong style=\"color:#cdcd00\">balmy-sweep-2</strong>: <a href=\"https://wandb.ai/joshuapaperspace/test-project/runs/0axkilal\" target=\"_blank\">https://wandb.ai/joshuapaperspace/test-project/runs/0axkilal</a><br/>\n",
       "Find logs at: <code>./wandb/run-20220217_171106-0axkilal/logs</code><br/>\n"
      ],
      "text/plain": [
       "<IPython.core.display.HTML object>"
      ]
     },
     "metadata": {},
     "output_type": "display_data",
     "transient": {}
    },
    {
     "name": "stdout",
     "output_type": "stream",
     "text": [
      "Training Finished\n"
     ]
    },
    {
     "name": "stderr",
     "output_type": "stream",
     "text": [
      "\u001b[34m\u001b[1mwandb\u001b[0m: Agent Starting Run: omu970ls with config:\n"
     ]
    },
    {
     "name": "stderr",
     "output_type": "stream",
     "text": [
      "\u001b[34m\u001b[1mwandb\u001b[0m: \tbatch_size: 16\n"
     ]
    },
    {
     "name": "stderr",
     "output_type": "stream",
     "text": [
      "\u001b[34m\u001b[1mwandb\u001b[0m: \tepochs: 6\n"
     ]
    },
    {
     "name": "stderr",
     "output_type": "stream",
     "text": [
      "\u001b[34m\u001b[1mwandb\u001b[0m: \tlr: 0.0001\n"
     ]
    },
    {
     "name": "stderr",
     "output_type": "stream",
     "text": [
      "\u001b[34m\u001b[1mwandb\u001b[0m: \tmodel: ResNet18\n"
     ]
    },
    {
     "name": "stderr",
     "output_type": "stream",
     "text": [
      "\u001b[34m\u001b[1mwandb\u001b[0m: \u001b[33mWARNING\u001b[0m Ignored wandb.init() arg project when running a sweep.\n"
     ]
    },
    {
     "data": {
      "text/html": [
       "\n",
       "                    Syncing run <strong><a href=\"https://wandb.ai/joshuapaperspace/test-project/runs/omu970ls\" target=\"_blank\">icy-sweep-3</a></strong> to <a href=\"https://wandb.ai/joshuapaperspace/test-project\" target=\"_blank\">Weights & Biases</a> (<a href=\"https://docs.wandb.com/integrations/jupyter.html\" target=\"_blank\">docs</a>).<br/>\n",
       "Sweep page: <a href=\"https://wandb.ai/joshuapaperspace/test-project/sweeps/wuz0x8de\" target=\"_blank\">https://wandb.ai/joshuapaperspace/test-project/sweeps/wuz0x8de</a><br/>\n",
       "\n",
       "                "
      ],
      "text/plain": [
       "<IPython.core.display.HTML object>"
      ]
     },
     "metadata": {},
     "output_type": "display_data",
     "transient": {}
    },
    {
     "name": "stdout",
     "output_type": "stream",
     "text": [
      "epoch: 0.125\n",
      "[1,    50] loss: 2.117\n"
     ]
    },
    {
     "name": "stdout",
     "output_type": "stream",
     "text": [
      "epoch: 0.25\n",
      "[1,   100] loss: 1.716\n"
     ]
    },
    {
     "name": "stdout",
     "output_type": "stream",
     "text": [
      "epoch: 0.375\n",
      "[1,   150] loss: 1.588\n"
     ]
    },
    {
     "name": "stdout",
     "output_type": "stream",
     "text": [
      "epoch: 0.5\n",
      "[1,   200] loss: 1.547\n"
     ]
    },
    {
     "name": "stdout",
     "output_type": "stream",
     "text": [
      "epoch: 0.625\n",
      "[1,   250] loss: 1.474\n"
     ]
    },
    {
     "name": "stdout",
     "output_type": "stream",
     "text": [
      "epoch: 0.75\n",
      "[1,   300] loss: 1.471\n"
     ]
    },
    {
     "name": "stdout",
     "output_type": "stream",
     "text": [
      "epoch: 0.875\n",
      "[1,   350] loss: 1.397\n"
     ]
    },
    {
     "name": "stdout",
     "output_type": "stream",
     "text": [
      "epoch: 1.0\n",
      "[1,   400] loss: 1.385\n"
     ]
    },
    {
     "name": "stdout",
     "output_type": "stream",
     "text": [
      "Valid Loss: 1.320765, accuracy: 0.52\n"
     ]
    },
    {
     "name": "stdout",
     "output_type": "stream",
     "text": [
      "epoch: 1.125\n",
      "[2,    50] loss: 1.229\n"
     ]
    },
    {
     "name": "stdout",
     "output_type": "stream",
     "text": [
      "epoch: 1.25\n",
      "[2,   100] loss: 1.255\n"
     ]
    },
    {
     "name": "stdout",
     "output_type": "stream",
     "text": [
      "epoch: 1.375\n",
      "[2,   150] loss: 1.237\n"
     ]
    },
    {
     "name": "stdout",
     "output_type": "stream",
     "text": [
      "epoch: 1.5\n",
      "[2,   200] loss: 1.225\n"
     ]
    },
    {
     "name": "stdout",
     "output_type": "stream",
     "text": [
      "epoch: 1.625\n",
      "[2,   250] loss: 1.192\n"
     ]
    },
    {
     "name": "stdout",
     "output_type": "stream",
     "text": [
      "epoch: 1.75\n",
      "[2,   300] loss: 1.190\n"
     ]
    },
    {
     "name": "stdout",
     "output_type": "stream",
     "text": [
      "epoch: 1.875\n",
      "[2,   350] loss: 1.161\n"
     ]
    },
    {
     "name": "stdout",
     "output_type": "stream",
     "text": [
      "epoch: 2.0\n",
      "[2,   400] loss: 1.182\n"
     ]
    },
    {
     "name": "stdout",
     "output_type": "stream",
     "text": [
      "Valid Loss: 1.211051, accuracy: 0.56\n"
     ]
    },
    {
     "name": "stdout",
     "output_type": "stream",
     "text": [
      "epoch: 2.125\n",
      "[3,    50] loss: 1.041\n"
     ]
    },
    {
     "name": "stdout",
     "output_type": "stream",
     "text": [
      "epoch: 2.25\n",
      "[3,   100] loss: 1.036\n"
     ]
    },
    {
     "name": "stdout",
     "output_type": "stream",
     "text": [
      "epoch: 2.375\n",
      "[3,   150] loss: 1.038\n"
     ]
    },
    {
     "name": "stdout",
     "output_type": "stream",
     "text": [
      "epoch: 2.5\n",
      "[3,   200] loss: 1.033\n"
     ]
    },
    {
     "name": "stdout",
     "output_type": "stream",
     "text": [
      "epoch: 2.625\n",
      "[3,   250] loss: 1.025\n"
     ]
    },
    {
     "name": "stdout",
     "output_type": "stream",
     "text": [
      "epoch: 2.75\n",
      "[3,   300] loss: 1.027\n"
     ]
    },
    {
     "name": "stdout",
     "output_type": "stream",
     "text": [
      "epoch: 2.875\n",
      "[3,   350] loss: 1.056\n"
     ]
    },
    {
     "name": "stdout",
     "output_type": "stream",
     "text": [
      "epoch: 3.0\n",
      "[3,   400] loss: 1.045\n"
     ]
    },
    {
     "name": "stdout",
     "output_type": "stream",
     "text": [
      "Valid Loss: 1.169024, accuracy: 0.59\n"
     ]
    },
    {
     "name": "stdout",
     "output_type": "stream",
     "text": [
      "epoch: 3.125\n",
      "[4,    50] loss: 0.895\n"
     ]
    },
    {
     "name": "stdout",
     "output_type": "stream",
     "text": [
      "epoch: 3.25\n",
      "[4,   100] loss: 0.911\n"
     ]
    },
    {
     "name": "stdout",
     "output_type": "stream",
     "text": [
      "epoch: 3.375\n",
      "[4,   150] loss: 0.901\n"
     ]
    },
    {
     "name": "stdout",
     "output_type": "stream",
     "text": [
      "epoch: 3.5\n",
      "[4,   200] loss: 0.895\n"
     ]
    },
    {
     "name": "stdout",
     "output_type": "stream",
     "text": [
      "epoch: 3.625\n",
      "[4,   250] loss: 0.883\n"
     ]
    },
    {
     "name": "stdout",
     "output_type": "stream",
     "text": [
      "epoch: 3.75\n",
      "[4,   300] loss: 0.896\n"
     ]
    },
    {
     "name": "stdout",
     "output_type": "stream",
     "text": [
      "epoch: 3.875\n",
      "[4,   350] loss: 0.900\n"
     ]
    },
    {
     "name": "stdout",
     "output_type": "stream",
     "text": [
      "epoch: 4.0\n",
      "[4,   400] loss: 0.922\n"
     ]
    },
    {
     "name": "stdout",
     "output_type": "stream",
     "text": [
      "Valid Loss: 1.130964, accuracy: 0.60\n"
     ]
    },
    {
     "name": "stdout",
     "output_type": "stream",
     "text": [
      "epoch: 4.125\n",
      "[5,    50] loss: 0.768\n"
     ]
    },
    {
     "name": "stdout",
     "output_type": "stream",
     "text": [
      "epoch: 4.25\n",
      "[5,   100] loss: 0.781\n"
     ]
    },
    {
     "name": "stdout",
     "output_type": "stream",
     "text": [
      "epoch: 4.375\n",
      "[5,   150] loss: 0.774\n"
     ]
    },
    {
     "name": "stdout",
     "output_type": "stream",
     "text": [
      "epoch: 4.5\n",
      "[5,   200] loss: 0.772\n"
     ]
    },
    {
     "name": "stdout",
     "output_type": "stream",
     "text": [
      "epoch: 4.625\n",
      "[5,   250] loss: 0.785\n"
     ]
    },
    {
     "name": "stdout",
     "output_type": "stream",
     "text": [
      "epoch: 4.75\n",
      "[5,   300] loss: 0.768\n"
     ]
    },
    {
     "name": "stdout",
     "output_type": "stream",
     "text": [
      "epoch: 4.875\n",
      "[5,   350] loss: 0.784\n"
     ]
    },
    {
     "name": "stdout",
     "output_type": "stream",
     "text": [
      "epoch: 5.0\n",
      "[5,   400] loss: 0.787\n"
     ]
    },
    {
     "name": "stdout",
     "output_type": "stream",
     "text": [
      "Valid Loss: 1.152850, accuracy: 0.60\n"
     ]
    },
    {
     "name": "stdout",
     "output_type": "stream",
     "text": [
      "epoch: 5.125\n",
      "[6,    50] loss: 0.649\n"
     ]
    },
    {
     "name": "stdout",
     "output_type": "stream",
     "text": [
      "epoch: 5.25\n",
      "[6,   100] loss: 0.643\n"
     ]
    },
    {
     "name": "stdout",
     "output_type": "stream",
     "text": [
      "epoch: 5.375\n",
      "[6,   150] loss: 0.623\n"
     ]
    },
    {
     "name": "stdout",
     "output_type": "stream",
     "text": [
      "epoch: 5.5\n",
      "[6,   200] loss: 0.659\n"
     ]
    },
    {
     "name": "stdout",
     "output_type": "stream",
     "text": [
      "epoch: 5.625\n",
      "[6,   250] loss: 0.673\n"
     ]
    },
    {
     "name": "stdout",
     "output_type": "stream",
     "text": [
      "epoch: 5.75\n",
      "[6,   300] loss: 0.660\n"
     ]
    },
    {
     "name": "stdout",
     "output_type": "stream",
     "text": [
      "epoch: 5.875\n",
      "[6,   350] loss: 0.671\n"
     ]
    },
    {
     "name": "stdout",
     "output_type": "stream",
     "text": [
      "epoch: 6.0\n",
      "[6,   400] loss: 0.658\n"
     ]
    },
    {
     "name": "stdout",
     "output_type": "stream",
     "text": [
      "Valid Loss: 1.177778, accuracy: 0.62\n"
     ]
    },
    {
     "data": {
      "text/html": [
       "<br/>Waiting for W&B process to finish, PID 1149... <strong style=\"color:green\">(success).</strong>"
      ],
      "text/plain": [
       "<IPython.core.display.HTML object>"
      ]
     },
     "metadata": {},
     "output_type": "display_data",
     "transient": {}
    },
    {
     "data": {
      "text/html": [
       "<style>\n",
       "    table.wandb td:nth-child(1) { padding: 0 10px; text-align: right }\n",
       "    .wandb-row { display: flex; flex-direction: row; flex-wrap: wrap; width: 100% }\n",
       "    .wandb-col { display: flex; flex-direction: column; flex-basis: 100%; flex: 1; padding: 10px; }\n",
       "    </style>\n",
       "<div class=\"wandb-row\"><div class=\"wandb-col\">\n",
       "<h3>Run history:</h3><br/><table class=\"wandb\"><tr><td>avg epoch runtime (seconds)</td><td>▁</td></tr><tr><td>epoch</td><td>▁▁▁▁▂▂▂▂▂▂▃▃▃▃▃▄▄▄▄▄▅▅▅▅▅▅▆▆▆▆▆▇▇▇▇▇▇███</td></tr><tr><td>epoch_runtime (seconds)</td><td>▃█▁▃▅▆</td></tr><tr><td>train_loss</td><td>█▆▆▅▅▅▅▄▄▄▄▄▄▄▃▃▃▃▃▃▂▂▂▂▂▂▂▂▂▂▂▂▂▂▁▁▁▁▁▁</td></tr><tr><td>val_accuracy</td><td>▁▄▆▇▇█</td></tr><tr><td>val_loss</td><td>█▄▂▁▂▃</td></tr></table><br/></div><div class=\"wandb-col\">\n",
       "<h3>Run summary:</h3><br/><table class=\"wandb\"><tr><td>avg epoch runtime (seconds)</td><td>5.39699</td></tr><tr><td>epoch</td><td>6.0</td></tr><tr><td>epoch_runtime (seconds)</td><td>5.47564</td></tr><tr><td>train_loss</td><td>0.6579</td></tr><tr><td>val_accuracy</td><td>0.618</td></tr><tr><td>val_loss</td><td>1.17778</td></tr></table>\n",
       "</div></div>\n",
       "Synced 5 W&B file(s), 0 media file(s), 0 artifact file(s) and 0 other file(s)\n",
       "<br/>Synced <strong style=\"color:#cdcd00\">icy-sweep-3</strong>: <a href=\"https://wandb.ai/joshuapaperspace/test-project/runs/omu970ls\" target=\"_blank\">https://wandb.ai/joshuapaperspace/test-project/runs/omu970ls</a><br/>\n",
       "Find logs at: <code>./wandb/run-20220217_171202-omu970ls/logs</code><br/>\n"
      ],
      "text/plain": [
       "<IPython.core.display.HTML object>"
      ]
     },
     "metadata": {},
     "output_type": "display_data",
     "transient": {}
    },
    {
     "name": "stdout",
     "output_type": "stream",
     "text": [
      "Training Finished\n"
     ]
    },
    {
     "name": "stderr",
     "output_type": "stream",
     "text": [
      "\u001b[34m\u001b[1mwandb\u001b[0m: Agent Starting Run: jkkntzu2 with config:\n"
     ]
    },
    {
     "name": "stderr",
     "output_type": "stream",
     "text": [
      "\u001b[34m\u001b[1mwandb\u001b[0m: \tbatch_size: 16\n"
     ]
    },
    {
     "name": "stderr",
     "output_type": "stream",
     "text": [
      "\u001b[34m\u001b[1mwandb\u001b[0m: \tepochs: 6\n"
     ]
    },
    {
     "name": "stderr",
     "output_type": "stream",
     "text": [
      "\u001b[34m\u001b[1mwandb\u001b[0m: \tlr: 0.0001\n"
     ]
    },
    {
     "name": "stderr",
     "output_type": "stream",
     "text": [
      "\u001b[34m\u001b[1mwandb\u001b[0m: \tmodel: ResNet34\n"
     ]
    },
    {
     "name": "stderr",
     "output_type": "stream",
     "text": [
      "\u001b[34m\u001b[1mwandb\u001b[0m: \u001b[33mWARNING\u001b[0m Ignored wandb.init() arg project when running a sweep.\n"
     ]
    },
    {
     "data": {
      "text/html": [
       "\n",
       "                    Syncing run <strong><a href=\"https://wandb.ai/joshuapaperspace/test-project/runs/jkkntzu2\" target=\"_blank\">scarlet-sweep-4</a></strong> to <a href=\"https://wandb.ai/joshuapaperspace/test-project\" target=\"_blank\">Weights & Biases</a> (<a href=\"https://docs.wandb.com/integrations/jupyter.html\" target=\"_blank\">docs</a>).<br/>\n",
       "Sweep page: <a href=\"https://wandb.ai/joshuapaperspace/test-project/sweeps/wuz0x8de\" target=\"_blank\">https://wandb.ai/joshuapaperspace/test-project/sweeps/wuz0x8de</a><br/>\n",
       "\n",
       "                "
      ],
      "text/plain": [
       "<IPython.core.display.HTML object>"
      ]
     },
     "metadata": {},
     "output_type": "display_data",
     "transient": {}
    },
    {
     "name": "stdout",
     "output_type": "stream",
     "text": [
      "epoch: 0.125\n",
      "[1,    50] loss: 2.131\n"
     ]
    },
    {
     "name": "stdout",
     "output_type": "stream",
     "text": [
      "epoch: 0.25\n",
      "[1,   100] loss: 1.722\n"
     ]
    },
    {
     "name": "stdout",
     "output_type": "stream",
     "text": [
      "epoch: 0.375\n",
      "[1,   150] loss: 1.641\n"
     ]
    },
    {
     "name": "stdout",
     "output_type": "stream",
     "text": [
      "epoch: 0.5\n",
      "[1,   200] loss: 1.547\n"
     ]
    },
    {
     "name": "stdout",
     "output_type": "stream",
     "text": [
      "epoch: 0.625\n",
      "[1,   250] loss: 1.506\n"
     ]
    },
    {
     "name": "stdout",
     "output_type": "stream",
     "text": [
      "epoch: 0.75\n",
      "[1,   300] loss: 1.451\n"
     ]
    },
    {
     "name": "stdout",
     "output_type": "stream",
     "text": [
      "epoch: 0.875\n",
      "[1,   350] loss: 1.394\n"
     ]
    },
    {
     "name": "stdout",
     "output_type": "stream",
     "text": [
      "epoch: 1.0\n",
      "[1,   400] loss: 1.395\n"
     ]
    },
    {
     "name": "stdout",
     "output_type": "stream",
     "text": [
      "Valid Loss: 1.350927, accuracy: 0.53\n"
     ]
    },
    {
     "name": "stdout",
     "output_type": "stream",
     "text": [
      "epoch: 1.125\n",
      "[2,    50] loss: 1.165\n"
     ]
    },
    {
     "name": "stdout",
     "output_type": "stream",
     "text": [
      "epoch: 1.25\n",
      "[2,   100] loss: 1.177\n"
     ]
    },
    {
     "name": "stdout",
     "output_type": "stream",
     "text": [
      "epoch: 1.375\n",
      "[2,   150] loss: 1.159\n"
     ]
    },
    {
     "name": "stdout",
     "output_type": "stream",
     "text": [
      "epoch: 1.5\n",
      "[2,   200] loss: 1.177\n"
     ]
    },
    {
     "name": "stdout",
     "output_type": "stream",
     "text": [
      "epoch: 1.625\n",
      "[2,   250] loss: 1.160\n"
     ]
    },
    {
     "name": "stdout",
     "output_type": "stream",
     "text": [
      "epoch: 1.75\n",
      "[2,   300] loss: 1.163\n"
     ]
    },
    {
     "name": "stdout",
     "output_type": "stream",
     "text": [
      "epoch: 1.875\n",
      "[2,   350] loss: 1.163\n"
     ]
    },
    {
     "name": "stdout",
     "output_type": "stream",
     "text": [
      "epoch: 2.0\n",
      "[2,   400] loss: 1.115\n"
     ]
    },
    {
     "name": "stdout",
     "output_type": "stream",
     "text": [
      "Valid Loss: 1.252922, accuracy: 0.55\n"
     ]
    },
    {
     "name": "stdout",
     "output_type": "stream",
     "text": [
      "epoch: 2.125\n",
      "[3,    50] loss: 0.917\n"
     ]
    },
    {
     "name": "stdout",
     "output_type": "stream",
     "text": [
      "epoch: 2.25\n",
      "[3,   100] loss: 0.953\n"
     ]
    },
    {
     "name": "stdout",
     "output_type": "stream",
     "text": [
      "epoch: 2.375\n",
      "[3,   150] loss: 0.935\n"
     ]
    },
    {
     "name": "stdout",
     "output_type": "stream",
     "text": [
      "epoch: 2.5\n",
      "[3,   200] loss: 0.931\n"
     ]
    },
    {
     "name": "stdout",
     "output_type": "stream",
     "text": [
      "epoch: 2.625\n",
      "[3,   250] loss: 0.937\n"
     ]
    },
    {
     "name": "stdout",
     "output_type": "stream",
     "text": [
      "epoch: 2.75\n",
      "[3,   300] loss: 0.946\n"
     ]
    },
    {
     "name": "stdout",
     "output_type": "stream",
     "text": [
      "epoch: 2.875\n",
      "[3,   350] loss: 0.948\n"
     ]
    },
    {
     "name": "stdout",
     "output_type": "stream",
     "text": [
      "epoch: 3.0\n",
      "[3,   400] loss: 0.957\n"
     ]
    },
    {
     "name": "stdout",
     "output_type": "stream",
     "text": [
      "Valid Loss: 1.225101, accuracy: 0.57\n"
     ]
    },
    {
     "name": "stdout",
     "output_type": "stream",
     "text": [
      "epoch: 3.125\n",
      "[4,    50] loss: 0.728\n"
     ]
    },
    {
     "name": "stdout",
     "output_type": "stream",
     "text": [
      "epoch: 3.25\n",
      "[4,   100] loss: 0.731\n"
     ]
    },
    {
     "name": "stdout",
     "output_type": "stream",
     "text": [
      "epoch: 3.375\n",
      "[4,   150] loss: 0.740\n"
     ]
    },
    {
     "name": "stdout",
     "output_type": "stream",
     "text": [
      "epoch: 3.5\n",
      "[4,   200] loss: 0.747\n"
     ]
    },
    {
     "name": "stdout",
     "output_type": "stream",
     "text": [
      "epoch: 3.625\n",
      "[4,   250] loss: 0.771\n"
     ]
    },
    {
     "name": "stdout",
     "output_type": "stream",
     "text": [
      "epoch: 3.75\n",
      "[4,   300] loss: 0.729\n"
     ]
    },
    {
     "name": "stdout",
     "output_type": "stream",
     "text": [
      "epoch: 3.875\n",
      "[4,   350] loss: 0.757\n"
     ]
    },
    {
     "name": "stdout",
     "output_type": "stream",
     "text": [
      "epoch: 4.0\n",
      "[4,   400] loss: 0.754\n"
     ]
    },
    {
     "name": "stdout",
     "output_type": "stream",
     "text": [
      "Valid Loss: 1.234721, accuracy: 0.58\n"
     ]
    },
    {
     "name": "stdout",
     "output_type": "stream",
     "text": [
      "epoch: 4.125\n",
      "[5,    50] loss: 0.532\n"
     ]
    },
    {
     "name": "stdout",
     "output_type": "stream",
     "text": [
      "epoch: 4.25\n",
      "[5,   100] loss: 0.553\n"
     ]
    },
    {
     "name": "stdout",
     "output_type": "stream",
     "text": [
      "epoch: 4.375\n",
      "[5,   150] loss: 0.536\n"
     ]
    },
    {
     "name": "stdout",
     "output_type": "stream",
     "text": [
      "epoch: 4.5\n",
      "[5,   200] loss: 0.529\n"
     ]
    },
    {
     "name": "stdout",
     "output_type": "stream",
     "text": [
      "epoch: 4.625\n",
      "[5,   250] loss: 0.560\n"
     ]
    },
    {
     "name": "stdout",
     "output_type": "stream",
     "text": [
      "epoch: 4.75\n",
      "[5,   300] loss: 0.582\n"
     ]
    },
    {
     "name": "stdout",
     "output_type": "stream",
     "text": [
      "epoch: 4.875\n",
      "[5,   350] loss: 0.576\n"
     ]
    },
    {
     "name": "stdout",
     "output_type": "stream",
     "text": [
      "epoch: 5.0\n",
      "[5,   400] loss: 0.583\n"
     ]
    },
    {
     "name": "stdout",
     "output_type": "stream",
     "text": [
      "Valid Loss: 1.307597, accuracy: 0.58\n"
     ]
    },
    {
     "name": "stdout",
     "output_type": "stream",
     "text": [
      "epoch: 5.125\n",
      "[6,    50] loss: 0.361\n"
     ]
    },
    {
     "name": "stdout",
     "output_type": "stream",
     "text": [
      "epoch: 5.25\n",
      "[6,   100] loss: 0.362\n"
     ]
    },
    {
     "name": "stdout",
     "output_type": "stream",
     "text": [
      "epoch: 5.375\n",
      "[6,   150] loss: 0.368\n"
     ]
    },
    {
     "name": "stdout",
     "output_type": "stream",
     "text": [
      "epoch: 5.5\n",
      "[6,   200] loss: 0.379\n"
     ]
    },
    {
     "name": "stdout",
     "output_type": "stream",
     "text": [
      "epoch: 5.625\n",
      "[6,   250] loss: 0.390\n"
     ]
    },
    {
     "name": "stdout",
     "output_type": "stream",
     "text": [
      "epoch: 5.75\n",
      "[6,   300] loss: 0.387\n"
     ]
    },
    {
     "name": "stdout",
     "output_type": "stream",
     "text": [
      "epoch: 5.875\n",
      "[6,   350] loss: 0.409\n"
     ]
    },
    {
     "name": "stdout",
     "output_type": "stream",
     "text": [
      "epoch: 6.0\n",
      "[6,   400] loss: 0.423\n"
     ]
    },
    {
     "name": "stdout",
     "output_type": "stream",
     "text": [
      "Valid Loss: 1.428951, accuracy: 0.57\n"
     ]
    },
    {
     "data": {
      "text/html": [
       "<br/>Waiting for W&B process to finish, PID 1642... <strong style=\"color:green\">(success).</strong>"
      ],
      "text/plain": [
       "<IPython.core.display.HTML object>"
      ]
     },
     "metadata": {},
     "output_type": "display_data",
     "transient": {}
    },
    {
     "data": {
      "text/html": [
       "<style>\n",
       "    table.wandb td:nth-child(1) { padding: 0 10px; text-align: right }\n",
       "    .wandb-row { display: flex; flex-direction: row; flex-wrap: wrap; width: 100% }\n",
       "    .wandb-col { display: flex; flex-direction: column; flex-basis: 100%; flex: 1; padding: 10px; }\n",
       "    </style>\n",
       "<div class=\"wandb-row\"><div class=\"wandb-col\">\n",
       "<h3>Run history:</h3><br/><table class=\"wandb\"><tr><td>avg epoch runtime (seconds)</td><td>▁</td></tr><tr><td>epoch</td><td>▁▁▁▁▂▂▂▂▂▂▃▃▃▃▃▄▄▄▄▄▅▅▅▅▅▅▆▆▆▆▆▇▇▇▇▇▇███</td></tr><tr><td>epoch_runtime (seconds)</td><td>██▅▁▂▅</td></tr><tr><td>train_loss</td><td>█▆▆▆▆▅▅▄▄▄▄▄▄▄▃▃▃▃▃▃▂▂▂▃▃▃▃▂▂▂▂▂▂▂▁▁▁▁▁▁</td></tr><tr><td>val_accuracy</td><td>▁▄▇█▇▇</td></tr><tr><td>val_loss</td><td>▅▂▁▁▄█</td></tr></table><br/></div><div class=\"wandb-col\">\n",
       "<h3>Run summary:</h3><br/><table class=\"wandb\"><tr><td>avg epoch runtime (seconds)</td><td>8.13255</td></tr><tr><td>epoch</td><td>6.0</td></tr><tr><td>epoch_runtime (seconds)</td><td>8.14895</td></tr><tr><td>train_loss</td><td>0.42252</td></tr><tr><td>val_accuracy</td><td>0.5745</td></tr><tr><td>val_loss</td><td>1.42895</td></tr></table>\n",
       "</div></div>\n",
       "Synced 5 W&B file(s), 0 media file(s), 0 artifact file(s) and 0 other file(s)\n",
       "<br/>Synced <strong style=\"color:#cdcd00\">scarlet-sweep-4</strong>: <a href=\"https://wandb.ai/joshuapaperspace/test-project/runs/jkkntzu2\" target=\"_blank\">https://wandb.ai/joshuapaperspace/test-project/runs/jkkntzu2</a><br/>\n",
       "Find logs at: <code>./wandb/run-20220217_171243-jkkntzu2/logs</code><br/>\n"
      ],
      "text/plain": [
       "<IPython.core.display.HTML object>"
      ]
     },
     "metadata": {},
     "output_type": "display_data",
     "transient": {}
    },
    {
     "name": "stdout",
     "output_type": "stream",
     "text": [
      "Training Finished\n"
     ]
    },
    {
     "name": "stderr",
     "output_type": "stream",
     "text": [
      "\u001b[34m\u001b[1mwandb\u001b[0m: Agent Starting Run: 6lka41y7 with config:\n"
     ]
    },
    {
     "name": "stderr",
     "output_type": "stream",
     "text": [
      "\u001b[34m\u001b[1mwandb\u001b[0m: \tbatch_size: 128\n"
     ]
    },
    {
     "name": "stderr",
     "output_type": "stream",
     "text": [
      "\u001b[34m\u001b[1mwandb\u001b[0m: \tepochs: 6\n"
     ]
    },
    {
     "name": "stderr",
     "output_type": "stream",
     "text": [
      "\u001b[34m\u001b[1mwandb\u001b[0m: \tlr: 0.001\n"
     ]
    },
    {
     "name": "stderr",
     "output_type": "stream",
     "text": [
      "\u001b[34m\u001b[1mwandb\u001b[0m: \tmodel: ResNet18\n"
     ]
    },
    {
     "name": "stderr",
     "output_type": "stream",
     "text": [
      "\u001b[34m\u001b[1mwandb\u001b[0m: \u001b[33mWARNING\u001b[0m Ignored wandb.init() arg project when running a sweep.\n"
     ]
    },
    {
     "data": {
      "text/html": [
       "\n",
       "                    Syncing run <strong><a href=\"https://wandb.ai/joshuapaperspace/test-project/runs/6lka41y7\" target=\"_blank\">glad-sweep-5</a></strong> to <a href=\"https://wandb.ai/joshuapaperspace/test-project\" target=\"_blank\">Weights & Biases</a> (<a href=\"https://docs.wandb.com/integrations/jupyter.html\" target=\"_blank\">docs</a>).<br/>\n",
       "Sweep page: <a href=\"https://wandb.ai/joshuapaperspace/test-project/sweeps/wuz0x8de\" target=\"_blank\">https://wandb.ai/joshuapaperspace/test-project/sweeps/wuz0x8de</a><br/>\n",
       "\n",
       "                "
      ],
      "text/plain": [
       "<IPython.core.display.HTML object>"
      ]
     },
     "metadata": {},
     "output_type": "display_data",
     "transient": {}
    },
    {
     "name": "stdout",
     "output_type": "stream",
     "text": [
      "epoch: 0.125\n",
      "[1,    50] loss: 1.862\n"
     ]
    },
    {
     "name": "stdout",
     "output_type": "stream",
     "text": [
      "epoch: 0.25\n",
      "[1,   100] loss: 1.527\n"
     ]
    },
    {
     "name": "stdout",
     "output_type": "stream",
     "text": [
      "epoch: 0.375\n",
      "[1,   150] loss: 1.375\n"
     ]
    },
    {
     "name": "stdout",
     "output_type": "stream",
     "text": [
      "epoch: 0.5\n",
      "[1,   200] loss: 1.292\n"
     ]
    },
    {
     "name": "stdout",
     "output_type": "stream",
     "text": [
      "epoch: 0.625\n",
      "[1,   250] loss: 1.234\n"
     ]
    },
    {
     "name": "stdout",
     "output_type": "stream",
     "text": [
      "epoch: 0.75\n",
      "[1,   300] loss: 1.195\n"
     ]
    },
    {
     "name": "stdout",
     "output_type": "stream",
     "text": [
      "epoch: 0.875\n",
      "[1,   350] loss: 1.168\n"
     ]
    },
    {
     "name": "stdout",
     "output_type": "stream",
     "text": [
      "epoch: 1.0\n",
      "[1,   400] loss: 1.132\n"
     ]
    },
    {
     "name": "stdout",
     "output_type": "stream",
     "text": [
      "Valid Loss: 1.093151, accuracy: 0.61\n"
     ]
    },
    {
     "name": "stdout",
     "output_type": "stream",
     "text": [
      "epoch: 1.125\n",
      "[2,    50] loss: 0.948\n"
     ]
    },
    {
     "name": "stdout",
     "output_type": "stream",
     "text": [
      "epoch: 1.25\n",
      "[2,   100] loss: 0.954\n"
     ]
    },
    {
     "name": "stdout",
     "output_type": "stream",
     "text": [
      "epoch: 1.375\n",
      "[2,   150] loss: 0.951\n"
     ]
    },
    {
     "name": "stdout",
     "output_type": "stream",
     "text": [
      "epoch: 1.5\n",
      "[2,   200] loss: 0.922\n"
     ]
    },
    {
     "name": "stdout",
     "output_type": "stream",
     "text": [
      "epoch: 1.625\n",
      "[2,   250] loss: 0.957\n"
     ]
    },
    {
     "name": "stdout",
     "output_type": "stream",
     "text": [
      "epoch: 1.75\n",
      "[2,   300] loss: 0.903\n"
     ]
    },
    {
     "name": "stdout",
     "output_type": "stream",
     "text": [
      "epoch: 1.875\n",
      "[2,   350] loss: 0.928\n"
     ]
    },
    {
     "name": "stdout",
     "output_type": "stream",
     "text": [
      "epoch: 2.0\n",
      "[2,   400] loss: 0.903\n"
     ]
    },
    {
     "name": "stdout",
     "output_type": "stream",
     "text": [
      "Valid Loss: 0.957866, accuracy: 0.67\n"
     ]
    },
    {
     "name": "stdout",
     "output_type": "stream",
     "text": [
      "epoch: 2.125\n",
      "[3,    50] loss: 0.724\n"
     ]
    },
    {
     "name": "stdout",
     "output_type": "stream",
     "text": [
      "epoch: 2.25\n",
      "[3,   100] loss: 0.717\n"
     ]
    },
    {
     "name": "stdout",
     "output_type": "stream",
     "text": [
      "epoch: 2.375\n",
      "[3,   150] loss: 0.706\n"
     ]
    },
    {
     "name": "stdout",
     "output_type": "stream",
     "text": [
      "epoch: 2.5\n",
      "[3,   200] loss: 0.740\n"
     ]
    },
    {
     "name": "stdout",
     "output_type": "stream",
     "text": [
      "epoch: 2.625\n",
      "[3,   250] loss: 0.772\n"
     ]
    },
    {
     "name": "stdout",
     "output_type": "stream",
     "text": [
      "epoch: 2.75\n",
      "[3,   300] loss: 0.749\n"
     ]
    },
    {
     "name": "stdout",
     "output_type": "stream",
     "text": [
      "epoch: 2.875\n",
      "[3,   350] loss: 0.757\n"
     ]
    },
    {
     "name": "stdout",
     "output_type": "stream",
     "text": [
      "epoch: 3.0\n",
      "[3,   400] loss: 0.741\n"
     ]
    },
    {
     "name": "stdout",
     "output_type": "stream",
     "text": [
      "Valid Loss: 0.905640, accuracy: 0.69\n"
     ]
    },
    {
     "name": "stdout",
     "output_type": "stream",
     "text": [
      "epoch: 3.125\n",
      "[4,    50] loss: 0.535\n"
     ]
    },
    {
     "name": "stdout",
     "output_type": "stream",
     "text": [
      "epoch: 3.25\n",
      "[4,   100] loss: 0.535\n"
     ]
    },
    {
     "name": "stdout",
     "output_type": "stream",
     "text": [
      "epoch: 3.375\n",
      "[4,   150] loss: 0.586\n"
     ]
    },
    {
     "name": "stdout",
     "output_type": "stream",
     "text": [
      "epoch: 3.5\n",
      "[4,   200] loss: 0.607\n"
     ]
    },
    {
     "name": "stdout",
     "output_type": "stream",
     "text": [
      "epoch: 3.625\n",
      "[4,   250] loss: 0.608\n"
     ]
    },
    {
     "name": "stdout",
     "output_type": "stream",
     "text": [
      "epoch: 3.75\n",
      "[4,   300] loss: 0.607\n"
     ]
    },
    {
     "name": "stdout",
     "output_type": "stream",
     "text": [
      "epoch: 3.875\n",
      "[4,   350] loss: 0.616\n"
     ]
    },
    {
     "name": "stdout",
     "output_type": "stream",
     "text": [
      "epoch: 4.0\n",
      "[4,   400] loss: 0.624\n"
     ]
    },
    {
     "name": "stdout",
     "output_type": "stream",
     "text": [
      "Valid Loss: 0.988398, accuracy: 0.67\n"
     ]
    },
    {
     "name": "stdout",
     "output_type": "stream",
     "text": [
      "epoch: 4.125\n",
      "[5,    50] loss: 0.404\n"
     ]
    },
    {
     "name": "stdout",
     "output_type": "stream",
     "text": [
      "epoch: 4.25\n",
      "[5,   100] loss: 0.399\n"
     ]
    },
    {
     "name": "stdout",
     "output_type": "stream",
     "text": [
      "epoch: 4.375\n",
      "[5,   150] loss: 0.434\n"
     ]
    },
    {
     "name": "stdout",
     "output_type": "stream",
     "text": [
      "epoch: 4.5\n",
      "[5,   200] loss: 0.472\n"
     ]
    },
    {
     "name": "stdout",
     "output_type": "stream",
     "text": [
      "epoch: 4.625\n",
      "[5,   250] loss: 0.476\n"
     ]
    },
    {
     "name": "stdout",
     "output_type": "stream",
     "text": [
      "epoch: 4.75\n",
      "[5,   300] loss: 0.497\n"
     ]
    },
    {
     "name": "stdout",
     "output_type": "stream",
     "text": [
      "epoch: 4.875\n",
      "[5,   350] loss: 0.508\n"
     ]
    },
    {
     "name": "stdout",
     "output_type": "stream",
     "text": [
      "epoch: 5.0\n",
      "[5,   400] loss: 0.529\n"
     ]
    },
    {
     "name": "stdout",
     "output_type": "stream",
     "text": [
      "Valid Loss: 0.939673, accuracy: 0.70\n"
     ]
    },
    {
     "name": "stdout",
     "output_type": "stream",
     "text": [
      "epoch: 5.125\n",
      "[6,    50] loss: 0.308\n"
     ]
    },
    {
     "name": "stdout",
     "output_type": "stream",
     "text": [
      "epoch: 5.25\n",
      "[6,   100] loss: 0.296\n"
     ]
    },
    {
     "name": "stdout",
     "output_type": "stream",
     "text": [
      "epoch: 5.375\n",
      "[6,   150] loss: 0.328\n"
     ]
    },
    {
     "name": "stdout",
     "output_type": "stream",
     "text": [
      "epoch: 5.5\n",
      "[6,   200] loss: 0.350\n"
     ]
    },
    {
     "name": "stdout",
     "output_type": "stream",
     "text": [
      "epoch: 5.625\n",
      "[6,   250] loss: 0.374\n"
     ]
    },
    {
     "name": "stdout",
     "output_type": "stream",
     "text": [
      "epoch: 5.75\n",
      "[6,   300] loss: 0.368\n"
     ]
    },
    {
     "name": "stdout",
     "output_type": "stream",
     "text": [
      "epoch: 5.875\n",
      "[6,   350] loss: 0.396\n"
     ]
    },
    {
     "name": "stdout",
     "output_type": "stream",
     "text": [
      "epoch: 6.0\n",
      "[6,   400] loss: 0.433\n"
     ]
    },
    {
     "name": "stdout",
     "output_type": "stream",
     "text": [
      "Valid Loss: 1.014066, accuracy: 0.70\n"
     ]
    },
    {
     "data": {
      "text/html": [
       "<br/>Waiting for W&B process to finish, PID 2135... <strong style=\"color:green\">(success).</strong>"
      ],
      "text/plain": [
       "<IPython.core.display.HTML object>"
      ]
     },
     "metadata": {},
     "output_type": "display_data",
     "transient": {}
    },
    {
     "data": {
      "text/html": [
       "<style>\n",
       "    table.wandb td:nth-child(1) { padding: 0 10px; text-align: right }\n",
       "    .wandb-row { display: flex; flex-direction: row; flex-wrap: wrap; width: 100% }\n",
       "    .wandb-col { display: flex; flex-direction: column; flex-basis: 100%; flex: 1; padding: 10px; }\n",
       "    </style>\n",
       "<div class=\"wandb-row\"><div class=\"wandb-col\">\n",
       "<h3>Run history:</h3><br/><table class=\"wandb\"><tr><td>avg epoch runtime (seconds)</td><td>▁</td></tr><tr><td>epoch</td><td>▁▁▁▁▂▂▂▂▂▂▃▃▃▃▃▄▄▄▄▄▅▅▅▅▅▅▆▆▆▆▆▇▇▇▇▇▇███</td></tr><tr><td>epoch_runtime (seconds)</td><td>▂▃█▄▂▁</td></tr><tr><td>train_loss</td><td>█▆▆▅▅▅▅▄▄▄▄▄▄▄▃▃▃▃▃▃▂▂▂▂▂▂▂▁▁▂▂▂▂▂▁▁▁▁▁▂</td></tr><tr><td>val_accuracy</td><td>▁▅▇▆█▇</td></tr><tr><td>val_loss</td><td>█▃▁▄▂▅</td></tr></table><br/></div><div class=\"wandb-col\">\n",
       "<h3>Run summary:</h3><br/><table class=\"wandb\"><tr><td>avg epoch runtime (seconds)</td><td>5.32836</td></tr><tr><td>epoch</td><td>6.0</td></tr><tr><td>epoch_runtime (seconds)</td><td>5.26279</td></tr><tr><td>train_loss</td><td>0.43309</td></tr><tr><td>val_accuracy</td><td>0.696</td></tr><tr><td>val_loss</td><td>1.01407</td></tr></table>\n",
       "</div></div>\n",
       "Synced 5 W&B file(s), 0 media file(s), 0 artifact file(s) and 0 other file(s)\n",
       "<br/>Synced <strong style=\"color:#cdcd00\">glad-sweep-5</strong>: <a href=\"https://wandb.ai/joshuapaperspace/test-project/runs/6lka41y7\" target=\"_blank\">https://wandb.ai/joshuapaperspace/test-project/runs/6lka41y7</a><br/>\n",
       "Find logs at: <code>./wandb/run-20220217_171340-6lka41y7/logs</code><br/>\n"
      ],
      "text/plain": [
       "<IPython.core.display.HTML object>"
      ]
     },
     "metadata": {},
     "output_type": "display_data",
     "transient": {}
    },
    {
     "name": "stdout",
     "output_type": "stream",
     "text": [
      "Training Finished\n"
     ]
    },
    {
     "name": "stderr",
     "output_type": "stream",
     "text": [
      "\u001b[34m\u001b[1mwandb\u001b[0m: Agent Starting Run: e32onto0 with config:\n"
     ]
    },
    {
     "name": "stderr",
     "output_type": "stream",
     "text": [
      "\u001b[34m\u001b[1mwandb\u001b[0m: \tbatch_size: 128\n"
     ]
    },
    {
     "name": "stderr",
     "output_type": "stream",
     "text": [
      "\u001b[34m\u001b[1mwandb\u001b[0m: \tepochs: 6\n"
     ]
    },
    {
     "name": "stderr",
     "output_type": "stream",
     "text": [
      "\u001b[34m\u001b[1mwandb\u001b[0m: \tlr: 0.001\n"
     ]
    },
    {
     "name": "stderr",
     "output_type": "stream",
     "text": [
      "\u001b[34m\u001b[1mwandb\u001b[0m: \tmodel: ResNet34\n"
     ]
    },
    {
     "name": "stderr",
     "output_type": "stream",
     "text": [
      "\u001b[34m\u001b[1mwandb\u001b[0m: \u001b[33mWARNING\u001b[0m Ignored wandb.init() arg project when running a sweep.\n"
     ]
    },
    {
     "data": {
      "text/html": [
       "\n",
       "                    Syncing run <strong><a href=\"https://wandb.ai/joshuapaperspace/test-project/runs/e32onto0\" target=\"_blank\">crimson-sweep-6</a></strong> to <a href=\"https://wandb.ai/joshuapaperspace/test-project\" target=\"_blank\">Weights & Biases</a> (<a href=\"https://docs.wandb.com/integrations/jupyter.html\" target=\"_blank\">docs</a>).<br/>\n",
       "Sweep page: <a href=\"https://wandb.ai/joshuapaperspace/test-project/sweeps/wuz0x8de\" target=\"_blank\">https://wandb.ai/joshuapaperspace/test-project/sweeps/wuz0x8de</a><br/>\n",
       "\n",
       "                "
      ],
      "text/plain": [
       "<IPython.core.display.HTML object>"
      ]
     },
     "metadata": {},
     "output_type": "display_data",
     "transient": {}
    },
    {
     "name": "stdout",
     "output_type": "stream",
     "text": [
      "epoch: 0.125\n",
      "[1,    50] loss: 1.942\n"
     ]
    },
    {
     "name": "stdout",
     "output_type": "stream",
     "text": [
      "epoch: 0.25\n",
      "[1,   100] loss: 1.604\n"
     ]
    },
    {
     "name": "stdout",
     "output_type": "stream",
     "text": [
      "epoch: 0.375\n",
      "[1,   150] loss: 1.434\n"
     ]
    },
    {
     "name": "stdout",
     "output_type": "stream",
     "text": [
      "epoch: 0.5\n",
      "[1,   200] loss: 1.340\n"
     ]
    },
    {
     "name": "stdout",
     "output_type": "stream",
     "text": [
      "epoch: 0.625\n",
      "[1,   250] loss: 1.257\n"
     ]
    },
    {
     "name": "stdout",
     "output_type": "stream",
     "text": [
      "epoch: 0.75\n",
      "[1,   300] loss: 1.237\n"
     ]
    },
    {
     "name": "stdout",
     "output_type": "stream",
     "text": [
      "epoch: 0.875\n",
      "[1,   350] loss: 1.194\n"
     ]
    },
    {
     "name": "stdout",
     "output_type": "stream",
     "text": [
      "epoch: 1.0\n",
      "[1,   400] loss: 1.152\n"
     ]
    },
    {
     "name": "stdout",
     "output_type": "stream",
     "text": [
      "Valid Loss: 1.158557, accuracy: 0.58\n"
     ]
    },
    {
     "name": "stdout",
     "output_type": "stream",
     "text": [
      "epoch: 1.125\n",
      "[2,    50] loss: 0.994\n"
     ]
    },
    {
     "name": "stdout",
     "output_type": "stream",
     "text": [
      "epoch: 1.25\n",
      "[2,   100] loss: 0.968\n"
     ]
    },
    {
     "name": "stdout",
     "output_type": "stream",
     "text": [
      "epoch: 1.375\n",
      "[2,   150] loss: 0.969\n"
     ]
    },
    {
     "name": "stdout",
     "output_type": "stream",
     "text": [
      "epoch: 1.5\n",
      "[2,   200] loss: 0.985\n"
     ]
    },
    {
     "name": "stdout",
     "output_type": "stream",
     "text": [
      "epoch: 1.625\n",
      "[2,   250] loss: 0.949\n"
     ]
    },
    {
     "name": "stdout",
     "output_type": "stream",
     "text": [
      "epoch: 1.75\n",
      "[2,   300] loss: 0.923\n"
     ]
    },
    {
     "name": "stdout",
     "output_type": "stream",
     "text": [
      "epoch: 1.875\n",
      "[2,   350] loss: 0.909\n"
     ]
    },
    {
     "name": "stdout",
     "output_type": "stream",
     "text": [
      "epoch: 2.0\n",
      "[2,   400] loss: 0.951\n"
     ]
    },
    {
     "name": "stdout",
     "output_type": "stream",
     "text": [
      "Valid Loss: 0.981478, accuracy: 0.66\n"
     ]
    },
    {
     "name": "stdout",
     "output_type": "stream",
     "text": [
      "epoch: 2.125\n",
      "[3,    50] loss: 0.742\n"
     ]
    },
    {
     "name": "stdout",
     "output_type": "stream",
     "text": [
      "epoch: 2.25\n",
      "[3,   100] loss: 0.762\n"
     ]
    },
    {
     "name": "stdout",
     "output_type": "stream",
     "text": [
      "epoch: 2.375\n",
      "[3,   150] loss: 0.763\n"
     ]
    },
    {
     "name": "stdout",
     "output_type": "stream",
     "text": [
      "epoch: 2.5\n",
      "[3,   200] loss: 0.762\n"
     ]
    },
    {
     "name": "stdout",
     "output_type": "stream",
     "text": [
      "epoch: 2.625\n",
      "[3,   250] loss: 0.795\n"
     ]
    },
    {
     "name": "stdout",
     "output_type": "stream",
     "text": [
      "epoch: 2.75\n",
      "[3,   300] loss: 0.763\n"
     ]
    },
    {
     "name": "stdout",
     "output_type": "stream",
     "text": [
      "epoch: 2.875\n",
      "[3,   350] loss: 0.778\n"
     ]
    },
    {
     "name": "stdout",
     "output_type": "stream",
     "text": [
      "epoch: 3.0\n",
      "[3,   400] loss: 0.747\n"
     ]
    },
    {
     "name": "stdout",
     "output_type": "stream",
     "text": [
      "Valid Loss: 0.970252, accuracy: 0.67\n"
     ]
    },
    {
     "name": "stdout",
     "output_type": "stream",
     "text": [
      "epoch: 3.125\n",
      "[4,    50] loss: 0.552\n"
     ]
    },
    {
     "name": "stdout",
     "output_type": "stream",
     "text": [
      "epoch: 3.25\n",
      "[4,   100] loss: 0.550\n"
     ]
    },
    {
     "name": "stdout",
     "output_type": "stream",
     "text": [
      "epoch: 3.375\n",
      "[4,   150] loss: 0.603\n"
     ]
    },
    {
     "name": "stdout",
     "output_type": "stream",
     "text": [
      "epoch: 3.5\n",
      "[4,   200] loss: 0.630\n"
     ]
    },
    {
     "name": "stdout",
     "output_type": "stream",
     "text": [
      "epoch: 3.625\n",
      "[4,   250] loss: 0.623\n"
     ]
    },
    {
     "name": "stdout",
     "output_type": "stream",
     "text": [
      "epoch: 3.75\n",
      "[4,   300] loss: 0.632\n"
     ]
    },
    {
     "name": "stdout",
     "output_type": "stream",
     "text": [
      "epoch: 3.875\n",
      "[4,   350] loss: 0.633\n"
     ]
    },
    {
     "name": "stdout",
     "output_type": "stream",
     "text": [
      "epoch: 4.0\n",
      "[4,   400] loss: 0.640\n"
     ]
    },
    {
     "name": "stdout",
     "output_type": "stream",
     "text": [
      "Valid Loss: 0.951096, accuracy: 0.67\n"
     ]
    },
    {
     "name": "stdout",
     "output_type": "stream",
     "text": [
      "epoch: 4.125\n",
      "[5,    50] loss: 0.421\n"
     ]
    },
    {
     "name": "stdout",
     "output_type": "stream",
     "text": [
      "epoch: 4.25\n",
      "[5,   100] loss: 0.411\n"
     ]
    },
    {
     "name": "stdout",
     "output_type": "stream",
     "text": [
      "epoch: 4.375\n",
      "[5,   150] loss: 0.466\n"
     ]
    },
    {
     "name": "stdout",
     "output_type": "stream",
     "text": [
      "epoch: 4.5\n",
      "[5,   200] loss: 0.472\n"
     ]
    },
    {
     "name": "stdout",
     "output_type": "stream",
     "text": [
      "epoch: 4.625\n",
      "[5,   250] loss: 0.510\n"
     ]
    },
    {
     "name": "stdout",
     "output_type": "stream",
     "text": [
      "epoch: 4.75\n",
      "[5,   300] loss: 0.513\n"
     ]
    },
    {
     "name": "stdout",
     "output_type": "stream",
     "text": [
      "epoch: 4.875\n",
      "[5,   350] loss: 0.493\n"
     ]
    },
    {
     "name": "stdout",
     "output_type": "stream",
     "text": [
      "epoch: 5.0\n",
      "[5,   400] loss: 0.536\n"
     ]
    },
    {
     "name": "stdout",
     "output_type": "stream",
     "text": [
      "Valid Loss: 1.004178, accuracy: 0.68\n"
     ]
    },
    {
     "name": "stdout",
     "output_type": "stream",
     "text": [
      "epoch: 5.125\n",
      "[6,    50] loss: 0.304\n"
     ]
    },
    {
     "name": "stdout",
     "output_type": "stream",
     "text": [
      "epoch: 5.25\n",
      "[6,   100] loss: 0.315\n"
     ]
    },
    {
     "name": "stdout",
     "output_type": "stream",
     "text": [
      "epoch: 5.375\n",
      "[6,   150] loss: 0.358\n"
     ]
    },
    {
     "name": "stdout",
     "output_type": "stream",
     "text": [
      "epoch: 5.5\n",
      "[6,   200] loss: 0.367\n"
     ]
    },
    {
     "name": "stdout",
     "output_type": "stream",
     "text": [
      "epoch: 5.625\n",
      "[6,   250] loss: 0.386\n"
     ]
    },
    {
     "name": "stdout",
     "output_type": "stream",
     "text": [
      "epoch: 5.75\n",
      "[6,   300] loss: 0.401\n"
     ]
    },
    {
     "name": "stdout",
     "output_type": "stream",
     "text": [
      "epoch: 5.875\n",
      "[6,   350] loss: 0.438\n"
     ]
    },
    {
     "name": "stdout",
     "output_type": "stream",
     "text": [
      "epoch: 6.0\n",
      "[6,   400] loss: 0.402\n"
     ]
    },
    {
     "name": "stdout",
     "output_type": "stream",
     "text": [
      "Valid Loss: 1.094957, accuracy: 0.68\n"
     ]
    },
    {
     "data": {
      "text/html": [
       "<br/>Waiting for W&B process to finish, PID 2628... <strong style=\"color:green\">(success).</strong>"
      ],
      "text/plain": [
       "<IPython.core.display.HTML object>"
      ]
     },
     "metadata": {},
     "output_type": "display_data",
     "transient": {}
    },
    {
     "data": {
      "text/html": [
       "<style>\n",
       "    table.wandb td:nth-child(1) { padding: 0 10px; text-align: right }\n",
       "    .wandb-row { display: flex; flex-direction: row; flex-wrap: wrap; width: 100% }\n",
       "    .wandb-col { display: flex; flex-direction: column; flex-basis: 100%; flex: 1; padding: 10px; }\n",
       "    </style>\n",
       "<div class=\"wandb-row\"><div class=\"wandb-col\">\n",
       "<h3>Run history:</h3><br/><table class=\"wandb\"><tr><td>avg epoch runtime (seconds)</td><td>▁</td></tr><tr><td>epoch</td><td>▁▁▁▁▂▂▂▂▂▂▃▃▃▃▃▄▄▄▄▄▅▅▅▅▅▅▆▆▆▆▆▇▇▇▇▇▇███</td></tr><tr><td>epoch_runtime (seconds)</td><td>▇█▆▁▃█</td></tr><tr><td>train_loss</td><td>█▇▆▅▅▅▅▄▄▄▄▄▄▄▃▃▃▃▃▃▂▂▂▂▂▂▂▂▁▂▂▂▂▂▁▁▁▁▁▁</td></tr><tr><td>val_accuracy</td><td>▁▆▇▇██</td></tr><tr><td>val_loss</td><td>█▂▂▁▃▆</td></tr></table><br/></div><div class=\"wandb-col\">\n",
       "<h3>Run summary:</h3><br/><table class=\"wandb\"><tr><td>avg epoch runtime (seconds)</td><td>7.92971</td></tr><tr><td>epoch</td><td>6.0</td></tr><tr><td>epoch_runtime (seconds)</td><td>8.25631</td></tr><tr><td>train_loss</td><td>0.40202</td></tr><tr><td>val_accuracy</td><td>0.6765</td></tr><tr><td>val_loss</td><td>1.09496</td></tr></table>\n",
       "</div></div>\n",
       "Synced 5 W&B file(s), 0 media file(s), 0 artifact file(s) and 0 other file(s)\n",
       "<br/>Synced <strong style=\"color:#cdcd00\">crimson-sweep-6</strong>: <a href=\"https://wandb.ai/joshuapaperspace/test-project/runs/e32onto0\" target=\"_blank\">https://wandb.ai/joshuapaperspace/test-project/runs/e32onto0</a><br/>\n",
       "Find logs at: <code>./wandb/run-20220217_171420-e32onto0/logs</code><br/>\n"
      ],
      "text/plain": [
       "<IPython.core.display.HTML object>"
      ]
     },
     "metadata": {},
     "output_type": "display_data",
     "transient": {}
    },
    {
     "name": "stdout",
     "output_type": "stream",
     "text": [
      "Training Finished\n"
     ]
    },
    {
     "name": "stderr",
     "output_type": "stream",
     "text": [
      "\u001b[34m\u001b[1mwandb\u001b[0m: Agent Starting Run: 0s18vhcw with config:\n"
     ]
    },
    {
     "name": "stderr",
     "output_type": "stream",
     "text": [
      "\u001b[34m\u001b[1mwandb\u001b[0m: \tbatch_size: 128\n"
     ]
    },
    {
     "name": "stderr",
     "output_type": "stream",
     "text": [
      "\u001b[34m\u001b[1mwandb\u001b[0m: \tepochs: 6\n"
     ]
    },
    {
     "name": "stderr",
     "output_type": "stream",
     "text": [
      "\u001b[34m\u001b[1mwandb\u001b[0m: \tlr: 0.0001\n"
     ]
    },
    {
     "name": "stderr",
     "output_type": "stream",
     "text": [
      "\u001b[34m\u001b[1mwandb\u001b[0m: \tmodel: ResNet18\n"
     ]
    },
    {
     "name": "stderr",
     "output_type": "stream",
     "text": [
      "\u001b[34m\u001b[1mwandb\u001b[0m: \u001b[33mWARNING\u001b[0m Ignored wandb.init() arg project when running a sweep.\n"
     ]
    },
    {
     "data": {
      "text/html": [
       "\n",
       "                    Syncing run <strong><a href=\"https://wandb.ai/joshuapaperspace/test-project/runs/0s18vhcw\" target=\"_blank\">lucky-sweep-7</a></strong> to <a href=\"https://wandb.ai/joshuapaperspace/test-project\" target=\"_blank\">Weights & Biases</a> (<a href=\"https://docs.wandb.com/integrations/jupyter.html\" target=\"_blank\">docs</a>).<br/>\n",
       "Sweep page: <a href=\"https://wandb.ai/joshuapaperspace/test-project/sweeps/wuz0x8de\" target=\"_blank\">https://wandb.ai/joshuapaperspace/test-project/sweeps/wuz0x8de</a><br/>\n",
       "\n",
       "                "
      ],
      "text/plain": [
       "<IPython.core.display.HTML object>"
      ]
     },
     "metadata": {},
     "output_type": "display_data",
     "transient": {}
    },
    {
     "name": "stdout",
     "output_type": "stream",
     "text": [
      "epoch: 0.125\n",
      "[1,    50] loss: 2.114\n"
     ]
    },
    {
     "name": "stdout",
     "output_type": "stream",
     "text": [
      "epoch: 0.25\n",
      "[1,   100] loss: 1.731\n"
     ]
    },
    {
     "name": "stdout",
     "output_type": "stream",
     "text": [
      "epoch: 0.375\n",
      "[1,   150] loss: 1.599\n"
     ]
    },
    {
     "name": "stdout",
     "output_type": "stream",
     "text": [
      "epoch: 0.5\n",
      "[1,   200] loss: 1.513\n"
     ]
    },
    {
     "name": "stdout",
     "output_type": "stream",
     "text": [
      "epoch: 0.625\n",
      "[1,   250] loss: 1.456\n"
     ]
    },
    {
     "name": "stdout",
     "output_type": "stream",
     "text": [
      "epoch: 0.75\n",
      "[1,   300] loss: 1.422\n"
     ]
    },
    {
     "name": "stdout",
     "output_type": "stream",
     "text": [
      "epoch: 0.875\n",
      "[1,   350] loss: 1.398\n"
     ]
    },
    {
     "name": "stdout",
     "output_type": "stream",
     "text": [
      "epoch: 1.0\n",
      "[1,   400] loss: 1.387\n"
     ]
    },
    {
     "name": "stdout",
     "output_type": "stream",
     "text": [
      "Valid Loss: 1.298747, accuracy: 0.53\n"
     ]
    },
    {
     "name": "stdout",
     "output_type": "stream",
     "text": [
      "epoch: 1.125\n",
      "[2,    50] loss: 1.231\n"
     ]
    },
    {
     "name": "stdout",
     "output_type": "stream",
     "text": [
      "epoch: 1.25\n",
      "[2,   100] loss: 1.219\n"
     ]
    },
    {
     "name": "stdout",
     "output_type": "stream",
     "text": [
      "epoch: 1.375\n",
      "[2,   150] loss: 1.207\n"
     ]
    },
    {
     "name": "stdout",
     "output_type": "stream",
     "text": [
      "epoch: 1.5\n",
      "[2,   200] loss: 1.196\n"
     ]
    },
    {
     "name": "stdout",
     "output_type": "stream",
     "text": [
      "epoch: 1.625\n",
      "[2,   250] loss: 1.184\n"
     ]
    },
    {
     "name": "stdout",
     "output_type": "stream",
     "text": [
      "epoch: 1.75\n",
      "[2,   300] loss: 1.161\n"
     ]
    },
    {
     "name": "stdout",
     "output_type": "stream",
     "text": [
      "epoch: 1.875\n",
      "[2,   350] loss: 1.164\n"
     ]
    },
    {
     "name": "stdout",
     "output_type": "stream",
     "text": [
      "epoch: 2.0\n",
      "[2,   400] loss: 1.172\n"
     ]
    },
    {
     "name": "stdout",
     "output_type": "stream",
     "text": [
      "Valid Loss: 1.192872, accuracy: 0.56\n"
     ]
    },
    {
     "name": "stdout",
     "output_type": "stream",
     "text": [
      "epoch: 2.125\n",
      "[3,    50] loss: 1.037\n"
     ]
    },
    {
     "name": "stdout",
     "output_type": "stream",
     "text": [
      "epoch: 2.25\n",
      "[3,   100] loss: 1.034\n"
     ]
    },
    {
     "name": "stdout",
     "output_type": "stream",
     "text": [
      "epoch: 2.375\n",
      "[3,   150] loss: 1.035\n"
     ]
    },
    {
     "name": "stdout",
     "output_type": "stream",
     "text": [
      "epoch: 2.5\n",
      "[3,   200] loss: 1.013\n"
     ]
    },
    {
     "name": "stdout",
     "output_type": "stream",
     "text": [
      "epoch: 2.625\n",
      "[3,   250] loss: 1.020\n"
     ]
    },
    {
     "name": "stdout",
     "output_type": "stream",
     "text": [
      "epoch: 2.75\n",
      "[3,   300] loss: 1.011\n"
     ]
    },
    {
     "name": "stdout",
     "output_type": "stream",
     "text": [
      "epoch: 2.875\n",
      "[3,   350] loss: 1.025\n"
     ]
    },
    {
     "name": "stdout",
     "output_type": "stream",
     "text": [
      "epoch: 3.0\n",
      "[3,   400] loss: 1.021\n"
     ]
    },
    {
     "name": "stdout",
     "output_type": "stream",
     "text": [
      "Valid Loss: 1.157583, accuracy: 0.59\n"
     ]
    },
    {
     "name": "stdout",
     "output_type": "stream",
     "text": [
      "epoch: 3.125\n",
      "[4,    50] loss: 0.877\n"
     ]
    },
    {
     "name": "stdout",
     "output_type": "stream",
     "text": [
      "epoch: 3.25\n",
      "[4,   100] loss: 0.871\n"
     ]
    },
    {
     "name": "stdout",
     "output_type": "stream",
     "text": [
      "epoch: 3.375\n",
      "[4,   150] loss: 0.901\n"
     ]
    },
    {
     "name": "stdout",
     "output_type": "stream",
     "text": [
      "epoch: 3.5\n",
      "[4,   200] loss: 0.901\n"
     ]
    },
    {
     "name": "stdout",
     "output_type": "stream",
     "text": [
      "epoch: 3.625\n",
      "[4,   250] loss: 0.884\n"
     ]
    },
    {
     "name": "stdout",
     "output_type": "stream",
     "text": [
      "epoch: 3.75\n",
      "[4,   300] loss: 0.903\n"
     ]
    },
    {
     "name": "stdout",
     "output_type": "stream",
     "text": [
      "epoch: 3.875\n",
      "[4,   350] loss: 0.890\n"
     ]
    },
    {
     "name": "stdout",
     "output_type": "stream",
     "text": [
      "epoch: 4.0\n",
      "[4,   400] loss: 0.886\n"
     ]
    },
    {
     "name": "stdout",
     "output_type": "stream",
     "text": [
      "Valid Loss: 1.138892, accuracy: 0.60\n"
     ]
    },
    {
     "name": "stdout",
     "output_type": "stream",
     "text": [
      "epoch: 4.125\n",
      "[5,    50] loss: 0.719\n"
     ]
    },
    {
     "name": "stdout",
     "output_type": "stream",
     "text": [
      "epoch: 4.25\n",
      "[5,   100] loss: 0.768\n"
     ]
    },
    {
     "name": "stdout",
     "output_type": "stream",
     "text": [
      "epoch: 4.375\n",
      "[5,   150] loss: 0.764\n"
     ]
    },
    {
     "name": "stdout",
     "output_type": "stream",
     "text": [
      "epoch: 4.5\n",
      "[5,   200] loss: 0.770\n"
     ]
    },
    {
     "name": "stdout",
     "output_type": "stream",
     "text": [
      "epoch: 4.625\n",
      "[5,   250] loss: 0.795\n"
     ]
    },
    {
     "name": "stdout",
     "output_type": "stream",
     "text": [
      "epoch: 4.75\n",
      "[5,   300] loss: 0.780\n"
     ]
    },
    {
     "name": "stdout",
     "output_type": "stream",
     "text": [
      "epoch: 4.875\n",
      "[5,   350] loss: 0.790\n"
     ]
    },
    {
     "name": "stdout",
     "output_type": "stream",
     "text": [
      "epoch: 5.0\n",
      "[5,   400] loss: 0.761\n"
     ]
    },
    {
     "name": "stdout",
     "output_type": "stream",
     "text": [
      "Valid Loss: 1.151576, accuracy: 0.59\n"
     ]
    }
   ],
   "source": [
    "sweep_id = wandb.sweep(sweep_config, project=\"test-project\")\n",
    "wandb.agent(sweep_id, function=train)"
   ]
  },
  {
   "cell_type": "code",
   "execution_count": null,
   "id": "4ea80406-0edf-4da0-888e-cfa1a08a8b5f",
   "metadata": {
    "collapsed": false,
    "gradient": {
     "editing": false,
     "id": "4ea80406-0edf-4da0-888e-cfa1a08a8b5f",
     "kernelId": "0bebe956-eed4-4f15-b312-6f7872ce9933",
     "source_hidden": false
    }
   },
   "outputs": [],
   "source": []
  },
  {
   "cell_type": "code",
   "execution_count": null,
   "id": "2c11499a-0481-4a32-bcbd-0b4e4d562bc2",
   "metadata": {
    "collapsed": false,
    "gradient": {
     "editing": false,
     "id": "2c11499a-0481-4a32-bcbd-0b4e4d562bc2",
     "kernelId": "0bebe956-eed4-4f15-b312-6f7872ce9933",
     "source_hidden": false
    }
   },
   "outputs": [],
   "source": []
  },
  {
   "cell_type": "code",
   "execution_count": null,
   "id": "dba437db-4e33-4d85-8ad8-d0467c4c962d",
   "metadata": {
    "collapsed": false,
    "gradient": {
     "editing": false,
     "id": "dba437db-4e33-4d85-8ad8-d0467c4c962d",
     "kernelId": "0bebe956-eed4-4f15-b312-6f7872ce9933",
     "source_hidden": false
    }
   },
   "outputs": [],
   "source": [
    "hi = 'ResNet34-epochs-10'"
   ]
  },
  {
   "cell_type": "code",
   "execution_count": null,
   "id": "962377a0-7843-44c1-91b0-5b2e827200bb",
   "metadata": {
    "collapsed": false,
    "gradient": {
     "editing": false,
     "id": "962377a0-7843-44c1-91b0-5b2e827200bb",
     "kernelId": "0bebe956-eed4-4f15-b312-6f7872ce9933",
     "source_hidden": false
    }
   },
   "outputs": [],
   "source": [
    "pip install wandb -qqq\n",
    "python train_model_wandb.py --layers=34 --epochs=10"
   ]
  },
  {
   "cell_type": "code",
   "execution_count": null,
   "id": "07561b5f-89b6-46b1-9ea8-0a1c6f10fc19",
   "metadata": {
    "collapsed": false,
    "gradient": {
     "editing": false,
     "id": "07561b5f-89b6-46b1-9ea8-0a1c6f10fc19",
     "kernelId": "0bebe956-eed4-4f15-b312-6f7872ce9933",
     "source_hidden": false
    }
   },
   "outputs": [],
   "source": [
    "import wandb\n",
    "import os"
   ]
  },
  {
   "cell_type": "code",
   "execution_count": null,
   "id": "baf80c8a-4997-44b5-9129-3ae74d37d844",
   "metadata": {
    "collapsed": false,
    "gradient": {
     "editing": false,
     "id": "baf80c8a-4997-44b5-9129-3ae74d37d844",
     "kernelId": "0bebe956-eed4-4f15-b312-6f7872ce9933",
     "source_hidden": false
    }
   },
   "outputs": [
    {
     "name": "stderr",
     "output_type": "stream",
     "text": [
      "\u001b[34m\u001b[1mwandb\u001b[0m: Currently logged in as: \u001b[33mjoshuapaperspace\u001b[0m (use `wandb login --relogin` to force relogin)\n"
     ]
    },
    {
     "name": "stderr",
     "output_type": "stream",
     "text": [
      "\u001b[34m\u001b[1mwandb\u001b[0m: \u001b[33mWARNING\u001b[0m If you're specifying your api key in code, ensure this code is not shared publicly.\n",
      "\u001b[34m\u001b[1mwandb\u001b[0m: \u001b[33mWARNING\u001b[0m Consider setting the WANDB_API_KEY environment variable, or running `wandb login` from the command line.\n"
     ]
    },
    {
     "name": "stderr",
     "output_type": "stream",
     "text": [
      "\u001b[34m\u001b[1mwandb\u001b[0m: Appending key for api.wandb.ai to your netrc file: /root/.netrc\n"
     ]
    },
    {
     "data": {
      "text/plain": [
       "True"
      ]
     },
     "execution_count": 3,
     "metadata": {},
     "output_type": "execute_result"
    }
   ],
   "source": [
    "os.environ[\"WANDB_NOTEBOOK_NAME\"] = \"./train_model_wandb.ipynb\"\n",
    "\n",
    "# Log in to your W&B account\n",
    "## Access secrets through SDK?\n",
    "wandb.login(key='1305ff3ca47ed8cd6735ba50a3b2f6697ff94916')"
   ]
  },
  {
   "cell_type": "code",
   "execution_count": null,
   "id": "e212d1a1-854d-4674-b159-42e8f6ccbc99",
   "metadata": {
    "collapsed": false,
    "gradient": {
     "editing": false,
     "id": "e212d1a1-854d-4674-b159-42e8f6ccbc99",
     "kernelId": "0bebe956-eed4-4f15-b312-6f7872ce9933",
     "source_hidden": false
    }
   },
   "outputs": [],
   "source": []
  },
  {
   "cell_type": "code",
   "execution_count": null,
   "id": "be34c6b2-0a7a-4f40-8398-b61376d48277",
   "metadata": {
    "collapsed": true,
    "gradient": {
     "editing": false,
     "id": "be34c6b2-0a7a-4f40-8398-b61376d48277",
     "kernelId": "0bebe956-eed4-4f15-b312-6f7872ce9933",
     "source_hidden": false
    }
   },
   "outputs": [
    {
     "data": {
      "text/html": [
       "\n",
       "                    Syncing run <strong><a href=\"https://wandb.ai/joshuapaperspace/resnet-test/runs/1wr9eo9m\" target=\"_blank\">ResNet18</a></strong> to <a href=\"https://wandb.ai/joshuapaperspace/resnet-test\" target=\"_blank\">Weights & Biases</a> (<a href=\"https://docs.wandb.com/integrations/jupyter.html\" target=\"_blank\">docs</a>).<br/>\n",
       "\n",
       "                "
      ],
      "text/plain": [
       "<IPython.core.display.HTML object>"
      ]
     },
     "metadata": {},
     "output_type": "display_data",
     "transient": {}
    },
    {
     "name": "stdout",
     "output_type": "stream",
     "text": [
      "20\n",
      "125\n",
      "0.001\n",
      "ResNet18\n",
      "epoch: 1\n"
     ]
    },
    {
     "name": "stdout",
     "output_type": "stream",
     "text": [
      "inter-epoch: 0.125\n",
      "[1,    50] loss: 1.864\n"
     ]
    },
    {
     "name": "stdout",
     "output_type": "stream",
     "text": [
      "inter-epoch: 0.25\n",
      "[1,   100] loss: 1.498\n"
     ]
    },
    {
     "name": "stdout",
     "output_type": "stream",
     "text": [
      "inter-epoch: 0.375\n",
      "[1,   150] loss: 1.369\n"
     ]
    },
    {
     "name": "stdout",
     "output_type": "stream",
     "text": [
      "inter-epoch: 0.5\n",
      "[1,   200] loss: 1.305\n"
     ]
    },
    {
     "name": "stdout",
     "output_type": "stream",
     "text": [
      "inter-epoch: 0.625\n",
      "[1,   250] loss: 1.259\n"
     ]
    },
    {
     "name": "stdout",
     "output_type": "stream",
     "text": [
      "inter-epoch: 0.75\n",
      "[1,   300] loss: 1.202\n"
     ]
    },
    {
     "name": "stdout",
     "output_type": "stream",
     "text": [
      "inter-epoch: 0.875\n",
      "[1,   350] loss: 1.129\n"
     ]
    },
    {
     "name": "stdout",
     "output_type": "stream",
     "text": [
      "inter-epoch: 1.0\n",
      "[1,   400] loss: 1.082\n"
     ]
    },
    {
     "name": "stdout",
     "output_type": "stream",
     "text": [
      "Valid Loss: 1.090106, accuracy: 0.61\n",
      "epoch: 2\n"
     ]
    },
    {
     "name": "stdout",
     "output_type": "stream",
     "text": [
      "inter-epoch: 1.125\n",
      "[2,    50] loss: 0.955\n"
     ]
    },
    {
     "name": "stdout",
     "output_type": "stream",
     "text": [
      "inter-epoch: 1.25\n",
      "[2,   100] loss: 0.937\n"
     ]
    },
    {
     "name": "stdout",
     "output_type": "stream",
     "text": [
      "inter-epoch: 1.375\n",
      "[2,   150] loss: 0.922\n"
     ]
    },
    {
     "name": "stdout",
     "output_type": "stream",
     "text": [
      "inter-epoch: 1.5\n",
      "[2,   200] loss: 0.920\n"
     ]
    },
    {
     "name": "stdout",
     "output_type": "stream",
     "text": [
      "inter-epoch: 1.625\n",
      "[2,   250] loss: 0.902\n"
     ]
    },
    {
     "name": "stdout",
     "output_type": "stream",
     "text": [
      "inter-epoch: 1.75\n",
      "[2,   300] loss: 0.900\n"
     ]
    },
    {
     "name": "stdout",
     "output_type": "stream",
     "text": [
      "inter-epoch: 1.875\n",
      "[2,   350] loss: 0.908\n"
     ]
    },
    {
     "name": "stdout",
     "output_type": "stream",
     "text": [
      "inter-epoch: 2.0\n",
      "[2,   400] loss: 0.891\n"
     ]
    },
    {
     "name": "stdout",
     "output_type": "stream",
     "text": [
      "Valid Loss: 0.915937, accuracy: 0.69\n",
      "epoch: 3\n"
     ]
    },
    {
     "name": "stdout",
     "output_type": "stream",
     "text": [
      "inter-epoch: 2.125\n",
      "[3,    50] loss: 0.715\n"
     ]
    },
    {
     "name": "stdout",
     "output_type": "stream",
     "text": [
      "inter-epoch: 2.25\n",
      "[3,   100] loss: 0.716\n"
     ]
    },
    {
     "name": "stdout",
     "output_type": "stream",
     "text": [
      "inter-epoch: 2.375\n",
      "[3,   150] loss: 0.697\n"
     ]
    },
    {
     "name": "stdout",
     "output_type": "stream",
     "text": [
      "inter-epoch: 2.5\n",
      "[3,   200] loss: 0.706\n"
     ]
    },
    {
     "name": "stdout",
     "output_type": "stream",
     "text": [
      "inter-epoch: 2.625\n",
      "[3,   250] loss: 0.734\n"
     ]
    },
    {
     "name": "stdout",
     "output_type": "stream",
     "text": [
      "inter-epoch: 2.75\n",
      "[3,   300] loss: 0.743\n"
     ]
    },
    {
     "name": "stdout",
     "output_type": "stream",
     "text": [
      "inter-epoch: 2.875\n",
      "[3,   350] loss: 0.747\n"
     ]
    },
    {
     "name": "stdout",
     "output_type": "stream",
     "text": [
      "inter-epoch: 3.0\n",
      "[3,   400] loss: 0.733\n"
     ]
    },
    {
     "name": "stdout",
     "output_type": "stream",
     "text": [
      "Valid Loss: 0.903261, accuracy: 0.68\n",
      "epoch: 4\n"
     ]
    },
    {
     "name": "stdout",
     "output_type": "stream",
     "text": [
      "inter-epoch: 3.125\n",
      "[4,    50] loss: 0.554\n"
     ]
    },
    {
     "name": "stdout",
     "output_type": "stream",
     "text": [
      "inter-epoch: 3.25\n",
      "[4,   100] loss: 0.533\n"
     ]
    },
    {
     "name": "stdout",
     "output_type": "stream",
     "text": [
      "inter-epoch: 3.375\n",
      "[4,   150] loss: 0.556\n"
     ]
    },
    {
     "name": "stdout",
     "output_type": "stream",
     "text": [
      "inter-epoch: 3.5\n",
      "[4,   200] loss: 0.583\n"
     ]
    },
    {
     "name": "stdout",
     "output_type": "stream",
     "text": [
      "inter-epoch: 3.625\n",
      "[4,   250] loss: 0.590\n"
     ]
    },
    {
     "name": "stdout",
     "output_type": "stream",
     "text": [
      "inter-epoch: 3.75\n",
      "[4,   300] loss: 0.598\n"
     ]
    },
    {
     "name": "stdout",
     "output_type": "stream",
     "text": [
      "inter-epoch: 3.875\n",
      "[4,   350] loss: 0.605\n"
     ]
    },
    {
     "name": "stdout",
     "output_type": "stream",
     "text": [
      "inter-epoch: 4.0\n",
      "[4,   400] loss: 0.627\n"
     ]
    },
    {
     "name": "stdout",
     "output_type": "stream",
     "text": [
      "Valid Loss: 0.900701, accuracy: 0.70\n",
      "epoch: 5\n"
     ]
    },
    {
     "name": "stdout",
     "output_type": "stream",
     "text": [
      "inter-epoch: 4.125\n",
      "[5,    50] loss: 0.384\n"
     ]
    },
    {
     "name": "stdout",
     "output_type": "stream",
     "text": [
      "inter-epoch: 4.25\n",
      "[5,   100] loss: 0.374\n"
     ]
    },
    {
     "name": "stdout",
     "output_type": "stream",
     "text": [
      "inter-epoch: 4.375\n",
      "[5,   150] loss: 0.408\n"
     ]
    },
    {
     "name": "stdout",
     "output_type": "stream",
     "text": [
      "inter-epoch: 4.5\n",
      "[5,   200] loss: 0.483\n"
     ]
    },
    {
     "name": "stdout",
     "output_type": "stream",
     "text": [
      "inter-epoch: 4.625\n",
      "[5,   250] loss: 0.490\n"
     ]
    },
    {
     "name": "stdout",
     "output_type": "stream",
     "text": [
      "inter-epoch: 4.75\n",
      "[5,   300] loss: 0.486\n"
     ]
    },
    {
     "name": "stdout",
     "output_type": "stream",
     "text": [
      "inter-epoch: 4.875\n",
      "[5,   350] loss: 0.470\n"
     ]
    },
    {
     "name": "stdout",
     "output_type": "stream",
     "text": [
      "inter-epoch: 5.0\n",
      "[5,   400] loss: 0.530\n"
     ]
    },
    {
     "name": "stdout",
     "output_type": "stream",
     "text": [
      "Valid Loss: 0.933527, accuracy: 0.70\n",
      "epoch: 6\n"
     ]
    },
    {
     "name": "stdout",
     "output_type": "stream",
     "text": [
      "inter-epoch: 5.125\n",
      "[6,    50] loss: 0.300\n"
     ]
    },
    {
     "name": "stdout",
     "output_type": "stream",
     "text": [
      "inter-epoch: 5.25\n",
      "[6,   100] loss: 0.274\n"
     ]
    },
    {
     "name": "stdout",
     "output_type": "stream",
     "text": [
      "inter-epoch: 5.375\n",
      "[6,   150] loss: 0.298\n"
     ]
    },
    {
     "name": "stdout",
     "output_type": "stream",
     "text": [
      "inter-epoch: 5.5\n",
      "[6,   200] loss: 0.317\n"
     ]
    },
    {
     "name": "stdout",
     "output_type": "stream",
     "text": [
      "inter-epoch: 5.625\n",
      "[6,   250] loss: 0.376\n"
     ]
    },
    {
     "name": "stdout",
     "output_type": "stream",
     "text": [
      "inter-epoch: 5.75\n",
      "[6,   300] loss: 0.395\n"
     ]
    },
    {
     "name": "stdout",
     "output_type": "stream",
     "text": [
      "inter-epoch: 5.875\n",
      "[6,   350] loss: 0.423\n"
     ]
    },
    {
     "name": "stdout",
     "output_type": "stream",
     "text": [
      "inter-epoch: 6.0\n",
      "[6,   400] loss: 0.412\n"
     ]
    },
    {
     "name": "stdout",
     "output_type": "stream",
     "text": [
      "Valid Loss: 1.025811, accuracy: 0.70\n",
      "epoch: 7\n"
     ]
    },
    {
     "name": "stdout",
     "output_type": "stream",
     "text": [
      "inter-epoch: 6.125\n",
      "[7,    50] loss: 0.230\n"
     ]
    },
    {
     "name": "stdout",
     "output_type": "stream",
     "text": [
      "inter-epoch: 6.25\n",
      "[7,   100] loss: 0.215\n"
     ]
    },
    {
     "name": "stdout",
     "output_type": "stream",
     "text": [
      "inter-epoch: 6.375\n",
      "[7,   150] loss: 0.227\n"
     ]
    },
    {
     "name": "stdout",
     "output_type": "stream",
     "text": [
      "inter-epoch: 6.5\n",
      "[7,   200] loss: 0.283\n"
     ]
    },
    {
     "name": "stdout",
     "output_type": "stream",
     "text": [
      "inter-epoch: 6.625\n",
      "[7,   250] loss: 0.275\n"
     ]
    },
    {
     "name": "stdout",
     "output_type": "stream",
     "text": [
      "inter-epoch: 6.75\n",
      "[7,   300] loss: 0.294\n"
     ]
    },
    {
     "name": "stdout",
     "output_type": "stream",
     "text": [
      "inter-epoch: 6.875\n",
      "[7,   350] loss: 0.311\n"
     ]
    },
    {
     "name": "stdout",
     "output_type": "stream",
     "text": [
      "inter-epoch: 7.0\n",
      "[7,   400] loss: 0.317\n"
     ]
    },
    {
     "name": "stdout",
     "output_type": "stream",
     "text": [
      "Valid Loss: 1.147455, accuracy: 0.68\n",
      "epoch: 8\n"
     ]
    },
    {
     "name": "stdout",
     "output_type": "stream",
     "text": [
      "inter-epoch: 7.125\n",
      "[8,    50] loss: 0.173\n"
     ]
    },
    {
     "name": "stdout",
     "output_type": "stream",
     "text": [
      "inter-epoch: 7.25\n",
      "[8,   100] loss: 0.142\n"
     ]
    },
    {
     "name": "stdout",
     "output_type": "stream",
     "text": [
      "inter-epoch: 7.375\n",
      "[8,   150] loss: 0.192\n"
     ]
    },
    {
     "name": "stdout",
     "output_type": "stream",
     "text": [
      "inter-epoch: 7.5\n",
      "[8,   200] loss: 0.199\n"
     ]
    },
    {
     "name": "stdout",
     "output_type": "stream",
     "text": [
      "inter-epoch: 7.625\n",
      "[8,   250] loss: 0.231\n"
     ]
    },
    {
     "name": "stdout",
     "output_type": "stream",
     "text": [
      "inter-epoch: 7.75\n",
      "[8,   300] loss: 0.249\n"
     ]
    },
    {
     "name": "stdout",
     "output_type": "stream",
     "text": [
      "inter-epoch: 7.875\n",
      "[8,   350] loss: 0.226\n"
     ]
    },
    {
     "name": "stdout",
     "output_type": "stream",
     "text": [
      "inter-epoch: 8.0\n",
      "[8,   400] loss: 0.256\n"
     ]
    },
    {
     "name": "stdout",
     "output_type": "stream",
     "text": [
      "Valid Loss: 1.130768, accuracy: 0.71\n",
      "epoch: 9\n"
     ]
    },
    {
     "name": "stdout",
     "output_type": "stream",
     "text": [
      "inter-epoch: 8.125\n",
      "[9,    50] loss: 0.157\n"
     ]
    },
    {
     "name": "stdout",
     "output_type": "stream",
     "text": [
      "inter-epoch: 8.25\n",
      "[9,   100] loss: 0.129\n"
     ]
    },
    {
     "name": "stdout",
     "output_type": "stream",
     "text": [
      "inter-epoch: 8.375\n",
      "[9,   150] loss: 0.136\n"
     ]
    },
    {
     "name": "stdout",
     "output_type": "stream",
     "text": [
      "inter-epoch: 8.5\n",
      "[9,   200] loss: 0.150\n"
     ]
    },
    {
     "name": "stdout",
     "output_type": "stream",
     "text": [
      "inter-epoch: 8.625\n",
      "[9,   250] loss: 0.164\n"
     ]
    },
    {
     "name": "stdout",
     "output_type": "stream",
     "text": [
      "inter-epoch: 8.75\n",
      "[9,   300] loss: 0.165\n"
     ]
    },
    {
     "name": "stdout",
     "output_type": "stream",
     "text": [
      "inter-epoch: 8.875\n",
      "[9,   350] loss: 0.197\n"
     ]
    },
    {
     "name": "stdout",
     "output_type": "stream",
     "text": [
      "inter-epoch: 9.0\n",
      "[9,   400] loss: 0.223\n"
     ]
    },
    {
     "name": "stdout",
     "output_type": "stream",
     "text": [
      "Valid Loss: 1.235499, accuracy: 0.71\n",
      "epoch: 10\n"
     ]
    },
    {
     "name": "stdout",
     "output_type": "stream",
     "text": [
      "inter-epoch: 9.125\n",
      "[10,    50] loss: 0.142\n"
     ]
    },
    {
     "name": "stdout",
     "output_type": "stream",
     "text": [
      "inter-epoch: 9.25\n",
      "[10,   100] loss: 0.121\n"
     ]
    },
    {
     "name": "stdout",
     "output_type": "stream",
     "text": [
      "inter-epoch: 9.375\n",
      "[10,   150] loss: 0.123\n"
     ]
    },
    {
     "name": "stdout",
     "output_type": "stream",
     "text": [
      "inter-epoch: 9.5\n",
      "[10,   200] loss: 0.130\n"
     ]
    },
    {
     "name": "stdout",
     "output_type": "stream",
     "text": [
      "inter-epoch: 9.625\n",
      "[10,   250] loss: 0.135\n"
     ]
    },
    {
     "name": "stdout",
     "output_type": "stream",
     "text": [
      "inter-epoch: 9.75\n",
      "[10,   300] loss: 0.155\n"
     ]
    },
    {
     "name": "stdout",
     "output_type": "stream",
     "text": [
      "inter-epoch: 9.875\n",
      "[10,   350] loss: 0.181\n"
     ]
    },
    {
     "name": "stdout",
     "output_type": "stream",
     "text": [
      "inter-epoch: 10.0\n",
      "[10,   400] loss: 0.176\n"
     ]
    },
    {
     "name": "stdout",
     "output_type": "stream",
     "text": [
      "Valid Loss: 1.287606, accuracy: 0.71\n",
      "epoch: 11\n"
     ]
    },
    {
     "name": "stdout",
     "output_type": "stream",
     "text": [
      "inter-epoch: 10.125\n",
      "[11,    50] loss: 0.091\n"
     ]
    },
    {
     "name": "stdout",
     "output_type": "stream",
     "text": [
      "inter-epoch: 10.25\n",
      "[11,   100] loss: 0.090\n"
     ]
    },
    {
     "name": "stdout",
     "output_type": "stream",
     "text": [
      "inter-epoch: 10.375\n",
      "[11,   150] loss: 0.085\n"
     ]
    },
    {
     "name": "stdout",
     "output_type": "stream",
     "text": [
      "inter-epoch: 10.5\n",
      "[11,   200] loss: 0.102\n"
     ]
    },
    {
     "name": "stdout",
     "output_type": "stream",
     "text": [
      "inter-epoch: 10.625\n",
      "[11,   250] loss: 0.107\n"
     ]
    },
    {
     "name": "stdout",
     "output_type": "stream",
     "text": [
      "inter-epoch: 10.75\n",
      "[11,   300] loss: 0.109\n"
     ]
    },
    {
     "name": "stdout",
     "output_type": "stream",
     "text": [
      "inter-epoch: 10.875\n",
      "[11,   350] loss: 0.122\n"
     ]
    },
    {
     "name": "stdout",
     "output_type": "stream",
     "text": [
      "inter-epoch: 11.0\n",
      "[11,   400] loss: 0.131\n"
     ]
    },
    {
     "name": "stdout",
     "output_type": "stream",
     "text": [
      "Valid Loss: 1.388063, accuracy: 0.71\n",
      "epoch: 12\n"
     ]
    },
    {
     "name": "stdout",
     "output_type": "stream",
     "text": [
      "inter-epoch: 11.125\n",
      "[12,    50] loss: 0.093\n"
     ]
    },
    {
     "name": "stdout",
     "output_type": "stream",
     "text": [
      "inter-epoch: 11.25\n",
      "[12,   100] loss: 0.078\n"
     ]
    },
    {
     "name": "stdout",
     "output_type": "stream",
     "text": [
      "inter-epoch: 11.375\n",
      "[12,   150] loss: 0.085\n"
     ]
    },
    {
     "name": "stdout",
     "output_type": "stream",
     "text": [
      "inter-epoch: 11.5\n",
      "[12,   200] loss: 0.093\n"
     ]
    },
    {
     "name": "stdout",
     "output_type": "stream",
     "text": [
      "inter-epoch: 11.625\n",
      "[12,   250] loss: 0.103\n"
     ]
    },
    {
     "name": "stdout",
     "output_type": "stream",
     "text": [
      "inter-epoch: 11.75\n",
      "[12,   300] loss: 0.110\n"
     ]
    },
    {
     "name": "stdout",
     "output_type": "stream",
     "text": [
      "inter-epoch: 11.875\n",
      "[12,   350] loss: 0.100\n"
     ]
    },
    {
     "name": "stdout",
     "output_type": "stream",
     "text": [
      "inter-epoch: 12.0\n",
      "[12,   400] loss: 0.099\n"
     ]
    },
    {
     "name": "stdout",
     "output_type": "stream",
     "text": [
      "Valid Loss: 1.324412, accuracy: 0.72\n",
      "epoch: 13\n"
     ]
    },
    {
     "name": "stdout",
     "output_type": "stream",
     "text": [
      "inter-epoch: 12.125\n",
      "[13,    50] loss: 0.061\n"
     ]
    },
    {
     "name": "stdout",
     "output_type": "stream",
     "text": [
      "inter-epoch: 12.25\n",
      "[13,   100] loss: 0.069\n"
     ]
    },
    {
     "name": "stdout",
     "output_type": "stream",
     "text": [
      "inter-epoch: 12.375\n",
      "[13,   150] loss: 0.066\n"
     ]
    },
    {
     "name": "stdout",
     "output_type": "stream",
     "text": [
      "inter-epoch: 12.5\n",
      "[13,   200] loss: 0.064\n"
     ]
    },
    {
     "name": "stdout",
     "output_type": "stream",
     "text": [
      "inter-epoch: 12.625\n",
      "[13,   250] loss: 0.059\n"
     ]
    },
    {
     "name": "stdout",
     "output_type": "stream",
     "text": [
      "inter-epoch: 12.75\n",
      "[13,   300] loss: 0.057\n"
     ]
    },
    {
     "name": "stdout",
     "output_type": "stream",
     "text": [
      "inter-epoch: 12.875\n",
      "[13,   350] loss: 0.071\n"
     ]
    },
    {
     "name": "stdout",
     "output_type": "stream",
     "text": [
      "inter-epoch: 13.0\n",
      "[13,   400] loss: 0.096\n"
     ]
    },
    {
     "name": "stdout",
     "output_type": "stream",
     "text": [
      "Valid Loss: 1.434931, accuracy: 0.71\n",
      "epoch: 14\n"
     ]
    },
    {
     "name": "stdout",
     "output_type": "stream",
     "text": [
      "inter-epoch: 13.125\n",
      "[14,    50] loss: 0.069\n"
     ]
    },
    {
     "name": "stdout",
     "output_type": "stream",
     "text": [
      "inter-epoch: 13.25\n",
      "[14,   100] loss: 0.048\n"
     ]
    },
    {
     "name": "stdout",
     "output_type": "stream",
     "text": [
      "inter-epoch: 13.375\n",
      "[14,   150] loss: 0.054\n"
     ]
    },
    {
     "name": "stdout",
     "output_type": "stream",
     "text": [
      "inter-epoch: 13.5\n",
      "[14,   200] loss: 0.051\n"
     ]
    },
    {
     "name": "stdout",
     "output_type": "stream",
     "text": [
      "inter-epoch: 13.625\n",
      "[14,   250] loss: 0.054\n"
     ]
    },
    {
     "name": "stdout",
     "output_type": "stream",
     "text": [
      "inter-epoch: 13.75\n",
      "[14,   300] loss: 0.058\n"
     ]
    },
    {
     "name": "stdout",
     "output_type": "stream",
     "text": [
      "inter-epoch: 13.875\n",
      "[14,   350] loss: 0.069\n"
     ]
    },
    {
     "name": "stdout",
     "output_type": "stream",
     "text": [
      "inter-epoch: 14.0\n",
      "[14,   400] loss: 0.065\n"
     ]
    },
    {
     "name": "stdout",
     "output_type": "stream",
     "text": [
      "Valid Loss: 1.327967, accuracy: 0.74\n",
      "epoch: 15\n"
     ]
    },
    {
     "name": "stdout",
     "output_type": "stream",
     "text": [
      "inter-epoch: 14.125\n",
      "[15,    50] loss: 0.035\n"
     ]
    },
    {
     "name": "stdout",
     "output_type": "stream",
     "text": [
      "inter-epoch: 14.25\n",
      "[15,   100] loss: 0.037\n"
     ]
    },
    {
     "name": "stdout",
     "output_type": "stream",
     "text": [
      "inter-epoch: 14.375\n",
      "[15,   150] loss: 0.033\n"
     ]
    },
    {
     "name": "stdout",
     "output_type": "stream",
     "text": [
      "inter-epoch: 14.5\n",
      "[15,   200] loss: 0.040\n"
     ]
    },
    {
     "name": "stdout",
     "output_type": "stream",
     "text": [
      "inter-epoch: 14.625\n",
      "[15,   250] loss: 0.047\n"
     ]
    },
    {
     "name": "stdout",
     "output_type": "stream",
     "text": [
      "inter-epoch: 14.75\n",
      "[15,   300] loss: 0.055\n"
     ]
    },
    {
     "name": "stdout",
     "output_type": "stream",
     "text": [
      "inter-epoch: 14.875\n",
      "[15,   350] loss: 0.054\n"
     ]
    },
    {
     "name": "stdout",
     "output_type": "stream",
     "text": [
      "inter-epoch: 15.0\n",
      "[15,   400] loss: 0.065\n"
     ]
    },
    {
     "name": "stdout",
     "output_type": "stream",
     "text": [
      "Valid Loss: 1.473969, accuracy: 0.71\n",
      "epoch: 16\n"
     ]
    },
    {
     "name": "stdout",
     "output_type": "stream",
     "text": [
      "inter-epoch: 15.125\n",
      "[16,    50] loss: 0.057\n"
     ]
    },
    {
     "name": "stdout",
     "output_type": "stream",
     "text": [
      "inter-epoch: 15.25\n",
      "[16,   100] loss: 0.054\n"
     ]
    },
    {
     "name": "stdout",
     "output_type": "stream",
     "text": [
      "inter-epoch: 15.375\n",
      "[16,   150] loss: 0.048\n"
     ]
    },
    {
     "name": "stdout",
     "output_type": "stream",
     "text": [
      "inter-epoch: 15.5\n",
      "[16,   200] loss: 0.046\n"
     ]
    },
    {
     "name": "stdout",
     "output_type": "stream",
     "text": [
      "inter-epoch: 15.625\n",
      "[16,   250] loss: 0.044\n"
     ]
    },
    {
     "name": "stdout",
     "output_type": "stream",
     "text": [
      "inter-epoch: 15.75\n",
      "[16,   300] loss: 0.050\n"
     ]
    },
    {
     "name": "stdout",
     "output_type": "stream",
     "text": [
      "inter-epoch: 15.875\n",
      "[16,   350] loss: 0.065\n"
     ]
    },
    {
     "name": "stdout",
     "output_type": "stream",
     "text": [
      "inter-epoch: 16.0\n",
      "[16,   400] loss: 0.085\n"
     ]
    },
    {
     "name": "stdout",
     "output_type": "stream",
     "text": [
      "Valid Loss: 1.568885, accuracy: 0.71\n",
      "epoch: 17\n"
     ]
    },
    {
     "name": "stdout",
     "output_type": "stream",
     "text": [
      "inter-epoch: 16.125\n",
      "[17,    50] loss: 0.054\n"
     ]
    },
    {
     "name": "stdout",
     "output_type": "stream",
     "text": [
      "inter-epoch: 16.25\n",
      "[17,   100] loss: 0.047\n"
     ]
    },
    {
     "name": "stdout",
     "output_type": "stream",
     "text": [
      "inter-epoch: 16.375\n",
      "[17,   150] loss: 0.046\n"
     ]
    },
    {
     "name": "stdout",
     "output_type": "stream",
     "text": [
      "inter-epoch: 16.5\n",
      "[17,   200] loss: 0.042\n"
     ]
    },
    {
     "name": "stdout",
     "output_type": "stream",
     "text": [
      "inter-epoch: 16.625\n",
      "[17,   250] loss: 0.050\n"
     ]
    },
    {
     "name": "stdout",
     "output_type": "stream",
     "text": [
      "inter-epoch: 16.75\n",
      "[17,   300] loss: 0.064\n"
     ]
    },
    {
     "name": "stdout",
     "output_type": "stream",
     "text": [
      "inter-epoch: 16.875\n",
      "[17,   350] loss: 0.058\n"
     ]
    },
    {
     "name": "stdout",
     "output_type": "stream",
     "text": [
      "inter-epoch: 17.0\n",
      "[17,   400] loss: 0.084\n"
     ]
    },
    {
     "name": "stdout",
     "output_type": "stream",
     "text": [
      "Valid Loss: 1.480694, accuracy: 0.73\n",
      "epoch: 18\n"
     ]
    },
    {
     "name": "stdout",
     "output_type": "stream",
     "text": [
      "inter-epoch: 17.125\n",
      "[18,    50] loss: 0.045\n"
     ]
    },
    {
     "name": "stdout",
     "output_type": "stream",
     "text": [
      "inter-epoch: 17.25\n",
      "[18,   100] loss: 0.045\n"
     ]
    },
    {
     "name": "stdout",
     "output_type": "stream",
     "text": [
      "inter-epoch: 17.375\n",
      "[18,   150] loss: 0.049\n"
     ]
    },
    {
     "name": "stdout",
     "output_type": "stream",
     "text": [
      "inter-epoch: 17.5\n",
      "[18,   200] loss: 0.043\n"
     ]
    },
    {
     "name": "stdout",
     "output_type": "stream",
     "text": [
      "inter-epoch: 17.625\n",
      "[18,   250] loss: 0.043\n"
     ]
    },
    {
     "name": "stdout",
     "output_type": "stream",
     "text": [
      "inter-epoch: 17.75\n",
      "[18,   300] loss: 0.057\n"
     ]
    },
    {
     "name": "stdout",
     "output_type": "stream",
     "text": [
      "inter-epoch: 17.875\n",
      "[18,   350] loss: 0.052\n"
     ]
    },
    {
     "name": "stdout",
     "output_type": "stream",
     "text": [
      "inter-epoch: 18.0\n",
      "[18,   400] loss: 0.056\n"
     ]
    },
    {
     "name": "stdout",
     "output_type": "stream",
     "text": [
      "Valid Loss: 1.481240, accuracy: 0.73\n",
      "epoch: 19\n"
     ]
    },
    {
     "name": "stdout",
     "output_type": "stream",
     "text": [
      "inter-epoch: 18.125\n",
      "[19,    50] loss: 0.038\n"
     ]
    },
    {
     "name": "stdout",
     "output_type": "stream",
     "text": [
      "inter-epoch: 18.25\n",
      "[19,   100] loss: 0.034\n"
     ]
    },
    {
     "name": "stdout",
     "output_type": "stream",
     "text": [
      "inter-epoch: 18.375\n",
      "[19,   150] loss: 0.030\n"
     ]
    },
    {
     "name": "stdout",
     "output_type": "stream",
     "text": [
      "inter-epoch: 18.5\n",
      "[19,   200] loss: 0.029\n"
     ]
    },
    {
     "name": "stdout",
     "output_type": "stream",
     "text": [
      "inter-epoch: 18.625\n",
      "[19,   250] loss: 0.030\n"
     ]
    },
    {
     "name": "stdout",
     "output_type": "stream",
     "text": [
      "inter-epoch: 18.75\n",
      "[19,   300] loss: 0.033\n"
     ]
    },
    {
     "name": "stdout",
     "output_type": "stream",
     "text": [
      "inter-epoch: 18.875\n",
      "[19,   350] loss: 0.037\n"
     ]
    },
    {
     "name": "stdout",
     "output_type": "stream",
     "text": [
      "inter-epoch: 19.0\n",
      "[19,   400] loss: 0.035\n"
     ]
    },
    {
     "name": "stdout",
     "output_type": "stream",
     "text": [
      "Valid Loss: 1.464637, accuracy: 0.73\n",
      "epoch: 20\n"
     ]
    },
    {
     "name": "stdout",
     "output_type": "stream",
     "text": [
      "inter-epoch: 19.125\n",
      "[20,    50] loss: 0.030\n"
     ]
    },
    {
     "name": "stdout",
     "output_type": "stream",
     "text": [
      "inter-epoch: 19.25\n",
      "[20,   100] loss: 0.025\n"
     ]
    },
    {
     "name": "stdout",
     "output_type": "stream",
     "text": [
      "inter-epoch: 19.375\n",
      "[20,   150] loss: 0.028\n"
     ]
    },
    {
     "name": "stdout",
     "output_type": "stream",
     "text": [
      "inter-epoch: 19.5\n",
      "[20,   200] loss: 0.024\n"
     ]
    },
    {
     "name": "stdout",
     "output_type": "stream",
     "text": [
      "inter-epoch: 19.625\n",
      "[20,   250] loss: 0.022\n"
     ]
    },
    {
     "name": "stdout",
     "output_type": "stream",
     "text": [
      "inter-epoch: 19.75\n",
      "[20,   300] loss: 0.025\n"
     ]
    },
    {
     "name": "stdout",
     "output_type": "stream",
     "text": [
      "inter-epoch: 19.875\n",
      "[20,   350] loss: 0.023\n"
     ]
    },
    {
     "name": "stdout",
     "output_type": "stream",
     "text": [
      "inter-epoch: 20.0\n",
      "[20,   400] loss: 0.033\n"
     ]
    },
    {
     "name": "stdout",
     "output_type": "stream",
     "text": [
      "Valid Loss: 1.527229, accuracy: 0.73\n"
     ]
    },
    {
     "data": {
      "text/html": [
       "<br/>Waiting for W&B process to finish, PID 5195... <strong style=\"color:green\">(success).</strong>"
      ],
      "text/plain": [
       "<IPython.core.display.HTML object>"
      ]
     },
     "metadata": {},
     "output_type": "display_data",
     "transient": {}
    },
    {
     "data": {
      "text/html": [
       "<style>\n",
       "    table.wandb td:nth-child(1) { padding: 0 10px; text-align: right }\n",
       "    .wandb-row { display: flex; flex-direction: row; flex-wrap: wrap; width: 100% }\n",
       "    .wandb-col { display: flex; flex-direction: column; flex-basis: 100%; flex: 1; padding: 10px; }\n",
       "    </style>\n",
       "<div class=\"wandb-row\"><div class=\"wandb-col\">\n",
       "<h3>Run history:</h3><br/><table class=\"wandb\"><tr><td>avg epoch runtime (seconds)</td><td>▁</td></tr><tr><td>epoch</td><td>▁▁▁▂▂▂▂▂▂▃▃▃▃▃▃▄▄▄▄▄▅▅▅▅▅▅▆▆▆▆▆▆▇▇▇▇▇███</td></tr><tr><td>epoch_runtime (seconds)</td><td>▅▂▂▁▁▃▂▅▁▃▄▂▂▅▄▃▁▂█▅</td></tr><tr><td>train_loss</td><td>█▇▅▅▄▄▃▄▃▃▂▃▂▂▂▂▁▂▁▂▁▁▁▁▁▁▁▁▁▁▁▁▁▁▁▁▁▁▁▁</td></tr><tr><td>val_accuracy</td><td>▁▅▅▆▆▆▅▇▆▆▆▇▆█▆▆▇▇█▇</td></tr><tr><td>val_loss</td><td>▃▁▁▁▁▂▄▃▅▅▆▅▇▅▇█▇▇▇█</td></tr></table><br/></div><div class=\"wandb-col\">\n",
       "<h3>Run summary:</h3><br/><table class=\"wandb\"><tr><td>avg epoch runtime (seconds)</td><td>5.05526</td></tr><tr><td>epoch</td><td>20.0</td></tr><tr><td>epoch_runtime (seconds)</td><td>5.20448</td></tr><tr><td>train_loss</td><td>0.03323</td></tr><tr><td>val_accuracy</td><td>0.728</td></tr><tr><td>val_loss</td><td>1.52723</td></tr></table>\n",
       "</div></div>\n",
       "Synced 5 W&B file(s), 0 media file(s), 0 artifact file(s) and 0 other file(s)\n",
       "<br/>Synced <strong style=\"color:#cdcd00\">ResNet18</strong>: <a href=\"https://wandb.ai/joshuapaperspace/resnet-test/runs/1wr9eo9m\" target=\"_blank\">https://wandb.ai/joshuapaperspace/resnet-test/runs/1wr9eo9m</a><br/>\n",
       "Find logs at: <code>./wandb/run-20220209_162928-1wr9eo9m/logs</code><br/>\n"
      ],
      "text/plain": [
       "<IPython.core.display.HTML object>"
      ]
     },
     "metadata": {},
     "output_type": "display_data",
     "transient": {}
    },
    {
     "data": {
      "text/html": [
       "\n",
       "                    Syncing run <strong><a href=\"https://wandb.ai/joshuapaperspace/resnet-test/runs/366xsrmt\" target=\"_blank\">ResNet34</a></strong> to <a href=\"https://wandb.ai/joshuapaperspace/resnet-test\" target=\"_blank\">Weights & Biases</a> (<a href=\"https://docs.wandb.com/integrations/jupyter.html\" target=\"_blank\">docs</a>).<br/>\n",
       "\n",
       "                "
      ],
      "text/plain": [
       "<IPython.core.display.HTML object>"
      ]
     },
     "metadata": {},
     "output_type": "display_data",
     "transient": {}
    },
    {
     "name": "stdout",
     "output_type": "stream",
     "text": [
      "20\n",
      "125\n",
      "0.001\n",
      "ResNet34\n",
      "epoch: 1\n"
     ]
    },
    {
     "name": "stdout",
     "output_type": "stream",
     "text": [
      "inter-epoch: 0.125\n",
      "[1,    50] loss: 1.990\n"
     ]
    },
    {
     "name": "stdout",
     "output_type": "stream",
     "text": [
      "inter-epoch: 0.25\n",
      "[1,   100] loss: 1.586\n"
     ]
    },
    {
     "name": "stdout",
     "output_type": "stream",
     "text": [
      "inter-epoch: 0.375\n",
      "[1,   150] loss: 1.406\n"
     ]
    },
    {
     "name": "stdout",
     "output_type": "stream",
     "text": [
      "inter-epoch: 0.5\n",
      "[1,   200] loss: 1.343\n"
     ]
    },
    {
     "name": "stdout",
     "output_type": "stream",
     "text": [
      "inter-epoch: 0.625\n",
      "[1,   250] loss: 1.259\n"
     ]
    },
    {
     "name": "stdout",
     "output_type": "stream",
     "text": [
      "inter-epoch: 0.75\n",
      "[1,   300] loss: 1.213\n"
     ]
    },
    {
     "name": "stdout",
     "output_type": "stream",
     "text": [
      "inter-epoch: 0.875\n",
      "[1,   350] loss: 1.190\n"
     ]
    },
    {
     "name": "stdout",
     "output_type": "stream",
     "text": [
      "inter-epoch: 1.0\n",
      "[1,   400] loss: 1.142\n"
     ]
    },
    {
     "name": "stdout",
     "output_type": "stream",
     "text": [
      "Valid Loss: 1.193628, accuracy: 0.59\n",
      "epoch: 2\n"
     ]
    },
    {
     "name": "stdout",
     "output_type": "stream",
     "text": [
      "inter-epoch: 1.125\n",
      "[2,    50] loss: 1.005\n"
     ]
    },
    {
     "name": "stdout",
     "output_type": "stream",
     "text": [
      "inter-epoch: 1.25\n",
      "[2,   100] loss: 1.007\n"
     ]
    },
    {
     "name": "stdout",
     "output_type": "stream",
     "text": [
      "inter-epoch: 1.375\n",
      "[2,   150] loss: 0.970\n"
     ]
    },
    {
     "name": "stdout",
     "output_type": "stream",
     "text": [
      "inter-epoch: 1.5\n",
      "[2,   200] loss: 0.965\n"
     ]
    },
    {
     "name": "stdout",
     "output_type": "stream",
     "text": [
      "inter-epoch: 1.625\n",
      "[2,   250] loss: 0.971\n"
     ]
    },
    {
     "name": "stdout",
     "output_type": "stream",
     "text": [
      "inter-epoch: 1.75\n",
      "[2,   300] loss: 0.939\n"
     ]
    },
    {
     "name": "stdout",
     "output_type": "stream",
     "text": [
      "inter-epoch: 1.875\n",
      "[2,   350] loss: 0.937\n"
     ]
    },
    {
     "name": "stdout",
     "output_type": "stream",
     "text": [
      "inter-epoch: 2.0\n",
      "[2,   400] loss: 0.909\n"
     ]
    },
    {
     "name": "stdout",
     "output_type": "stream",
     "text": [
      "Valid Loss: 1.014620, accuracy: 0.65\n",
      "epoch: 3\n"
     ]
    },
    {
     "name": "stdout",
     "output_type": "stream",
     "text": [
      "inter-epoch: 2.125\n",
      "[3,    50] loss: 0.728\n"
     ]
    },
    {
     "name": "stdout",
     "output_type": "stream",
     "text": [
      "inter-epoch: 2.25\n",
      "[3,   100] loss: 0.727\n"
     ]
    },
    {
     "name": "stdout",
     "output_type": "stream",
     "text": [
      "inter-epoch: 2.375\n",
      "[3,   150] loss: 0.757\n"
     ]
    },
    {
     "name": "stdout",
     "output_type": "stream",
     "text": [
      "inter-epoch: 2.5\n",
      "[3,   200] loss: 0.785\n"
     ]
    },
    {
     "name": "stdout",
     "output_type": "stream",
     "text": [
      "inter-epoch: 2.625\n",
      "[3,   250] loss: 0.800\n"
     ]
    },
    {
     "name": "stdout",
     "output_type": "stream",
     "text": [
      "inter-epoch: 2.75\n",
      "[3,   300] loss: 0.765\n"
     ]
    },
    {
     "name": "stdout",
     "output_type": "stream",
     "text": [
      "inter-epoch: 2.875\n",
      "[3,   350] loss: 0.746\n"
     ]
    },
    {
     "name": "stdout",
     "output_type": "stream",
     "text": [
      "inter-epoch: 3.0\n",
      "[3,   400] loss: 0.773\n"
     ]
    },
    {
     "name": "stdout",
     "output_type": "stream",
     "text": [
      "Valid Loss: 0.956595, accuracy: 0.68\n",
      "epoch: 4\n"
     ]
    },
    {
     "name": "stdout",
     "output_type": "stream",
     "text": [
      "inter-epoch: 3.125\n",
      "[4,    50] loss: 0.538\n"
     ]
    },
    {
     "name": "stdout",
     "output_type": "stream",
     "text": [
      "inter-epoch: 3.25\n",
      "[4,   100] loss: 0.568\n"
     ]
    },
    {
     "name": "stdout",
     "output_type": "stream",
     "text": [
      "inter-epoch: 3.375\n",
      "[4,   150] loss: 0.585\n"
     ]
    },
    {
     "name": "stdout",
     "output_type": "stream",
     "text": [
      "inter-epoch: 3.5\n",
      "[4,   200] loss: 0.613\n"
     ]
    },
    {
     "name": "stdout",
     "output_type": "stream",
     "text": [
      "inter-epoch: 3.625\n",
      "[4,   250] loss: 0.631\n"
     ]
    },
    {
     "name": "stdout",
     "output_type": "stream",
     "text": [
      "inter-epoch: 3.75\n",
      "[4,   300] loss: 0.630\n"
     ]
    },
    {
     "name": "stdout",
     "output_type": "stream",
     "text": [
      "inter-epoch: 3.875\n",
      "[4,   350] loss: 0.627\n"
     ]
    },
    {
     "name": "stdout",
     "output_type": "stream",
     "text": [
      "inter-epoch: 4.0\n",
      "[4,   400] loss: 0.640\n"
     ]
    },
    {
     "name": "stdout",
     "output_type": "stream",
     "text": [
      "Valid Loss: 0.979833, accuracy: 0.69\n",
      "epoch: 5\n"
     ]
    },
    {
     "name": "stdout",
     "output_type": "stream",
     "text": [
      "inter-epoch: 4.125\n",
      "[5,    50] loss: 0.385\n"
     ]
    },
    {
     "name": "stdout",
     "output_type": "stream",
     "text": [
      "inter-epoch: 4.25\n",
      "[5,   100] loss: 0.410\n"
     ]
    },
    {
     "name": "stdout",
     "output_type": "stream",
     "text": [
      "inter-epoch: 4.375\n",
      "[5,   150] loss: 0.447\n"
     ]
    },
    {
     "name": "stdout",
     "output_type": "stream",
     "text": [
      "inter-epoch: 4.5\n",
      "[5,   200] loss: 0.479\n"
     ]
    },
    {
     "name": "stdout",
     "output_type": "stream",
     "text": [
      "inter-epoch: 4.625\n",
      "[5,   250] loss: 0.503\n"
     ]
    },
    {
     "name": "stdout",
     "output_type": "stream",
     "text": [
      "inter-epoch: 4.75\n",
      "[5,   300] loss: 0.521\n"
     ]
    },
    {
     "name": "stdout",
     "output_type": "stream",
     "text": [
      "inter-epoch: 4.875\n",
      "[5,   350] loss: 0.537\n"
     ]
    },
    {
     "name": "stdout",
     "output_type": "stream",
     "text": [
      "inter-epoch: 5.0\n",
      "[5,   400] loss: 0.526\n"
     ]
    },
    {
     "name": "stdout",
     "output_type": "stream",
     "text": [
      "Valid Loss: 0.990239, accuracy: 0.69\n",
      "epoch: 6\n"
     ]
    },
    {
     "name": "stdout",
     "output_type": "stream",
     "text": [
      "inter-epoch: 5.125\n",
      "[6,    50] loss: 0.284\n"
     ]
    },
    {
     "name": "stdout",
     "output_type": "stream",
     "text": [
      "inter-epoch: 5.25\n",
      "[6,   100] loss: 0.298\n"
     ]
    },
    {
     "name": "stdout",
     "output_type": "stream",
     "text": [
      "inter-epoch: 5.375\n",
      "[6,   150] loss: 0.344\n"
     ]
    },
    {
     "name": "stdout",
     "output_type": "stream",
     "text": [
      "inter-epoch: 5.5\n",
      "[6,   200] loss: 0.375\n"
     ]
    },
    {
     "name": "stdout",
     "output_type": "stream",
     "text": [
      "inter-epoch: 5.625\n",
      "[6,   250] loss: 0.392\n"
     ]
    },
    {
     "name": "stdout",
     "output_type": "stream",
     "text": [
      "inter-epoch: 5.75\n",
      "[6,   300] loss: 0.406\n"
     ]
    },
    {
     "name": "stdout",
     "output_type": "stream",
     "text": [
      "inter-epoch: 5.875\n",
      "[6,   350] loss: 0.420\n"
     ]
    },
    {
     "name": "stdout",
     "output_type": "stream",
     "text": [
      "inter-epoch: 6.0\n",
      "[6,   400] loss: 0.408\n"
     ]
    },
    {
     "name": "stdout",
     "output_type": "stream",
     "text": [
      "Valid Loss: 1.048875, accuracy: 0.70\n",
      "epoch: 7\n"
     ]
    },
    {
     "name": "stdout",
     "output_type": "stream",
     "text": [
      "inter-epoch: 6.125\n",
      "[7,    50] loss: 0.226\n"
     ]
    },
    {
     "name": "stdout",
     "output_type": "stream",
     "text": [
      "inter-epoch: 6.25\n",
      "[7,   100] loss: 0.206\n"
     ]
    },
    {
     "name": "stdout",
     "output_type": "stream",
     "text": [
      "inter-epoch: 6.375\n",
      "[7,   150] loss: 0.271\n"
     ]
    },
    {
     "name": "stdout",
     "output_type": "stream",
     "text": [
      "inter-epoch: 6.5\n",
      "[7,   200] loss: 0.266\n"
     ]
    },
    {
     "name": "stdout",
     "output_type": "stream",
     "text": [
      "inter-epoch: 6.625\n",
      "[7,   250] loss: 0.307\n"
     ]
    },
    {
     "name": "stdout",
     "output_type": "stream",
     "text": [
      "inter-epoch: 6.75\n",
      "[7,   300] loss: 0.328\n"
     ]
    },
    {
     "name": "stdout",
     "output_type": "stream",
     "text": [
      "inter-epoch: 6.875\n",
      "[7,   350] loss: 0.331\n"
     ]
    },
    {
     "name": "stdout",
     "output_type": "stream",
     "text": [
      "inter-epoch: 7.0\n",
      "[7,   400] loss: 0.356\n"
     ]
    },
    {
     "name": "stdout",
     "output_type": "stream",
     "text": [
      "Valid Loss: 1.106977, accuracy: 0.70\n",
      "epoch: 8\n"
     ]
    },
    {
     "name": "stdout",
     "output_type": "stream",
     "text": [
      "inter-epoch: 7.125\n",
      "[8,    50] loss: 0.195\n"
     ]
    },
    {
     "name": "stdout",
     "output_type": "stream",
     "text": [
      "inter-epoch: 7.25\n",
      "[8,   100] loss: 0.166\n"
     ]
    },
    {
     "name": "stdout",
     "output_type": "stream",
     "text": [
      "inter-epoch: 7.375\n",
      "[8,   150] loss: 0.192\n"
     ]
    },
    {
     "name": "stdout",
     "output_type": "stream",
     "text": [
      "inter-epoch: 7.5\n",
      "[8,   200] loss: 0.214\n"
     ]
    },
    {
     "name": "stdout",
     "output_type": "stream",
     "text": [
      "inter-epoch: 7.625\n",
      "[8,   250] loss: 0.273\n"
     ]
    },
    {
     "name": "stdout",
     "output_type": "stream",
     "text": [
      "inter-epoch: 7.75\n",
      "[8,   300] loss: 0.286\n"
     ]
    },
    {
     "name": "stdout",
     "output_type": "stream",
     "text": [
      "inter-epoch: 7.875\n",
      "[8,   350] loss: 0.280\n"
     ]
    },
    {
     "name": "stdout",
     "output_type": "stream",
     "text": [
      "inter-epoch: 8.0\n",
      "[8,   400] loss: 0.257\n"
     ]
    },
    {
     "name": "stdout",
     "output_type": "stream",
     "text": [
      "Valid Loss: 1.081672, accuracy: 0.71\n",
      "epoch: 9\n"
     ]
    },
    {
     "name": "stdout",
     "output_type": "stream",
     "text": [
      "inter-epoch: 8.125\n",
      "[9,    50] loss: 0.142\n"
     ]
    },
    {
     "name": "stdout",
     "output_type": "stream",
     "text": [
      "inter-epoch: 8.25\n",
      "[9,   100] loss: 0.137\n"
     ]
    },
    {
     "name": "stdout",
     "output_type": "stream",
     "text": [
      "inter-epoch: 8.375\n",
      "[9,   150] loss: 0.149\n"
     ]
    },
    {
     "name": "stdout",
     "output_type": "stream",
     "text": [
      "inter-epoch: 8.5\n",
      "[9,   200] loss: 0.188\n"
     ]
    },
    {
     "name": "stdout",
     "output_type": "stream",
     "text": [
      "inter-epoch: 8.625\n",
      "[9,   250] loss: 0.203\n"
     ]
    },
    {
     "name": "stdout",
     "output_type": "stream",
     "text": [
      "inter-epoch: 8.75\n",
      "[9,   300] loss: 0.211\n"
     ]
    },
    {
     "name": "stdout",
     "output_type": "stream",
     "text": [
      "inter-epoch: 8.875\n",
      "[9,   350] loss: 0.207\n"
     ]
    },
    {
     "name": "stdout",
     "output_type": "stream",
     "text": [
      "inter-epoch: 9.0\n",
      "[9,   400] loss: 0.228\n"
     ]
    },
    {
     "name": "stdout",
     "output_type": "stream",
     "text": [
      "Valid Loss: 1.178297, accuracy: 0.71\n",
      "epoch: 10\n"
     ]
    },
    {
     "name": "stdout",
     "output_type": "stream",
     "text": [
      "inter-epoch: 9.125\n",
      "[10,    50] loss: 0.134\n"
     ]
    },
    {
     "name": "stdout",
     "output_type": "stream",
     "text": [
      "inter-epoch: 9.25\n",
      "[10,   100] loss: 0.109\n"
     ]
    },
    {
     "name": "stdout",
     "output_type": "stream",
     "text": [
      "inter-epoch: 9.375\n",
      "[10,   150] loss: 0.120\n"
     ]
    },
    {
     "name": "stdout",
     "output_type": "stream",
     "text": [
      "inter-epoch: 9.5\n",
      "[10,   200] loss: 0.136\n"
     ]
    },
    {
     "name": "stdout",
     "output_type": "stream",
     "text": [
      "inter-epoch: 9.625\n",
      "[10,   250] loss: 0.145\n"
     ]
    },
    {
     "name": "stdout",
     "output_type": "stream",
     "text": [
      "inter-epoch: 9.75\n",
      "[10,   300] loss: 0.156\n"
     ]
    },
    {
     "name": "stdout",
     "output_type": "stream",
     "text": [
      "inter-epoch: 9.875\n",
      "[10,   350] loss: 0.168\n"
     ]
    },
    {
     "name": "stdout",
     "output_type": "stream",
     "text": [
      "inter-epoch: 10.0\n",
      "[10,   400] loss: 0.192\n"
     ]
    },
    {
     "name": "stdout",
     "output_type": "stream",
     "text": [
      "Valid Loss: 1.335845, accuracy: 0.71\n",
      "epoch: 11\n"
     ]
    },
    {
     "name": "stdout",
     "output_type": "stream",
     "text": [
      "inter-epoch: 10.125\n",
      "[11,    50] loss: 0.127\n"
     ]
    },
    {
     "name": "stdout",
     "output_type": "stream",
     "text": [
      "inter-epoch: 10.25\n",
      "[11,   100] loss: 0.098\n"
     ]
    },
    {
     "name": "stdout",
     "output_type": "stream",
     "text": [
      "inter-epoch: 10.375\n",
      "[11,   150] loss: 0.099\n"
     ]
    },
    {
     "name": "stdout",
     "output_type": "stream",
     "text": [
      "inter-epoch: 10.5\n",
      "[11,   200] loss: 0.117\n"
     ]
    },
    {
     "name": "stdout",
     "output_type": "stream",
     "text": [
      "inter-epoch: 10.625\n",
      "[11,   250] loss: 0.138\n"
     ]
    },
    {
     "name": "stdout",
     "output_type": "stream",
     "text": [
      "inter-epoch: 10.75\n",
      "[11,   300] loss: 0.146\n"
     ]
    },
    {
     "name": "stdout",
     "output_type": "stream",
     "text": [
      "inter-epoch: 10.875\n",
      "[11,   350] loss: 0.156\n"
     ]
    },
    {
     "name": "stdout",
     "output_type": "stream",
     "text": [
      "inter-epoch: 11.0\n",
      "[11,   400] loss: 0.156\n"
     ]
    },
    {
     "name": "stdout",
     "output_type": "stream",
     "text": [
      "Valid Loss: 1.249988, accuracy: 0.72\n",
      "epoch: 12\n"
     ]
    },
    {
     "name": "stdout",
     "output_type": "stream",
     "text": [
      "inter-epoch: 11.125\n",
      "[12,    50] loss: 0.075\n"
     ]
    },
    {
     "name": "stdout",
     "output_type": "stream",
     "text": [
      "inter-epoch: 11.25\n",
      "[12,   100] loss: 0.081\n"
     ]
    },
    {
     "name": "stdout",
     "output_type": "stream",
     "text": [
      "inter-epoch: 11.375\n",
      "[12,   150] loss: 0.088\n"
     ]
    },
    {
     "name": "stdout",
     "output_type": "stream",
     "text": [
      "inter-epoch: 11.5\n",
      "[12,   200] loss: 0.082\n"
     ]
    },
    {
     "name": "stdout",
     "output_type": "stream",
     "text": [
      "inter-epoch: 11.625\n",
      "[12,   250] loss: 0.089\n"
     ]
    },
    {
     "name": "stdout",
     "output_type": "stream",
     "text": [
      "inter-epoch: 11.75\n",
      "[12,   300] loss: 0.108\n"
     ]
    },
    {
     "name": "stdout",
     "output_type": "stream",
     "text": [
      "inter-epoch: 11.875\n",
      "[12,   350] loss: 0.119\n"
     ]
    },
    {
     "name": "stdout",
     "output_type": "stream",
     "text": [
      "inter-epoch: 12.0\n",
      "[12,   400] loss: 0.129\n"
     ]
    },
    {
     "name": "stdout",
     "output_type": "stream",
     "text": [
      "Valid Loss: 1.404500, accuracy: 0.71\n",
      "epoch: 13\n"
     ]
    },
    {
     "name": "stdout",
     "output_type": "stream",
     "text": [
      "inter-epoch: 12.125\n",
      "[13,    50] loss: 0.090\n"
     ]
    },
    {
     "name": "stdout",
     "output_type": "stream",
     "text": [
      "inter-epoch: 12.25\n",
      "[13,   100] loss: 0.066\n"
     ]
    },
    {
     "name": "stdout",
     "output_type": "stream",
     "text": [
      "inter-epoch: 12.375\n",
      "[13,   150] loss: 0.073\n"
     ]
    },
    {
     "name": "stdout",
     "output_type": "stream",
     "text": [
      "inter-epoch: 12.5\n",
      "[13,   200] loss: 0.086\n"
     ]
    },
    {
     "name": "stdout",
     "output_type": "stream",
     "text": [
      "inter-epoch: 12.625\n",
      "[13,   250] loss: 0.106\n"
     ]
    },
    {
     "name": "stdout",
     "output_type": "stream",
     "text": [
      "inter-epoch: 12.75\n",
      "[13,   300] loss: 0.104\n"
     ]
    },
    {
     "name": "stdout",
     "output_type": "stream",
     "text": [
      "inter-epoch: 12.875\n",
      "[13,   350] loss: 0.119\n"
     ]
    },
    {
     "name": "stdout",
     "output_type": "stream",
     "text": [
      "inter-epoch: 13.0\n",
      "[13,   400] loss: 0.144\n"
     ]
    },
    {
     "name": "stdout",
     "output_type": "stream",
     "text": [
      "Valid Loss: 1.428244, accuracy: 0.71\n",
      "epoch: 14\n"
     ]
    },
    {
     "name": "stdout",
     "output_type": "stream",
     "text": [
      "inter-epoch: 13.125\n",
      "[14,    50] loss: 0.078\n"
     ]
    },
    {
     "name": "stdout",
     "output_type": "stream",
     "text": [
      "inter-epoch: 13.25\n",
      "[14,   100] loss: 0.072\n"
     ]
    },
    {
     "name": "stdout",
     "output_type": "stream",
     "text": [
      "inter-epoch: 13.375\n",
      "[14,   150] loss: 0.066\n"
     ]
    },
    {
     "name": "stdout",
     "output_type": "stream",
     "text": [
      "inter-epoch: 13.5\n",
      "[14,   200] loss: 0.065\n"
     ]
    },
    {
     "name": "stdout",
     "output_type": "stream",
     "text": [
      "inter-epoch: 13.625\n",
      "[14,   250] loss: 0.069\n"
     ]
    },
    {
     "name": "stdout",
     "output_type": "stream",
     "text": [
      "inter-epoch: 13.75\n",
      "[14,   300] loss: 0.077\n"
     ]
    },
    {
     "name": "stdout",
     "output_type": "stream",
     "text": [
      "inter-epoch: 13.875\n",
      "[14,   350] loss: 0.086\n"
     ]
    },
    {
     "name": "stdout",
     "output_type": "stream",
     "text": [
      "inter-epoch: 14.0\n",
      "[14,   400] loss: 0.095\n"
     ]
    },
    {
     "name": "stdout",
     "output_type": "stream",
     "text": [
      "Valid Loss: 1.471097, accuracy: 0.72\n",
      "epoch: 15\n"
     ]
    },
    {
     "name": "stdout",
     "output_type": "stream",
     "text": [
      "inter-epoch: 14.125\n",
      "[15,    50] loss: 0.060\n"
     ]
    },
    {
     "name": "stdout",
     "output_type": "stream",
     "text": [
      "inter-epoch: 14.25\n",
      "[15,   100] loss: 0.070\n"
     ]
    },
    {
     "name": "stdout",
     "output_type": "stream",
     "text": [
      "inter-epoch: 14.375\n",
      "[15,   150] loss: 0.065\n"
     ]
    },
    {
     "name": "stdout",
     "output_type": "stream",
     "text": [
      "inter-epoch: 14.5\n",
      "[15,   200] loss: 0.074\n"
     ]
    },
    {
     "name": "stdout",
     "output_type": "stream",
     "text": [
      "inter-epoch: 14.625\n",
      "[15,   250] loss: 0.072\n"
     ]
    },
    {
     "name": "stdout",
     "output_type": "stream",
     "text": [
      "inter-epoch: 14.75\n",
      "[15,   300] loss: 0.070\n"
     ]
    },
    {
     "name": "stdout",
     "output_type": "stream",
     "text": [
      "inter-epoch: 14.875\n",
      "[15,   350] loss: 0.079\n"
     ]
    },
    {
     "name": "stdout",
     "output_type": "stream",
     "text": [
      "inter-epoch: 15.0\n",
      "[15,   400] loss: 0.087\n"
     ]
    },
    {
     "name": "stdout",
     "output_type": "stream",
     "text": [
      "Valid Loss: 1.476755, accuracy: 0.71\n",
      "epoch: 16\n"
     ]
    },
    {
     "name": "stdout",
     "output_type": "stream",
     "text": [
      "inter-epoch: 15.125\n",
      "[16,    50] loss: 0.068\n"
     ]
    },
    {
     "name": "stdout",
     "output_type": "stream",
     "text": [
      "inter-epoch: 15.25\n",
      "[16,   100] loss: 0.049\n"
     ]
    },
    {
     "name": "stdout",
     "output_type": "stream",
     "text": [
      "inter-epoch: 15.375\n",
      "[16,   150] loss: 0.053\n"
     ]
    },
    {
     "name": "stdout",
     "output_type": "stream",
     "text": [
      "inter-epoch: 15.5\n",
      "[16,   200] loss: 0.058\n"
     ]
    },
    {
     "name": "stdout",
     "output_type": "stream",
     "text": [
      "inter-epoch: 15.625\n",
      "[16,   250] loss: 0.058\n"
     ]
    },
    {
     "name": "stdout",
     "output_type": "stream",
     "text": [
      "inter-epoch: 15.75\n",
      "[16,   300] loss: 0.052\n"
     ]
    },
    {
     "name": "stdout",
     "output_type": "stream",
     "text": [
      "inter-epoch: 15.875\n",
      "[16,   350] loss: 0.056\n"
     ]
    },
    {
     "name": "stdout",
     "output_type": "stream",
     "text": [
      "inter-epoch: 16.0\n",
      "[16,   400] loss: 0.062\n"
     ]
    },
    {
     "name": "stdout",
     "output_type": "stream",
     "text": [
      "Valid Loss: 1.562123, accuracy: 0.71\n",
      "epoch: 17\n"
     ]
    },
    {
     "name": "stdout",
     "output_type": "stream",
     "text": [
      "inter-epoch: 16.125\n",
      "[17,    50] loss: 0.037\n"
     ]
    },
    {
     "name": "stdout",
     "output_type": "stream",
     "text": [
      "inter-epoch: 16.25\n",
      "[17,   100] loss: 0.046\n"
     ]
    },
    {
     "name": "stdout",
     "output_type": "stream",
     "text": [
      "inter-epoch: 16.375\n",
      "[17,   150] loss: 0.051\n"
     ]
    },
    {
     "name": "stdout",
     "output_type": "stream",
     "text": [
      "inter-epoch: 16.5\n",
      "[17,   200] loss: 0.044\n"
     ]
    },
    {
     "name": "stdout",
     "output_type": "stream",
     "text": [
      "inter-epoch: 16.625\n",
      "[17,   250] loss: 0.050\n"
     ]
    },
    {
     "name": "stdout",
     "output_type": "stream",
     "text": [
      "inter-epoch: 16.75\n",
      "[17,   300] loss: 0.051\n"
     ]
    },
    {
     "name": "stdout",
     "output_type": "stream",
     "text": [
      "inter-epoch: 16.875\n",
      "[17,   350] loss: 0.059\n"
     ]
    },
    {
     "name": "stdout",
     "output_type": "stream",
     "text": [
      "inter-epoch: 17.0\n",
      "[17,   400] loss: 0.056\n"
     ]
    },
    {
     "name": "stdout",
     "output_type": "stream",
     "text": [
      "Valid Loss: 1.585756, accuracy: 0.72\n",
      "epoch: 18\n"
     ]
    },
    {
     "name": "stdout",
     "output_type": "stream",
     "text": [
      "inter-epoch: 17.125\n",
      "[18,    50] loss: 0.045\n"
     ]
    },
    {
     "name": "stdout",
     "output_type": "stream",
     "text": [
      "inter-epoch: 17.25\n",
      "[18,   100] loss: 0.038\n"
     ]
    },
    {
     "name": "stdout",
     "output_type": "stream",
     "text": [
      "inter-epoch: 17.375\n",
      "[18,   150] loss: 0.045\n"
     ]
    },
    {
     "name": "stdout",
     "output_type": "stream",
     "text": [
      "inter-epoch: 17.5\n",
      "[18,   200] loss: 0.042\n"
     ]
    },
    {
     "name": "stdout",
     "output_type": "stream",
     "text": [
      "inter-epoch: 17.625\n",
      "[18,   250] loss: 0.043\n"
     ]
    },
    {
     "name": "stdout",
     "output_type": "stream",
     "text": [
      "inter-epoch: 17.75\n",
      "[18,   300] loss: 0.057\n"
     ]
    },
    {
     "name": "stdout",
     "output_type": "stream",
     "text": [
      "inter-epoch: 17.875\n",
      "[18,   350] loss: 0.057\n"
     ]
    },
    {
     "name": "stdout",
     "output_type": "stream",
     "text": [
      "inter-epoch: 18.0\n",
      "[18,   400] loss: 0.079\n"
     ]
    },
    {
     "name": "stdout",
     "output_type": "stream",
     "text": [
      "Valid Loss: 1.573243, accuracy: 0.72\n",
      "epoch: 19\n"
     ]
    },
    {
     "name": "stdout",
     "output_type": "stream",
     "text": [
      "inter-epoch: 18.125\n",
      "[19,    50] loss: 0.053\n"
     ]
    },
    {
     "name": "stdout",
     "output_type": "stream",
     "text": [
      "inter-epoch: 18.25\n",
      "[19,   100] loss: 0.040\n"
     ]
    },
    {
     "name": "stdout",
     "output_type": "stream",
     "text": [
      "inter-epoch: 18.375\n",
      "[19,   150] loss: 0.043\n"
     ]
    },
    {
     "name": "stdout",
     "output_type": "stream",
     "text": [
      "inter-epoch: 18.5\n",
      "[19,   200] loss: 0.055\n"
     ]
    },
    {
     "name": "stdout",
     "output_type": "stream",
     "text": [
      "inter-epoch: 18.625\n",
      "[19,   250] loss: 0.051\n"
     ]
    },
    {
     "name": "stdout",
     "output_type": "stream",
     "text": [
      "inter-epoch: 18.75\n",
      "[19,   300] loss: 0.048\n"
     ]
    },
    {
     "name": "stdout",
     "output_type": "stream",
     "text": [
      "inter-epoch: 18.875\n",
      "[19,   350] loss: 0.040\n"
     ]
    },
    {
     "name": "stdout",
     "output_type": "stream",
     "text": [
      "inter-epoch: 19.0\n",
      "[19,   400] loss: 0.043\n"
     ]
    },
    {
     "name": "stdout",
     "output_type": "stream",
     "text": [
      "Valid Loss: 1.599669, accuracy: 0.72\n",
      "epoch: 20\n"
     ]
    },
    {
     "name": "stdout",
     "output_type": "stream",
     "text": [
      "inter-epoch: 19.125\n",
      "[20,    50] loss: 0.034\n"
     ]
    },
    {
     "name": "stdout",
     "output_type": "stream",
     "text": [
      "inter-epoch: 19.25\n",
      "[20,   100] loss: 0.029\n"
     ]
    },
    {
     "name": "stdout",
     "output_type": "stream",
     "text": [
      "inter-epoch: 19.375\n",
      "[20,   150] loss: 0.032\n"
     ]
    },
    {
     "name": "stdout",
     "output_type": "stream",
     "text": [
      "inter-epoch: 19.5\n",
      "[20,   200] loss: 0.020\n"
     ]
    },
    {
     "name": "stdout",
     "output_type": "stream",
     "text": [
      "inter-epoch: 19.625\n",
      "[20,   250] loss: 0.032\n"
     ]
    },
    {
     "name": "stdout",
     "output_type": "stream",
     "text": [
      "inter-epoch: 19.75\n",
      "[20,   300] loss: 0.040\n"
     ]
    },
    {
     "name": "stdout",
     "output_type": "stream",
     "text": [
      "inter-epoch: 19.875\n",
      "[20,   350] loss: 0.037\n"
     ]
    },
    {
     "name": "stdout",
     "output_type": "stream",
     "text": [
      "inter-epoch: 20.0\n",
      "[20,   400] loss: 0.052\n"
     ]
    },
    {
     "name": "stdout",
     "output_type": "stream",
     "text": [
      "Valid Loss: 1.638053, accuracy: 0.72\n"
     ]
    },
    {
     "data": {
      "text/html": [
       "<br/>Waiting for W&B process to finish, PID 6110... <strong style=\"color:green\">(success).</strong>"
      ],
      "text/plain": [
       "<IPython.core.display.HTML object>"
      ]
     },
     "metadata": {},
     "output_type": "display_data",
     "transient": {}
    },
    {
     "data": {
      "text/html": [
       "<style>\n",
       "    table.wandb td:nth-child(1) { padding: 0 10px; text-align: right }\n",
       "    .wandb-row { display: flex; flex-direction: row; flex-wrap: wrap; width: 100% }\n",
       "    .wandb-col { display: flex; flex-direction: column; flex-basis: 100%; flex: 1; padding: 10px; }\n",
       "    </style>\n",
       "<div class=\"wandb-row\"><div class=\"wandb-col\">\n",
       "<h3>Run history:</h3><br/><table class=\"wandb\"><tr><td>avg epoch runtime (seconds)</td><td>▁</td></tr><tr><td>epoch</td><td>▁▁▁▂▂▂▂▂▂▃▃▃▃▃▃▄▄▄▄▄▅▅▅▅▅▅▆▆▆▆▆▆▇▇▇▇▇███</td></tr><tr><td>epoch_runtime (seconds)</td><td>▃▄▃▅▅▅▄▇▅▃█▇▃▇▅▄▃▆▁▄</td></tr><tr><td>train_loss</td><td>█▆▅▅▄▄▃▄▃▃▂▃▂▂▂▂▁▂▁▂▁▂▁▁▁▁▁▁▁▁▁▁▁▁▁▁▁▁▁▁</td></tr><tr><td>val_accuracy</td><td>▁▄▆▆▆▇▇▇▇▇█▇▇█▇▇████</td></tr><tr><td>val_loss</td><td>▃▂▁▁▁▂▃▂▃▅▄▆▆▆▆▇▇▇██</td></tr></table><br/></div><div class=\"wandb-col\">\n",
       "<h3>Run summary:</h3><br/><table class=\"wandb\"><tr><td>avg epoch runtime (seconds)</td><td>7.63705</td></tr><tr><td>epoch</td><td>20.0</td></tr><tr><td>epoch_runtime (seconds)</td><td>7.6177</td></tr><tr><td>train_loss</td><td>0.05237</td></tr><tr><td>val_accuracy</td><td>0.717</td></tr><tr><td>val_loss</td><td>1.63805</td></tr></table>\n",
       "</div></div>\n",
       "Synced 5 W&B file(s), 0 media file(s), 0 artifact file(s) and 0 other file(s)\n",
       "<br/>Synced <strong style=\"color:#cdcd00\">ResNet34</strong>: <a href=\"https://wandb.ai/joshuapaperspace/resnet-test/runs/366xsrmt\" target=\"_blank\">https://wandb.ai/joshuapaperspace/resnet-test/runs/366xsrmt</a><br/>\n",
       "Find logs at: <code>./wandb/run-20220209_163116-366xsrmt/logs</code><br/>\n"
      ],
      "text/plain": [
       "<IPython.core.display.HTML object>"
      ]
     },
     "metadata": {},
     "output_type": "display_data",
     "transient": {}
    },
    {
     "name": "stdout",
     "output_type": "stream",
     "text": [
      "Finished Training\n"
     ]
    }
   ],
   "source": [
    "import sys, getopt\n",
    "import torch.optim as optim\n",
    "import numpy as np\n",
    "import torch\n",
    "import torch.nn as nn\n",
    "import time\n",
    "\n",
    "from resnet import resnet18, resnet34\n",
    "from load_data import trainloader, testloader, valloader\n",
    "from config.config import model_config\n",
    "\n",
    "\n",
    "# wandb.init(project=\"resnet-test\")\n",
    "\n",
    "models = ['ResNet18', 'ResNet34']\n",
    "\n",
    "for model in models:\n",
    "    with wandb.init(project=\"resnet-test\", config=model_config, name=model):\n",
    "\n",
    "        print(model_config['epochs'])\n",
    "        print(model_config['batch_size'])\n",
    "        print(model_config['lr'])\n",
    "        print(model)\n",
    "\n",
    "        if model == 'ResNet18':\n",
    "            model = resnet18(3, 10)\n",
    "        else:\n",
    "            model = resnet34(3, 10)\n",
    "\n",
    "        criterion = nn.CrossEntropyLoss()\n",
    "        # optimizer = optim.SGD(model.parameters(), lr=0.001, momentum=0.9)\n",
    "        optimizer = optim.SGD(model.parameters(), lr=model_config['lr'], momentum=0.9)\n",
    "\n",
    "        device = torch.device(\"cuda:0\" if torch.cuda.is_available() else \"cpu\")\n",
    "        model.to(device)\n",
    "\n",
    "        step = 0\n",
    "        epoch_durations = []\n",
    "        for epoch in range(model_config['epochs']):\n",
    "            \n",
    "            start_epoch_time = time.time()\n",
    "            # print(\"--- %s seconds ---\" % (time.time() - start_time))\n",
    "\n",
    "            print('epoch:', epoch+1)\n",
    "            mini_batch_check=50\n",
    "            running_loss = 0.0\n",
    "            model.train()\n",
    "\n",
    "            for i, data in enumerate(trainloader, 0):\n",
    "                # print(i)\n",
    "\n",
    "                inputs, labels = data[0].to(device), data[1].to(device)\n",
    "\n",
    "                # zero the parameter gradients\n",
    "                optimizer.zero_grad()\n",
    "\n",
    "                # forward + backward + optimize\n",
    "                outputs = model(inputs)\n",
    "                loss = criterion(outputs, labels)\n",
    "                loss.backward()\n",
    "                optimizer.step()\n",
    "                \n",
    "                # print statistics\n",
    "                running_loss += loss.item()\n",
    "                \n",
    "                if i % mini_batch_check == mini_batch_check-1:    # print every 50 mini-batches\n",
    "                    step +=1\n",
    "                    print('inter-epoch:', epoch + ((i+1)/len(trainloader)))\n",
    "                    wandb.log({\"train_loss\": running_loss/mini_batch_check, \"epoch\": epoch + ((i+1)/len(trainloader))}, step=step)\n",
    "\n",
    "                    print('[%d, %5d] loss: %.3f' %\n",
    "                        (epoch + 1, i + 1, running_loss / mini_batch_check))\n",
    "                    \n",
    "                    running_loss = 0.0\n",
    "            \n",
    "            val_loss, accuracy = validate_model(model, valloader, criterion)\n",
    "                \n",
    "            # Log validation metrics\n",
    "            wandb.log({\"val_loss\": val_loss, \"val_accuracy\": accuracy}, step=step)\n",
    "            print(f\"Valid Loss: {val_loss:3f}, accuracy: {accuracy:.2f}\")\n",
    "            epoch_duration = time.time() - start_epoch_time\n",
    "            wandb.log({\"epoch_runtime (seconds)\": epoch_duration}, step=step)\n",
    "\n",
    "            epoch_durations.append(epoch_duration)\n",
    "\n",
    "        avg_epoch_runtime = sum(epoch_durations) / len(epoch_durations)\n",
    "        wandb.log({\"avg epoch runtime (seconds)\": avg_epoch_runtime})\n",
    "        # wandb.finish()\n",
    "print('Finished Training')"
   ]
  },
  {
   "cell_type": "code",
   "execution_count": null,
   "id": "d3a23d1d-229a-458e-a422-87d82c9efc04",
   "metadata": {
    "collapsed": false,
    "gradient": {
     "editing": false,
     "id": "d3a23d1d-229a-458e-a422-87d82c9efc04",
     "kernelId": "0bebe956-eed4-4f15-b312-6f7872ce9933",
     "source_hidden": false
    }
   },
   "outputs": [],
   "source": [
    "def validate_model(model, valid_dl, loss_func, log_images=False, batch_idx=0):\n",
    "    \"Compute performance of the model on the validation dataset and log a wandb.Table\"\n",
    "    model.eval()\n",
    "    val_loss = 0.\n",
    "    with torch.inference_mode():\n",
    "        correct = 0\n",
    "        for i, (images, labels) in enumerate(valid_dl, 0):\n",
    "        # for i, (images, labels) in enumerate(valid_dl), leave=False):\n",
    "            images, labels = images.to(device), labels.to(device)\n",
    "\n",
    "            # Forward pass ➡\n",
    "            outputs = model(images)\n",
    "            val_loss += loss_func(outputs, labels)*labels.size(0)\n",
    "\n",
    "            # Compute accuracy and accumulate\n",
    "            _, predicted = torch.max(outputs.data, 1)\n",
    "            correct += (predicted == labels).sum().item()\n",
    "\n",
    "            # Log one batch of images to the dashboard, always same batch_idx.\n",
    "            # if i==batch_idx and log_images:\n",
    "                # log_image_table(images, predicted, labels, outputs.softmax(dim=1))\n",
    "    return val_loss / len(valid_dl.dataset), correct / len(valid_dl.dataset)"
   ]
  },
  {
   "cell_type": "code",
   "execution_count": null,
   "id": "179ab866-d617-4579-8d5c-e0a2b5780d60",
   "metadata": {
    "collapsed": false,
    "gradient": {
     "editing": false,
     "id": "179ab866-d617-4579-8d5c-e0a2b5780d60",
     "kernelId": "0bebe956-eed4-4f15-b312-6f7872ce9933",
     "source_hidden": false
    }
   },
   "outputs": [
    {
     "ename": "NameError",
     "evalue": "name 'trainloader' is not defined",
     "output_type": "error",
     "traceback": [
      "\u001b[0;31m---------------------------------------------------------------------------\u001b[0m",
      "\u001b[0;31mNameError\u001b[0m                                 Traceback (most recent call last)",
      "\u001b[0;32m/tmp/ipykernel_1449/3457916598.py\u001b[0m in \u001b[0;36m<module>\u001b[0;34m\u001b[0m\n\u001b[0;32m----> 1\u001b[0;31m \u001b[0;32mfor\u001b[0m \u001b[0mi\u001b[0m\u001b[0;34m,\u001b[0m \u001b[0mdata\u001b[0m \u001b[0;32min\u001b[0m \u001b[0menumerate\u001b[0m\u001b[0;34m(\u001b[0m\u001b[0mtrainloader\u001b[0m\u001b[0;34m,\u001b[0m \u001b[0;36m0\u001b[0m\u001b[0;34m)\u001b[0m\u001b[0;34m:\u001b[0m\u001b[0;34m\u001b[0m\u001b[0;34m\u001b[0m\u001b[0m\n\u001b[0m\u001b[1;32m      2\u001b[0m     \u001b[0mprint\u001b[0m\u001b[0;34m(\u001b[0m\u001b[0mdata\u001b[0m\u001b[0;34m)\u001b[0m\u001b[0;34m\u001b[0m\u001b[0;34m\u001b[0m\u001b[0m\n\u001b[1;32m      3\u001b[0m     \u001b[0mexit\u001b[0m\u001b[0;34m(\u001b[0m\u001b[0;34m)\u001b[0m\u001b[0;34m\u001b[0m\u001b[0;34m\u001b[0m\u001b[0m\n",
      "\u001b[0;31mNameError\u001b[0m: name 'trainloader' is not defined"
     ]
    }
   ],
   "source": [
    "for i, data in enumerate(trainloader, 0):\n",
    "    print(data)\n",
    "    exit()"
   ]
  },
  {
   "cell_type": "code",
   "execution_count": null,
   "id": "966bff54-97a7-453f-aa22-189986b7f0cc",
   "metadata": {
    "collapsed": false,
    "gradient": {
     "editing": false,
     "id": "966bff54-97a7-453f-aa22-189986b7f0cc",
     "kernelId": "0bebe956-eed4-4f15-b312-6f7872ce9933",
     "source_hidden": false
    }
   },
   "outputs": [
    {
     "data": {
      "text/plain": [
       "12500"
      ]
     },
     "execution_count": 5,
     "metadata": {},
     "output_type": "execute_result"
    }
   ],
   "source": [
    "len(trainloader)"
   ]
  },
  {
   "cell_type": "code",
   "execution_count": null,
   "id": "e4823f20-afb0-429b-bfb8-126f65387fe0",
   "metadata": {
    "collapsed": false,
    "gradient": {
     "editing": false,
     "id": "e4823f20-afb0-429b-bfb8-126f65387fe0",
     "kernelId": "0bebe956-eed4-4f15-b312-6f7872ce9933",
     "source_hidden": false
    }
   },
   "outputs": [
    {
     "name": "stdout",
     "output_type": "stream",
     "text": [
      "Files already downloaded and verified\n"
     ]
    },
    {
     "name": "stdout",
     "output_type": "stream",
     "text": [
      "Files already downloaded and verified\n"
     ]
    }
   ],
   "source": [
    "from load_data import trainloader"
   ]
  },
  {
   "cell_type": "code",
   "execution_count": null,
   "id": "d8f7bf2c-945c-474b-80a1-f3bdddeb6ae7",
   "metadata": {
    "collapsed": false,
    "gradient": {
     "editing": false,
     "id": "d8f7bf2c-945c-474b-80a1-f3bdddeb6ae7",
     "kernelId": "0bebe956-eed4-4f15-b312-6f7872ce9933",
     "source_hidden": false
    }
   },
   "outputs": [
    {
     "data": {
      "text/plain": [
       "12512"
      ]
     },
     "execution_count": 3,
     "metadata": {},
     "output_type": "execute_result"
    }
   ],
   "source": [
    "32*391"
   ]
  },
  {
   "cell_type": "code",
   "execution_count": null,
   "id": "0f3e73c4-b769-44c4-85f6-3067ccd94265",
   "metadata": {
    "collapsed": false,
    "gradient": {
     "editing": false,
     "id": "0f3e73c4-b769-44c4-85f6-3067ccd94265",
     "kernelId": "0bebe956-eed4-4f15-b312-6f7872ce9933",
     "source_hidden": false
    }
   },
   "outputs": [],
   "source": []
  }
 ],
 "metadata": {},
 "nbformat": 4,
 "nbformat_minor": 5
}
